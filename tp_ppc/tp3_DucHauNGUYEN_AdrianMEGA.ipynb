{
 "cells": [
  {
   "cell_type": "markdown",
   "metadata": {},
   "source": [
    "# TP3 - Optimizing with Constraint Programming - The Golomb ruler example\n",
    "\n",
    "### Duc Hau NGUYEN - Adrian MEGA"
   ]
  },
  {
   "cell_type": "markdown",
   "metadata": {},
   "source": [
    "## Golomb ruler\n",
    "\n",
    "Your goal is to place $N$ marks on a ruler, such that no two marks are at the same distance and the total length of the ruler (the position of the last mark) is minimized. \n",
    "\n",
    "<div class=\"row\" style=\"margin-top: 10px\">\n",
    "    <img src=\"display/images/Golomb_Ruler-4.svg\" style=\"display: block; margin: auto; width: 400px;\" />\n",
    "    <p style=\"margin: auto; margin-top: 10px; text-align: center;\">Golomb ruler of order 4 and length 6. This ruler is both optimal and perfect.</p>\n",
    "</div>\n",
    "\n",
    "Golomb rule can be used in information theory to design error correcting codes or in telecommunications to avoid interferences during radio communications."
   ]
  },
  {
   "cell_type": "markdown",
   "metadata": {},
   "source": [
    "**Exercice**: Create differents models for the decision version of the Golomb ruler and implement it using `docplex`. For $N$ marks, we can suppose that the maximum length of the rules is $2 N$."
   ]
  },
  {
   "cell_type": "code",
   "execution_count": 19,
   "metadata": {},
   "outputs": [],
   "source": [
    "from docplex.cp.model import CpoModel\n",
    "from docplex.cp.model import *\n",
    "from config import setup\n",
    "setup()"
   ]
  },
  {
   "cell_type": "code",
   "execution_count": 88,
   "metadata": {},
   "outputs": [],
   "source": [
    "def create_golomb_ruler_1(N):\n",
    "    '''\n",
    "    Model all_diff\n",
    "    @param N: number of marks\n",
    "    '''\n",
    "    mdl = CpoModel(name='Golomb ruler')\n",
    "    \n",
    "    # create model\n",
    "    marks = mdl.integer_var_list(N, 0, 2 * N, \"marks\")\n",
    "    \n",
    "    # constraint\n",
    "    mdl.add(all_diff(marks))\n",
    "    mdl.add(all_diff( abs(marks[i] - marks[j]) for i in range(N) for j in range(i+1,N) )  )\n",
    "    mdl.add(all_diff( abs(marks[i] - marks[j]) for i in range(N) for j in range(i)     )  )\n",
    "            \n",
    "    return mdl"
   ]
  },
  {
   "cell_type": "code",
   "execution_count": 140,
   "metadata": {},
   "outputs": [
    {
     "name": "stdout",
     "output_type": "stream",
     "text": [
      "-------------------------------------------------------------------------------\n",
      "Model constraints: 24, variables: integer: 4, interval: 0, sequence: 0\n",
      "Solve status: Feasible, Fail status: SearchHasNotFailed\n",
      "Search status: SearchCompleted, stop cause: SearchHasNotBeenStopped\n",
      "Solve time: 0.0 sec\n",
      "-------------------------------------------------------------------------------\n",
      "\n",
      "marks_0: 0\n",
      "marks_1: 4\n",
      "marks_2: 3\n",
      "marks_3: 1\n",
      "\n"
     ]
    }
   ],
   "source": [
    "# Param\n",
    "N = 4\n",
    "mdl = create_golomb_ruler_1(N)\n",
    "sol = mdl.solve()\n",
    "print(sol)"
   ]
  },
  {
   "cell_type": "code",
   "execution_count": 142,
   "metadata": {},
   "outputs": [],
   "source": [
    "def create_golomb_ruler_2(N):\n",
    "    '''\n",
    "    Model all_diff\n",
    "    @param N: number of marks\n",
    "    '''\n",
    "    mdl = CpoModel(name='Golomb ruler')\n",
    "    \n",
    "    # create model\n",
    "    marks = mdl.integer_var_list(N, 0, 2 * N, \"marks\")\n",
    "    \n",
    "    # constraint\n",
    "    mdl.add(all_diff(marks))\n",
    "    mdl.add(marks[i] > marks[i-1] for i in range(1,N))\n",
    "    mdl.add(all_diff( abs(marks[i] - marks[j]) for i in range(N) for j in range(i+1,N) )  )\n",
    "    mdl.add(all_diff( abs(marks[i] - marks[j]) for i in range(N) for j in range(i)     )  )\n",
    "            \n",
    "    return mdl"
   ]
  },
  {
   "cell_type": "code",
   "execution_count": 147,
   "metadata": {},
   "outputs": [
    {
     "name": "stdout",
     "output_type": "stream",
     "text": [
      "-------------------------------------------------------------------------------\n",
      "Model constraints: 6, variables: integer: 4, interval: 0, sequence: 0\n",
      "Solve status: Feasible, Fail status: SearchHasNotFailed\n",
      "Search status: SearchCompleted, stop cause: SearchHasNotBeenStopped\n",
      "Solve time: 0.0 sec\n",
      "-------------------------------------------------------------------------------\n",
      "\n",
      "marks_0: 0\n",
      "marks_1: 1\n",
      "marks_2: 3\n",
      "marks_3: 7\n",
      "\n"
     ]
    }
   ],
   "source": [
    "# Param\n",
    "N = 4\n",
    "mdl = create_golomb_ruler_2(N)\n",
    "sol = mdl.solve()\n",
    "print(sol)"
   ]
  },
  {
   "cell_type": "code",
   "execution_count": 138,
   "metadata": {},
   "outputs": [],
   "source": [
    "def create_golomb_ruler_3(N):\n",
    "    '''\n",
    "    Model single\n",
    "    @param N: number of marks\n",
    "    '''\n",
    "    mdl = CpoModel(name='Golomb ruler')\n",
    "    \n",
    "    # create model\n",
    "    marks = mdl.integer_var_list(N, 0, 2 * N, \"marks\")\n",
    "    \n",
    "    # constraint\n",
    "    for i in range(N):\n",
    "        for j in range(N):\n",
    "            for k in range(N):\n",
    "                if(i != j and j != k and k != i):\n",
    "                    dist_ik = abs(marks[i] - marks[k])\n",
    "                    dist_jk = abs(marks[j] - marks[k])\n",
    "                    mdl.add(dist_ik != dist_jk)\n",
    "                \n",
    "    return mdl"
   ]
  },
  {
   "cell_type": "markdown",
   "metadata": {},
   "source": [
    "**Exercice**: Solve the model for different values of N."
   ]
  },
  {
   "cell_type": "code",
   "execution_count": 93,
   "metadata": {},
   "outputs": [
    {
     "name": "stdout",
     "output_type": "stream",
     "text": [
      "-------------------------------------------------------------------------------\n",
      "Model constraints: 3, variables: integer: 0, interval: 0, sequence: 0\n",
      "Solve status: Feasible, Fail status: SearchHasNotFailed\n",
      "Search status: SearchCompleted, stop cause: SearchHasNotBeenStopped\n",
      "Solve time: 0.0 sec\n",
      "-------------------------------------------------------------------------------\n",
      "\n",
      "\n",
      "-------------------------------------------------------------------------------\n",
      "Model constraints: 3, variables: integer: 1, interval: 0, sequence: 0\n",
      "Solve status: Feasible, Fail status: SearchHasNotFailed\n",
      "Search status: SearchCompleted, stop cause: SearchHasNotBeenStopped\n",
      "Solve time: 0.0 sec\n",
      "-------------------------------------------------------------------------------\n",
      "\n",
      "marks_0: 0\n",
      "\n",
      "-------------------------------------------------------------------------------\n",
      "Model constraints: 3, variables: integer: 2, interval: 0, sequence: 0\n",
      "Solve status: Feasible, Fail status: SearchHasNotFailed\n",
      "Search status: SearchCompleted, stop cause: SearchHasNotBeenStopped\n",
      "Solve time: 0.0 sec\n",
      "-------------------------------------------------------------------------------\n",
      "\n",
      "marks_0: 0\n",
      "marks_1: 1\n",
      "\n",
      "-------------------------------------------------------------------------------\n",
      "Model constraints: 3, variables: integer: 3, interval: 0, sequence: 0\n",
      "Solve status: Feasible, Fail status: SearchHasNotFailed\n",
      "Search status: SearchCompleted, stop cause: SearchHasNotBeenStopped\n",
      "Solve time: 0.0 sec\n",
      "-------------------------------------------------------------------------------\n",
      "\n",
      "marks_0: 0\n",
      "marks_1: 3\n",
      "marks_2: 1\n",
      "\n",
      "-------------------------------------------------------------------------------\n",
      "Model constraints: 3, variables: integer: 4, interval: 0, sequence: 0\n",
      "Solve status: Feasible, Fail status: SearchHasNotFailed\n",
      "Search status: SearchCompleted, stop cause: SearchHasNotBeenStopped\n",
      "Solve time: 0.0 sec\n",
      "-------------------------------------------------------------------------------\n",
      "\n",
      "marks_0: 0\n",
      "marks_1: 7\n",
      "marks_2: 3\n",
      "marks_3: 1\n",
      "\n",
      "-------------------------------------------------------------------------------\n",
      "Model constraints: 3, variables: integer: 5, interval: 0, sequence: 0\n",
      "Solve status: Infeasible, Fail status: SearchHasFailedNormally\n",
      "Search status: SearchCompleted, stop cause: SearchHasNotBeenStopped\n",
      "Solve time: 0.11 sec\n",
      "-------------------------------------------------------------------------------\n",
      "\n",
      "\n",
      "-------------------------------------------------------------------------------\n",
      "Model constraints: 3, variables: integer: 6, interval: 0, sequence: 0\n",
      "Solve status: Infeasible, Fail status: SearchHasFailedNormally\n",
      "Search status: SearchCompleted, stop cause: SearchHasNotBeenStopped\n",
      "Solve time: 0.0 sec\n",
      "-------------------------------------------------------------------------------\n",
      "\n",
      "\n",
      "-------------------------------------------------------------------------------\n",
      "Model constraints: 3, variables: integer: 7, interval: 0, sequence: 0\n",
      "Solve status: Infeasible, Fail status: SearchHasFailedNormally\n",
      "Search status: SearchCompleted, stop cause: SearchHasNotBeenStopped\n",
      "Solve time: 0.0 sec\n",
      "-------------------------------------------------------------------------------\n",
      "\n",
      "\n"
     ]
    }
   ],
   "source": [
    "for N in range(8):\n",
    "    mdl = create_golomb_ruler_1(N)\n",
    "    sol = mdl.solve()\n",
    "    print(sol)"
   ]
  },
  {
   "cell_type": "markdown",
   "metadata": {},
   "source": [
    "**Exercice**: Add the objective to the different models, and run them for different values of N. Evaluate the different models with different heuristics. "
   ]
  },
  {
   "cell_type": "code",
   "execution_count": 173,
   "metadata": {
    "scrolled": true
   },
   "outputs": [],
   "source": [
    "def create_unbound_ruler_1(N):\n",
    "    '''\n",
    "    Model all_diff\n",
    "    @param N: number of marks\n",
    "    '''\n",
    "    mdl = CpoModel(name='Golomb ruler')\n",
    "    \n",
    "    # create model\n",
    "    marks = mdl.integer_var_list(N, 0, N**2, \"marks\")\n",
    "    \n",
    "    # constraint\n",
    "    mdl.add(all_diff(marks))\n",
    "    mdl.add(marks[i] > marks[i-1] for i in range(1,N))\n",
    "    mdl.add(all_diff( abs(marks[i] - marks[j]) for i in range(N) for j in range(i+1,N) )  )\n",
    "    mdl.add(all_diff( abs(marks[i] - marks[j]) for i in range(N) for j in range(i)     )  )\n",
    "    \n",
    "    mdl.add_search_phase(search_phase(marks,\n",
    "                                          varchooser = select_random_var(),\n",
    "                                          valuechooser = select_smallest(value_index(range(N)))))\n",
    "\n",
    "            \n",
    "    mdl.add(minimize(marks[N - 1]))\n",
    "    \n",
    "    return mdl"
   ]
  },
  {
   "cell_type": "code",
   "execution_count": 174,
   "metadata": {},
   "outputs": [
    {
     "name": "stdout",
     "output_type": "stream",
     "text": [
      "-------------------------------------------------------------------------------\n",
      "Model constraints: 5, variables: integer: 3, interval: 0, sequence: 0\n",
      "Solve status: Optimal, Fail status: SearchHasFailedNormally\n",
      "Search status: SearchCompleted, stop cause: SearchHasNotBeenStopped\n",
      "Solve time: 0.0 sec\n",
      "-------------------------------------------------------------------------------\n",
      "Objective values: (3,), bounds: (3,), gaps: (0.0,)\n",
      "marks_0: 0\n",
      "marks_1: 1\n",
      "marks_2: 3\n",
      "\n"
     ]
    }
   ],
   "source": [
    "N = 3\n",
    "mdl = create_unbound_ruler_1(N)\n",
    "sol = mdl.solve(Presolve='On')\n",
    "print(sol)"
   ]
  },
  {
   "cell_type": "code",
   "execution_count": 137,
   "metadata": {},
   "outputs": [
    {
     "name": "stdout",
     "output_type": "stream",
     "text": [
      "-------------------------------------------------------------------------------\n",
      "Model constraints: 5, variables: integer: 3, interval: 0, sequence: 0\n",
      "Solve status: Optimal, Fail status: SearchHasFailedNormally\n",
      "Search status: SearchCompleted, stop cause: SearchHasNotBeenStopped\n",
      "Solve time: 0.0 sec\n",
      "-------------------------------------------------------------------------------\n",
      "Objective values: (3,), bounds: (3,), gaps: (0.0,)\n",
      "marks_0: 0\n",
      "marks_1: 1\n",
      "marks_2: 3\n",
      "\n",
      "-------------------------------------------------------------------------------\n",
      "Model constraints: 6, variables: integer: 4, interval: 0, sequence: 0\n",
      "Solve status: Optimal, Fail status: SearchHasFailedNormally\n",
      "Search status: SearchCompleted, stop cause: SearchHasNotBeenStopped\n",
      "Solve time: 0.0 sec\n",
      "-------------------------------------------------------------------------------\n",
      "Objective values: (6,), bounds: (6,), gaps: (0.0,)\n",
      "marks_0: 0\n",
      "marks_1: 1\n",
      "marks_2: 4\n",
      "marks_3: 6\n",
      "\n",
      "-------------------------------------------------------------------------------\n",
      "Model constraints: 7, variables: integer: 5, interval: 0, sequence: 0\n",
      "Solve status: Optimal, Fail status: SearchHasFailedNormally\n",
      "Search status: SearchCompleted, stop cause: SearchHasNotBeenStopped\n",
      "Solve time: 0.0 sec\n",
      "-------------------------------------------------------------------------------\n",
      "Objective values: (11,), bounds: (11,), gaps: (0.0,)\n",
      "marks_0: 0\n",
      "marks_1: 1\n",
      "marks_2: 4\n",
      "marks_3: 9\n",
      "marks_4: 11\n",
      "\n",
      "-------------------------------------------------------------------------------\n",
      "Model constraints: 8, variables: integer: 6, interval: 0, sequence: 0\n",
      "Solve status: Optimal, Fail status: SearchHasFailedNormally\n",
      "Search status: SearchCompleted, stop cause: SearchHasNotBeenStopped\n",
      "Solve time: 0.02 sec\n",
      "-------------------------------------------------------------------------------\n",
      "Objective values: (17,), bounds: (17,), gaps: (0.0,)\n",
      "marks_0: 0\n",
      "marks_1: 3\n",
      "marks_2: 5\n",
      "marks_3: 9\n",
      "marks_4: 16\n",
      "marks_5: 17\n",
      "\n",
      "-------------------------------------------------------------------------------\n",
      "Model constraints: 9, variables: integer: 7, interval: 0, sequence: 0\n",
      "Solve status: Optimal, Fail status: SearchHasFailedNormally\n",
      "Search status: SearchCompleted, stop cause: SearchHasNotBeenStopped\n",
      "Solve time: 0.1 sec\n",
      "-------------------------------------------------------------------------------\n",
      "Objective values: (25,), bounds: (25,), gaps: (0.0,)\n",
      "marks_0: 0\n",
      "marks_1: 4\n",
      "marks_2: 9\n",
      "marks_3: 15\n",
      "marks_4: 22\n",
      "marks_5: 23\n",
      "marks_6: 25\n",
      "\n"
     ]
    }
   ],
   "source": [
    "for N in range(3,8) :\n",
    "    mdl = create_unbound_ruler_1(N)\n",
    "    sol = mdl.solve(Presolve='On')\n",
    "    print(sol)"
   ]
  }
 ],
 "metadata": {
  "kernelspec": {
   "display_name": "Python 3",
   "language": "python",
   "name": "python3"
  },
  "language_info": {
   "codemirror_mode": {
    "name": "ipython",
    "version": 3
   },
   "file_extension": ".py",
   "mimetype": "text/x-python",
   "name": "python",
   "nbconvert_exporter": "python",
   "pygments_lexer": "ipython3",
   "version": "3.6.6"
  }
 },
 "nbformat": 4,
 "nbformat_minor": 2
}
