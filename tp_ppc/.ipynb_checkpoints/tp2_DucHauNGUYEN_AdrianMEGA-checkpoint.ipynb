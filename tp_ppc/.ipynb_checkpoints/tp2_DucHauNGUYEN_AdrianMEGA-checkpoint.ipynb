{
 "cells": [
  {
   "cell_type": "markdown",
   "metadata": {},
   "source": [
    "## Binôme: Duc Hau NGUYEN, Adrian MEGA - 5SDBD groupe A"
   ]
  },
  {
   "cell_type": "markdown",
   "metadata": {},
   "source": [
    "# TP2 - The N-Queens problem"
   ]
  },
  {
   "cell_type": "code",
   "execution_count": 5,
   "metadata": {},
   "outputs": [],
   "source": [
    "from config_duc import setup\n",
    "setup()"
   ]
  },
  {
   "cell_type": "markdown",
   "metadata": {},
   "source": [
    "## The N-Queens problem"
   ]
  },
  {
   "cell_type": "markdown",
   "metadata": {},
   "source": [
    "You are given an N-by-N chessboard, and your goal is to place N chess queens on it so that no two queens threaten each other:\n",
    "\n",
    "<div class=\"row\" style=\"margin-top: 10px\">\n",
    "    <div class=\"col-md-5\">\n",
    "        <img src=\"display/images/empty-chessboard.png\" style=\"margin-right: 0; width: 160px;\" />\n",
    "    </div>\n",
    "    <div class=\"col-md-2\" style=\"display: table\">\n",
    "        <i class=\"fa fa-arrow-right\" style=\"display: table-cell; font-size: 50px; \n",
    "        margin: auto; text-align: center; vertical-align: middle; height: 150px\"></i>\n",
    "    </div>\n",
    "    <div class=\"col-md-5\">\n",
    "        <img src=\"display/images/nqueens8-chessboard.png\" style=\"margin-left: 0; width: 160px;\" />\n",
    "    </div>\n",
    "</div>\n",
    "\n",
    "Formally, a solution to the N-queens problem requires that no two queens share the same row, column or diagnoal."
   ]
  },
  {
   "cell_type": "markdown",
   "metadata": {},
   "source": [
    "### First model without global constraints"
   ]
  },
  {
   "cell_type": "markdown",
   "metadata": {},
   "source": [
    "**Exercice 1**: Create a function `create_n_queens_model_1(N)` that models the n-queens problem of size `N` without global constraints. This function should return the model (i.e., instance of `CpoModel`) with a set of decision variables `q`. \n",
    "\n",
    "Note: Do not solve the problem. "
   ]
  },
  {
   "cell_type": "code",
   "execution_count": 6,
   "metadata": {},
   "outputs": [],
   "source": [
    "from docplex.cp.model import CpoModel\n",
    "from docplex.cp.model import *\n",
    "\n",
    "def create_n_queens_model_1(N):\n",
    "    '''\n",
    "    @param N: number of queen, also the size NxN of the chessboard\n",
    "    '''\n",
    "    mdl = CpoModel(name='nqueens')\n",
    "    # create model\n",
    "    q = mdl.integer_var_list(N, 0, N-1, \"q\") \n",
    "    \n",
    "    for i in range(N):\n",
    "        for j in range(i+1, N):\n",
    "            \n",
    "            # Not same line\n",
    "            mdl.add(q[i] != q[j])\n",
    "            \n",
    "            # Not same diagonal            \n",
    "            mdl.add(q[j] - q[i] != j - i)\n",
    "            mdl.add(q[j] - q[i] != i - j)\n",
    "        \n",
    "    return mdl, q"
   ]
  },
  {
   "cell_type": "markdown",
   "metadata": {},
   "source": [
    "**Exercice 2:** Test your function by solving the n-queens problem for small values of $N$ ($< 20$).\n",
    "\n",
    "*Note: You can use the `display.n_queens` function in order to display a (partial) solution for the n-queens problem. This function can take a list of `int` corresponding to the column of the queens in order to display them.*"
   ]
  },
  {
   "cell_type": "code",
   "execution_count": 7,
   "metadata": {
    "scrolled": true
   },
   "outputs": [
    {
     "name": "stdout",
     "output_type": "stream",
     "text": [
      "-------------------------------------------------------------------------------\n",
      "Model constraints: 84, variables: integer: 8, interval: 0, sequence: 0\n",
      "Solve status: Feasible, Fail status: SearchHasNotFailed\n",
      "Search status: SearchCompleted, stop cause: SearchHasNotBeenStopped\n",
      "Solve time: 0.0 sec\n",
      "-------------------------------------------------------------------------------\n",
      "\n",
      "q_0: 2\n",
      "q_1: 0\n",
      "q_2: 6\n",
      "q_3: 4\n",
      "q_4: 7\n",
      "q_5: 1\n",
      "q_6: 3\n",
      "q_7: 5\n"
     ]
    }
   ],
   "source": [
    "from display import n_queens as display_queens\n",
    "\n",
    "mdl1, q = create_n_queens_model_1(8)\n",
    "sol = mdl1.solve()\n",
    "if sol is not None:\n",
    "    sol.print_solution()\n",
    "\n",
    "#display_queens(sol.get_all_var_solutions())"
   ]
  },
  {
   "cell_type": "markdown",
   "metadata": {},
   "source": [
    "**Question**: How many solutions are there for $N = 3,~\\ldots,~10$?"
   ]
  },
  {
   "cell_type": "code",
   "execution_count": 8,
   "metadata": {},
   "outputs": [
    {
     "name": "stdout",
     "output_type": "stream",
     "text": [
      "N \t| #solution\n",
      "=========================\n",
      "3 \t| 0\n",
      "4 \t| 2\n",
      "5 \t| 10\n",
      "6 \t| 4\n",
      "7 \t| 40\n",
      "8 \t| 92\n",
      "9 \t| 368\n",
      "10 \t| 793\n"
     ]
    }
   ],
   "source": [
    "print(\"N \\t| #solution\")\n",
    "print(\"=========================\")\n",
    "for N in range(3,11):\n",
    "    mdl1, q = create_n_queens_model_1(N)\n",
    "    #sols = mdl1.solve().get_all_var_solutions()\n",
    "    sols = mdl1.start_search()\n",
    "    nb_sol = 0\n",
    "    for i in sols:\n",
    "        nb_sol += 1\n",
    "    print(N,'\\t|',nb_sol)"
   ]
  },
  {
   "cell_type": "markdown",
   "metadata": {},
   "source": [
    "### Visualizing the decision tree"
   ]
  },
  {
   "cell_type": "markdown",
   "metadata": {},
   "source": [
    "**Exercice 3**: Draw the decision tree on a sheet of paper for an instance of size 6 using the following rules:\n",
    " - instantiate the variables in a lexicographical order \n",
    " - always choose the smallest value possible first.\n",
    " \n",
    " \n",
    "**  To answer this question, send me your drawing as a picture ** "
   ]
  },
  {
   "cell_type": "markdown",
   "metadata": {},
   "source": [
    "### Second model with global constraints"
   ]
  },
  {
   "cell_type": "markdown",
   "metadata": {},
   "source": [
    "**Exercice 4**: Same as Exercise 1 however using **only** global constraints."
   ]
  },
  {
   "cell_type": "code",
   "execution_count": 9,
   "metadata": {},
   "outputs": [
    {
     "name": "stdout",
     "output_type": "stream",
     "text": [
      "N \t| #solution\n",
      "=========================\n",
      "3 \t| 0\n",
      "4 \t| 2\n",
      "5 \t| 10\n",
      "6 \t| 4\n",
      "7 \t| 40\n",
      "8 \t| 92\n",
      "9 \t| 371\n",
      "10 \t| 987\n"
     ]
    }
   ],
   "source": [
    "def create_n_queens_model_2(N):\n",
    "    '''\n",
    "    @param N: number of queen, also the size NxN of the chessboard\n",
    "    '''\n",
    "    mdl = CpoModel(name='nqueens')\n",
    "    q = mdl.integer_var_list(N, 0, N-1, \"q\") \n",
    "    \n",
    "    # Not same line\n",
    "    mdl.add(all_diff(q))\n",
    "    \n",
    "    # Note same diagonal\n",
    "    mdl.add(all_diff(q[i] + i for i in range(N)))\n",
    "    mdl.add(all_diff(q[i] - i for i in range(N)))\n",
    "    \n",
    "    return mdl, q\n",
    "\n",
    "print(\"N \\t| #solution\")\n",
    "print(\"=========================\")\n",
    "for N in range(3,11):\n",
    "    mdl1, q = create_n_queens_model_2(N)\n",
    "    #sols = mdl1.solve().get_all_var_solutions()\n",
    "    sols = mdl1.start_search()\n",
    "    nb_sol = 0\n",
    "    for i in sols:\n",
    "        nb_sol += 1\n",
    "    print(N,'\\t|',nb_sol)"
   ]
  },
  {
   "cell_type": "markdown",
   "metadata": {},
   "source": [
    "### Comparison of the two models"
   ]
  },
  {
   "cell_type": "markdown",
   "metadata": {},
   "source": [
    "**Exercice 5:** Solve instances with large number of queens using both models (100, 200, ...):\n",
    "- Add a time limit to the solver (for example `TimeLimit=5` for 5 seconds). Do not be afraid if your code takes more time, it may be the creation of the model is longer than the solving part (especially for version 1).\n",
    "- Enable presolve (`Presolve='On'`) and parallel search (`Workers='Auto'`) in order to speed up the search.\n",
    "- Always check if the solver finds a solution (`sol.solver_status` or `sol.is_solution()`).\n",
    "\n",
    "**Question:** Which model is the most efficient?"
   ]
  },
  {
   "cell_type": "code",
   "execution_count": 10,
   "metadata": {},
   "outputs": [
    {
     "name": "stdout",
     "output_type": "stream",
     "text": [
      "For N =  100\n",
      "solver 1:  Feasible   True\n",
      "solver 2:  Feasible   True\n",
      "For N =  200\n",
      "solver 1:  Unknown   False\n",
      "solver 2:  Feasible   True\n",
      "For N =  500\n",
      "solver 1:  Unknown   False\n",
      "solver 2:  Feasible   True\n"
     ]
    }
   ],
   "source": [
    "for N in [100, 200, 500]:\n",
    "    mdl1, q = create_n_queens_model_1(N)\n",
    "    sol1 = mdl1.solve(TimeLimit = 5, Presolve='On', Workers='Auto')\n",
    "    \n",
    "    mdl2, q = create_n_queens_model_2(N)\n",
    "    sol2 = mdl2.solve(TimeLimit = 5, Presolve='On', Workers='Auto')\n",
    "    \n",
    "    print(\"For N = \", N)\n",
    "    print(\"solver 1: \", sol1.get_solve_status(), \" \", sol1.is_solution())\n",
    "    print(\"solver 2: \", sol2.get_solve_status(), \" \", sol2.is_solution())"
   ]
  },
  {
   "cell_type": "markdown",
   "metadata": {},
   "source": [
    "### Branching strategies\n",
    "\n",
    "**Exercice 6**: Using the second version of the model (with global constraints), try different branching strategies and see which one is the most efficient. See the [`search_phase`]() documentation. Up to which size the problem is solvable in 20s? "
   ]
  },
  {
   "cell_type": "code",
   "execution_count": 16,
   "metadata": {},
   "outputs": [
    {
     "name": "stdout",
     "output_type": "stream",
     "text": [
      "Branching strategy 1 ...  0.012490034103393555\n",
      "Branching strategy 2 ...  0.007829666137695312\n"
     ]
    }
   ],
   "source": [
    "# Search for optimum branching strategy\n",
    "N = 100\n",
    "mdl, q = create_n_queens_model_2(N)\n",
    "\n",
    "# Strategy 1\n",
    "mdl.add_search_phase(mdl.search_phase(q, \n",
    "                                      varchooser=mdl.select_smallest(mdl.domain_size()),\n",
    "                                      valuechooser=mdl.select_random_value()))\n",
    "\n",
    "sol = mdl.solve(TimeLimit = 20)\n",
    "print(\"Branching strategy 1 ... \", sol.get_solve_time())\n",
    "\n",
    "mdl.add_search_phase(mdl.search_phase(q, \n",
    "                                      varchooser=mdl.select_largest(mdl.domain_size()),\n",
    "                                      valuechooser=mdl.select_random_value()))\n",
    "sol = mdl.solve(TimeLimit = 20)\n",
    "print(\"Branching strategy 2 ... \", sol.get_solve_time())"
   ]
  }
 ],
 "metadata": {
  "kernelspec": {
   "display_name": "Python 3",
   "language": "python",
   "name": "python3"
  },
  "language_info": {
   "codemirror_mode": {
    "name": "ipython",
    "version": 3
   },
   "file_extension": ".py",
   "mimetype": "text/x-python",
   "name": "python",
   "nbconvert_exporter": "python",
   "pygments_lexer": "ipython3",
   "version": "3.6.7"
  }
 },
 "nbformat": 4,
 "nbformat_minor": 2
}
