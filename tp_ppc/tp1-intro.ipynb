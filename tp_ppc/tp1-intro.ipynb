{
 "cells": [
  {
   "cell_type": "markdown",
   "metadata": {},
   "source": [
    "## Binôme: **Duc Hau NGUYEN**, **Adrian MEGA** - 5SDBD Groupe A"
   ]
  },
  {
   "cell_type": "markdown",
   "metadata": {},
   "source": [
    "# TP1 - Introduction to constraint programmation using CpOptimizer"
   ]
  },
  {
   "cell_type": "markdown",
   "metadata": {},
   "source": [
    "## Cpoptimizer\n",
    "\n",
    "[IBM ILOG CPLEX CP Optimizer](https://www-01.ibm.com/software/commerce/optimization/cplex-cp-optimizer/) is an industrial constraint programming (CP) solver developped by IBM ILOG (previously [ILOG](https://en.wikipedia.org/wiki/ILOG)). CpOptimizer is well known commertial constraint programming solver for industrial problems - While being less versatile than some academic solvers, it is very efficient at solving real industrial problems.\n",
    "\n",
    "We can find in the literature a variety of constraint solvers. Every year, two competitions are organized to compare the performances of different solvers. Have a look at the rules and the different solvers used in the past competitions here: \n",
    "\n",
    "- The minizinc competition https://www.minizinc.org/challenge.html \n",
    "- The XCSP competition http://xcsp.org/competition\n",
    "\n",
    "Below listed some constraint programming solvers and languages:\n",
    "- [Numberjack](https://github.com/eomahony/Numberjack) is a python library for many combinatorial solvers (SAT, CP, MIP, etc). \n",
    "- [Minizinc](https://www.minizinc.org) is a general purpose modelling language that is widely used by constraint solvers\n",
    "- [Choco](http://www.choco-solver.org) is an open-source Java library dedicated to constraint programming.\n",
    "- [Eclipse CLP](http://eclipseclp.org) is a prolog extension which offers lots of constraint programming related features.\n",
    "- [Gecode](www.gecode.org) C++, open source CP Solver \n",
    "- [Mistral](http://homepages.laas.fr/ehebrard/mistral.html) is an open-source C++ constraint programming solver. \n",
    "- [ORTools](https://developers.google.com/optimization/) Developped by google\n",
    "- [PICAT](http://picat-lang.org) Logic-based multi-paradigm programming language \n",
    "- [Chuffed](https://github.com/chuffed/chuffed) C++ open source CP Solver based on Lazy Clause Generation. Chuffed is  the solver winning most of the minizinc challenges.\n"
   ]
  },
  {
   "cell_type": "markdown",
   "metadata": {},
   "source": [
    "### `docplex` - A python interface to CpOptimizer\n",
    "\n",
    "`docplex` is a python package that can be used to solve constraint programming problems in python using either:\n",
    "\n",
    "- a local installation of CpOptimizer;\n",
    "- a cloud version of CpOptimizer (requires an account and credentials from IBM).\n",
    "\n",
    "While being less versatile than the C++ interface of CpOptimizer, it is much easier and more convenient to use.\n",
    "\n",
    "*Note: While `docplex` is a python interface developped by IBM/ILOG and dedicated to `CpOptimizer` and `Cplex`, there are other interfaces that can be used to model and solve optimization problems in python using various backends, most notable the [`Numberjack`](http://numberjack.ucc.ie) interface.*"
   ]
  },
  {
   "cell_type": "markdown",
   "metadata": {},
   "source": [
    "### Working at home or with other solvers\n",
    "\n",
    "The notebooks are much easier to use with the combination CpOptimizer / `docplex` but you are allowed to use the solver you want. We give some details for the following solvers: \n",
    "\n",
    "- [CpOptimizer](https://ibm.onthehub.com/WebStore/OfferingDetails.aspx?o=9b4eadea-9776-e611-9421-b8ca3a5db7a1&cmi_mnuMain_child_child_child=09b9b318-f06a-e611-9420-b8ca3a5db7a1&cmi_mnuMain_child_child=464da6fe-a9ef-e611-9426-b8ca3a5db7a1&cmi_mnuMain_child=a6230d79-2363-e611-9420-b8ca3a5db7a1&cmi_mnuMain=67016802-5765-e611-9420-b8ca3a5db7a1) is available through *Cplex Optimization Studio*. IBM provides a free version for students and academics. The `docplex` python package can be easily installed using `pip` or `conda` depending on your python installation. **[Recommended]**\n",
    "- [Choco](http://www.choco-solver.org) is available as a single `.jar` file and can be used on any machine running the appropriate Java version. **[Recommended]**\n",
    "- [Eclipse CLP](http://eclipseclp.org) is available on every machine at INSA and can be easily installed on any Windows, Linux, or OS X machine.  A [python interface](http://pyclp.sourceforge.net) is also available.\n",
    "- [Mistral](http://homepages.laas.fr/ehebrard/mistral.html) needs to be compiled in an appropriate C++ environment.\n",
    "\n",
    "Please ask your professor if you have trouble making CpOptimizer and `docplex` work on a personnal machine."
   ]
  },
  {
   "cell_type": "markdown",
   "metadata": {},
   "source": [
    "## Starting with `docplex`\n",
    "\n",
    "The goal of this section is to introduce `docplex`. If you are developing at INSA (GEI), you will need to run the following python statements at the beginning of each notebook (and every time you restart a notebook):"
   ]
  },
  {
   "cell_type": "code",
   "execution_count": 1,
   "metadata": {},
   "outputs": [],
   "source": [
    "from config import setup\n",
    "setup()"
   ]
  },
  {
   "cell_type": "markdown",
   "metadata": {},
   "source": [
    "**Exercice**: Create a simple model using `docplex` with:\n",
    "\n",
    "- 3 variables $x$, $y$, $z$\n",
    "- the same domain $\\cal{D} = \\left\\{1, 2, 3\\right\\}$ for each variable\n",
    "- the following constraints: $x \\ne y$, $x \\ne z$, $y \\ne z$\n",
    "\n",
    "Have a look at the official documentation [`docplex` constraint programming documentation](http://ibmdecisionoptimization.github.io/docplex-doc/cp/index.html).\n",
    "\n",
    "**Tips**:\n",
    "\n",
    "- Import [`CpoModel`](http://ibmdecisionoptimization.github.io/docplex-doc/cp/docplex.cp.model.py.html#docplex.cp.model.CpoModel) from `docplex.cp.model` and create a instance:\n",
    "\n",
    "```python\n",
    "from docplex.cp.model import CpoModel\n",
    "\n",
    "mdl = CpoModel(name='My first docplex model')\n",
    "```\n",
    "\n",
    "- Create variable using [`CpoModel.integer_var`](http://ibmdecisionoptimization.github.io/docplex-doc/cp/docplex.cp.expression.py.html#docplex.cp.expression.integer_var), [`CpoModel.integer_var_list`](http://ibmdecisionoptimization.github.io/docplex-doc/cp/docplex.cp.expression.py.html#docplex.cp.expression.integer_var_list) or [`CpoModel.integer_var_dict`](http://ibmdecisionoptimization.github.io/docplex-doc/cp/docplex.cp.expression.py.html#docplex.cp.expression.integer_var_dict).\n",
    "\n",
    "```python\n",
    "x, y, z = mdl.integer_var_list(3, 1, 3, 'list')\n",
    "```\n",
    "\n",
    "- Add constraints using [`CpoModel.add`](http://ibmdecisionoptimization.github.io/docplex-doc/cp/docplex.cp.model.py.html#docplex.cp.model.CpoModel.add) and usual logical expression.\n",
    "\n",
    "```python\n",
    "mdl.add(x != y)\n",
    "```"
   ]
  },
  {
   "cell_type": "code",
   "execution_count": 28,
   "metadata": {},
   "outputs": [],
   "source": [
    "from docplex.cp.model import CpoModel\n",
    "mdl = CpoModel(name='DA')\n",
    "x, y, z = mdl.integer_var_list(3, 1, 3, 'list')\n",
    "mdl.add(x != y)\n",
    "mdl.add(x != z)\n",
    "mdl.add(y != z)"
   ]
  },
  {
   "cell_type": "markdown",
   "metadata": {},
   "source": [
    "**Exercice**: Solve the model you just created (see `CpoModel.solve()`) and print the solution found.\n",
    "\n",
    "**Tips**: \n",
    "\n",
    "- Use [`CpoModel.solve`](http://ibmdecisionoptimization.github.io/docplex-doc/cp/docplex.cp.model.py.html#docplex.cp.model.CpoModel.solve) to solve the model:\n",
    "\n",
    "```python\n",
    "sol = mdl.solve()\n",
    "```\n",
    "\n",
    "- Use [`CpoSolveResult.print_solution`](http://ibmdecisionoptimization.github.io/docplex-doc/cp/docplex.cp.solution.py.html#docplex.cp.solution.CpoSolveResult.print_solution) to get an overview of the solution:\n",
    "\n",
    "```python\n",
    "sol.print_solution()\n",
    "```\n",
    "\n",
    "- Use [`CpoSolveResult.get_value`](http://ibmdecisionoptimization.github.io/docplex-doc/cp/docplex.cp.solution.py.html#docplex.cp.solution.CpoSolveResult.get_value) or `CpoSolveResult.__getitem__` to retrieve the value of a variable:\n",
    "\n",
    "```python\n",
    "xvalue = sol.get_value('x0')\n",
    "xvalue = sol[x]\n",
    "```\n",
    "\n",
    "- Use [`CpoSolveResult.get_var_solution`](http://ibmdecisionoptimization.github.io/docplex-doc/cp/docplex.cp.solution.py.html#docplex.cp.solution.CpoSolveResult.get_var_solution) to retrieve a [`CpoIntVarSolution`](http://ibmdecisionoptimization.github.io/docplex-doc/cp/docplex.cp.solution.py.html#docplex.cp.solution.CpoIntVarSolution):\n",
    "\n",
    "```python\n",
    "xvarsol = sol.get_var_solution(x)\n",
    "xvalue = xvarsol.get_value()\n",
    "```"
   ]
  },
  {
   "cell_type": "code",
   "execution_count": 29,
   "metadata": {},
   "outputs": [
    {
     "name": "stdout",
     "output_type": "stream",
     "text": [
      "-------------------------------------------------------------------------------\n",
      "Model constraints: 3, variables: integer: 3, interval: 0, sequence: 0\n",
      "Solve status: Feasible, Fail status: SearchHasNotFailed\n",
      "Search status: SearchCompleted, stop cause: SearchHasNotBeenStopped\n",
      "Solve time: 0.0 sec\n",
      "-------------------------------------------------------------------------------\n",
      "\n",
      "list_0: 1\n",
      "list_1: 3\n",
      "list_2: 2\n"
     ]
    }
   ],
   "source": [
    "sol = mdl.solve()\n",
    "sol.print_solution()\n",
    "xvalue = sol.get_value('DA')\n",
    "xvalue = sol[x]\n",
    "xvarsol = sol.get_var_solution(x)\n",
    "xvalue = xvarsol.get_value()"
   ]
  },
  {
   "cell_type": "markdown",
   "metadata": {},
   "source": [
    "**Question**: Is this the only possible solution? Print all possible solutions (see [`CpoModel.start_search`]"
   ]
  },
  {
   "cell_type": "code",
   "execution_count": 30,
   "metadata": {},
   "outputs": [
    {
     "name": "stdout",
     "output_type": "stream",
     "text": [
      "-------------------------------------------------------------------------------\n",
      "Model constraints: 3, variables: integer: 3, interval: 0, sequence: 0\n",
      "Solve status: Feasible, Fail status: SearchHasNotFailed\n",
      "Search status: SearchOngoing, stop cause: SearchHasNotBeenStopped\n",
      "Solve time: 0.0 sec\n",
      "-------------------------------------------------------------------------------\n",
      "\n",
      "list_0: 1\n",
      "list_1: 3\n",
      "list_2: 2\n",
      "-------------------------------------------------------------------------------\n",
      "Model constraints: 3, variables: integer: 3, interval: 0, sequence: 0\n",
      "Solve status: Feasible, Fail status: SearchHasNotFailed\n",
      "Search status: SearchOngoing, stop cause: SearchHasNotBeenStopped\n",
      "Solve time: 0.0 sec\n",
      "-------------------------------------------------------------------------------\n",
      "\n",
      "list_0: 1\n",
      "list_1: 2\n",
      "list_2: 3\n",
      "-------------------------------------------------------------------------------\n",
      "Model constraints: 3, variables: integer: 3, interval: 0, sequence: 0\n",
      "Solve status: Feasible, Fail status: SearchHasNotFailed\n",
      "Search status: SearchOngoing, stop cause: SearchHasNotBeenStopped\n",
      "Solve time: 0.0 sec\n",
      "-------------------------------------------------------------------------------\n",
      "\n",
      "list_0: 2\n",
      "list_1: 3\n",
      "list_2: 1\n",
      "-------------------------------------------------------------------------------\n",
      "Model constraints: 3, variables: integer: 3, interval: 0, sequence: 0\n",
      "Solve status: Feasible, Fail status: SearchHasNotFailed\n",
      "Search status: SearchOngoing, stop cause: SearchHasNotBeenStopped\n",
      "Solve time: 0.0 sec\n",
      "-------------------------------------------------------------------------------\n",
      "\n",
      "list_0: 2\n",
      "list_1: 1\n",
      "list_2: 3\n",
      "-------------------------------------------------------------------------------\n",
      "Model constraints: 3, variables: integer: 3, interval: 0, sequence: 0\n",
      "Solve status: Feasible, Fail status: SearchHasNotFailed\n",
      "Search status: SearchOngoing, stop cause: SearchHasNotBeenStopped\n",
      "Solve time: 0.0 sec\n",
      "-------------------------------------------------------------------------------\n",
      "\n",
      "list_0: 3\n",
      "list_1: 2\n",
      "list_2: 1\n",
      "-------------------------------------------------------------------------------\n",
      "Model constraints: 3, variables: integer: 3, interval: 0, sequence: 0\n",
      "Solve status: Feasible, Fail status: SearchHasNotFailed\n",
      "Search status: SearchOngoing, stop cause: SearchHasNotBeenStopped\n",
      "Solve time: 0.0 sec\n",
      "-------------------------------------------------------------------------------\n",
      "\n",
      "list_0: 3\n",
      "list_1: 1\n",
      "list_2: 2\n"
     ]
    }
   ],
   "source": [
    "lsols = mdl.start_search()\n",
    "for sol in lsols:\n",
    "    sol.write()"
   ]
  },
  {
   "cell_type": "markdown",
   "metadata": {},
   "source": [
    "# When using `docplex` in a jupyter notebook, you will not be able to see the solver logs live, and you will have to retrieve them from the solution.\n",
    "\n",
    "**Exercice**: Print the logs associated with the previous run of the solver."
   ]
  },
  {
   "cell_type": "code",
   "execution_count": 31,
   "metadata": {},
   "outputs": [
    {
     "name": "stdout",
     "output_type": "stream",
     "text": [
      " ! ----------------------------------------------------------------------------\n",
      " ! Satisfiability problem - 3 variables, 3 constraints\n",
      " ! Workers              = 1\n",
      " ! Presolve             = Off\n",
      " ! Initial process time : 0.00s (0.00s extraction + 0.00s propagation)\n",
      " !  . Log search space  : 4.8 (before), 4.8 (after)\n",
      " !  . Memory usage      : 312.0 kB (before), 312.0 kB (after)\n",
      " ! Using sequential search.\n",
      " ! ----------------------------------------------------------------------------\n",
      " !               Branches  Non-fixed            Branch decision\n",
      " *                      2  0.00s                  2  = list_2\n",
      "\n",
      " *                      3  0.00s                  3  = list_2\n",
      "\n",
      " *                      6  0.00s                  1  = list_2\n",
      "\n",
      " *                      7  0.00s                  3  = list_2\n",
      "\n",
      " *                      9  0.00s                  1  = list_2\n",
      "\n",
      " *                     10  0.00s                  2  = list_2\n",
      "\n"
     ]
    }
   ],
   "source": [
    "for sol in lsols:\n",
    "    print(sol.get_solver_log())"
   ]
  },
  {
   "cell_type": "markdown",
   "metadata": {},
   "source": [
    "## Visualisation constraints propagation using `docplex`:\n",
    "\n",
    "**Exercice**: Create a new model similar to the previous one but with a restrict domain $\\cal{D} = \\left\\{1, 2\\right\\}$ for all variables. Use three separate `docplex` constraints (not a global constraint).\n",
    "\n",
    "**Question**: Does this problem have a solution?"
   ]
  },
  {
   "cell_type": "code",
   "execution_count": 32,
   "metadata": {},
   "outputs": [],
   "source": [
    "from docplex.cp.model import CpoModel\n",
    "\n",
    "# Create the model\n",
    "mdl = CpoModel()\n",
    "x, y, z = mdl.integer_var_list(3,1,2, 'list')\n",
    "mdl.add(x != y)\n",
    "mdl.add(x != z)\n",
    "mdl.add(y != z)\n",
    "sols = mdl.start_search()\n",
    "for sol in sols:\n",
    "    sol.write()\n",
    "    \n",
    "# No solution here"
   ]
  },
  {
   "cell_type": "markdown",
   "metadata": {},
   "source": [
    "**Exercice**: Propagate the constraints on the model (see `CpoModel.propagate`) and print the resulting information."
   ]
  },
  {
   "cell_type": "code",
   "execution_count": 33,
   "metadata": {},
   "outputs": [
    {
     "name": "stdout",
     "output_type": "stream",
     "text": [
      "list_0 = intVar(1..2)\n",
      "list_1 = intVar(1..2)\n",
      "list_2 = intVar(1..2)\n",
      "-------------------------------------------------------------------------------\n",
      "Model constraints: 3, variables: integer: 3, interval: 0, sequence: 0\n",
      "Solve status: Unknown, Fail status: SearchHasNotFailed\n",
      "Search status: SearchCompleted, stop cause: SearchHasNotBeenStopped\n",
      "Solve time: 0 sec\n",
      "-------------------------------------------------------------------------------\n",
      "\n",
      "list_0: ((1, 2),)\n",
      "list_1: ((1, 2),)\n",
      "list_2: ((1, 2),)\n",
      "\n"
     ]
    }
   ],
   "source": [
    "mdl = CpoModel()\n",
    "x, y, z = mdl.integer_var_list(3,1,2, 'list')\n",
    "print(x)\n",
    "print(y)\n",
    "print(z)\n",
    "mdl.add(x != y) \n",
    "D = mdl.propagate()\n",
    "mdl.add(x != z)\n",
    "D = mdl.propagate()\n",
    "mdl.add(y != z)\n",
    "D = mdl.propagate()\n",
    "print(D)"
   ]
  },
  {
   "cell_type": "markdown",
   "metadata": {},
   "source": [
    "**Question**: Was the solver able to detect that this problem has no solution? Why?"
   ]
  },
  {
   "cell_type": "markdown",
   "metadata": {},
   "source": [
    "**Ans >>** No. Because the solver only see binary constraints, which are always valid in the variable domain. Therefore no domain has been reduced."
   ]
  },
  {
   "cell_type": "markdown",
   "metadata": {},
   "source": [
    "**Question**: Which global constraint could you use in order to replace the three constraints in the previous model?\n",
    "\n",
    "**Exercice**: Create a new model, similar to the previous one, but using a single global constraint."
   ]
  },
  {
   "cell_type": "markdown",
   "metadata": {},
   "source": [
    "**Ans >>** We can use global constraint all different ($all\\_diff$ in `docplex`)"
   ]
  },
  {
   "cell_type": "code",
   "execution_count": 53,
   "metadata": {},
   "outputs": [],
   "source": [
    "from docplex.cp.model import CpoModel\n",
    "from docplex.cp.model import *\n",
    "\n",
    "# Create the model\n",
    "mdl = CpoModel()\n",
    "x, y, z = mdl.integer_var_list(3,1,2, 'list')\n",
    "mdl.add(all_diff(x, y, z))\n",
    "\n",
    "sols = mdl.start_search()\n",
    "for sol in sols:\n",
    "    sol.write()"
   ]
  },
  {
   "cell_type": "markdown",
   "metadata": {},
   "source": [
    "**Exercice:** Propagate this new model.\n",
    "\n",
    "**Question**: Was the solver able to detect that this problem has no solution? Why?"
   ]
  },
  {
   "cell_type": "markdown",
   "metadata": {},
   "source": [
    "**Ans >>** Yes, the solver can detect that problem does not have solution.\n",
    "Because the previous model use only binary constraints, which is valid in domain (only arc-consistency for binary is used).\n",
    "When the solver filter the AC-3, the domain is then able to be reduced. "
   ]
  },
  {
   "cell_type": "code",
   "execution_count": 36,
   "metadata": {
    "scrolled": true
   },
   "outputs": [
    {
     "name": "stdout",
     "output_type": "stream",
     "text": [
      "-------------------------------------------------------------------------------\n",
      "Model constraints: 1, variables: integer: 3, interval: 0, sequence: 0\n",
      "Solve status: Infeasible, Fail status: SearchHasFailedNormally\n",
      "Search status: SearchCompleted, stop cause: SearchHasNotBeenStopped\n",
      "Solve time: 0 sec\n",
      "-------------------------------------------------------------------------------\n",
      "\n",
      "list_0: ((1, 2),)\n",
      "list_1: ((1, 2),)\n",
      "list_2: ((1, 2),)\n",
      "\n"
     ]
    }
   ],
   "source": [
    "mdl = CpoModel()\n",
    "x, y, z = mdl.integer_var_list(3,1,2, 'list')\n",
    "mdl.add(all_diff(x, y, z))\n",
    "D = mdl.propagate()\n",
    "print(D)"
   ]
  },
  {
   "cell_type": "markdown",
   "metadata": {},
   "source": [
    "### Filtering &amp; Hall sets\n",
    "\n",
    "**Exercice**: Proceed as before and create two models (one with no global constraints, one with only a single global constraints) for the following CSP:\n",
    "\n",
    "- 4 variables $x_1$, $x_2$, $x_3$, $x_4$.\n",
    "- the following domains:\n",
    "  - $\\cal{D}_{x_i} = \\left\\{1, 2, 3\\right\\}$ for $i \\in \\left\\{1, 2, 3\\right\\}$.\n",
    "  - $\\cal{D}_{x_4} = \\left\\{1, 2, 3, 4\\right\\}$.\n",
    "- $\\forall i \\ne j \\in \\left\\{1, 2, 3, 4\\right\\}, x_i \\ne x_j$"
   ]
  },
  {
   "cell_type": "code",
   "execution_count": 37,
   "metadata": {},
   "outputs": [
    {
     "name": "stdout",
     "output_type": "stream",
     "text": [
      "Solution for  <ipython-input-37-0214fefad730>\n",
      "-------------------------------------------------------------------------------\n",
      "Model constraints: 1, variables: integer: 4, interval: 0, sequence: 0\n",
      "Solve status: Feasible, Fail status: SearchHasNotFailed\n",
      "Search status: SearchOngoing, stop cause: SearchHasNotBeenStopped\n",
      "Solve time: 0.0 sec\n",
      "-------------------------------------------------------------------------------\n",
      "\n",
      "a: 1\n",
      "b: 2\n",
      "c: 3\n",
      "d: 4\n",
      "-------------------------------------------------------------------------------\n",
      "Model constraints: 1, variables: integer: 4, interval: 0, sequence: 0\n",
      "Solve status: Feasible, Fail status: SearchHasNotFailed\n",
      "Search status: SearchOngoing, stop cause: SearchHasNotBeenStopped\n",
      "Solve time: 0.0 sec\n",
      "-------------------------------------------------------------------------------\n",
      "\n",
      "a: 1\n",
      "b: 3\n",
      "c: 2\n",
      "d: 4\n",
      "-------------------------------------------------------------------------------\n",
      "Model constraints: 1, variables: integer: 4, interval: 0, sequence: 0\n",
      "Solve status: Feasible, Fail status: SearchHasNotFailed\n",
      "Search status: SearchOngoing, stop cause: SearchHasNotBeenStopped\n",
      "Solve time: 0.0 sec\n",
      "-------------------------------------------------------------------------------\n",
      "\n",
      "a: 2\n",
      "b: 1\n",
      "c: 3\n",
      "d: 4\n",
      "-------------------------------------------------------------------------------\n",
      "Model constraints: 1, variables: integer: 4, interval: 0, sequence: 0\n",
      "Solve status: Feasible, Fail status: SearchHasNotFailed\n",
      "Search status: SearchOngoing, stop cause: SearchHasNotBeenStopped\n",
      "Solve time: 0.0 sec\n",
      "-------------------------------------------------------------------------------\n",
      "\n",
      "a: 2\n",
      "b: 3\n",
      "c: 1\n",
      "d: 4\n",
      "-------------------------------------------------------------------------------\n",
      "Model constraints: 1, variables: integer: 4, interval: 0, sequence: 0\n",
      "Solve status: Feasible, Fail status: SearchHasNotFailed\n",
      "Search status: SearchOngoing, stop cause: SearchHasNotBeenStopped\n",
      "Solve time: 0.0 sec\n",
      "-------------------------------------------------------------------------------\n",
      "\n",
      "a: 3\n",
      "b: 1\n",
      "c: 2\n",
      "d: 4\n",
      "-------------------------------------------------------------------------------\n",
      "Model constraints: 1, variables: integer: 4, interval: 0, sequence: 0\n",
      "Solve status: Feasible, Fail status: SearchHasNotFailed\n",
      "Search status: SearchOngoing, stop cause: SearchHasNotBeenStopped\n",
      "Solve time: 0.0 sec\n",
      "-------------------------------------------------------------------------------\n",
      "\n",
      "a: 3\n",
      "b: 2\n",
      "c: 1\n",
      "d: 4\n",
      "Solution for  <ipython-input-37-0214fefad730>\n",
      "-------------------------------------------------------------------------------\n",
      "Model constraints: 6, variables: integer: 4, interval: 0, sequence: 0\n",
      "Solve status: Feasible, Fail status: SearchHasNotFailed\n",
      "Search status: SearchOngoing, stop cause: SearchHasNotBeenStopped\n",
      "Solve time: 0.0 sec\n",
      "-------------------------------------------------------------------------------\n",
      "\n",
      "a: 1\n",
      "b: 2\n",
      "c: 3\n",
      "d: 4\n",
      "-------------------------------------------------------------------------------\n",
      "Model constraints: 6, variables: integer: 4, interval: 0, sequence: 0\n",
      "Solve status: Feasible, Fail status: SearchHasNotFailed\n",
      "Search status: SearchOngoing, stop cause: SearchHasNotBeenStopped\n",
      "Solve time: 0.0 sec\n",
      "-------------------------------------------------------------------------------\n",
      "\n",
      "a: 1\n",
      "b: 3\n",
      "c: 2\n",
      "d: 4\n",
      "-------------------------------------------------------------------------------\n",
      "Model constraints: 6, variables: integer: 4, interval: 0, sequence: 0\n",
      "Solve status: Feasible, Fail status: SearchHasNotFailed\n",
      "Search status: SearchOngoing, stop cause: SearchHasNotBeenStopped\n",
      "Solve time: 0.0 sec\n",
      "-------------------------------------------------------------------------------\n",
      "\n",
      "a: 2\n",
      "b: 1\n",
      "c: 3\n",
      "d: 4\n",
      "-------------------------------------------------------------------------------\n",
      "Model constraints: 6, variables: integer: 4, interval: 0, sequence: 0\n",
      "Solve status: Feasible, Fail status: SearchHasNotFailed\n",
      "Search status: SearchOngoing, stop cause: SearchHasNotBeenStopped\n",
      "Solve time: 0.0 sec\n",
      "-------------------------------------------------------------------------------\n",
      "\n",
      "a: 2\n",
      "b: 3\n",
      "c: 1\n",
      "d: 4\n",
      "-------------------------------------------------------------------------------\n",
      "Model constraints: 6, variables: integer: 4, interval: 0, sequence: 0\n",
      "Solve status: Feasible, Fail status: SearchHasNotFailed\n",
      "Search status: SearchOngoing, stop cause: SearchHasNotBeenStopped\n",
      "Solve time: 0.0 sec\n",
      "-------------------------------------------------------------------------------\n",
      "\n",
      "a: 3\n",
      "b: 1\n",
      "c: 2\n",
      "d: 4\n",
      "-------------------------------------------------------------------------------\n",
      "Model constraints: 6, variables: integer: 4, interval: 0, sequence: 0\n",
      "Solve status: Feasible, Fail status: SearchHasNotFailed\n",
      "Search status: SearchOngoing, stop cause: SearchHasNotBeenStopped\n",
      "Solve time: 0.0 sec\n",
      "-------------------------------------------------------------------------------\n",
      "\n",
      "a: 3\n",
      "b: 2\n",
      "c: 1\n",
      "d: 4\n"
     ]
    }
   ],
   "source": [
    "from docplex.cp.model import *\n",
    "\n",
    "# Create the model\n",
    "# model for global constraint\n",
    "mdl_global = CpoModel()\n",
    "a = mdl_global.integer_var(1, 3,'a')\n",
    "b = mdl_global.integer_var(1, 3,'b')\n",
    "c = mdl_global.integer_var(1, 3,'c')\n",
    "d = mdl_global.integer_var(1, 4,'d')\n",
    "mdl_global.add(all_diff(a,b,c,d))\n",
    "\n",
    "# model for seperate constraint\n",
    "mdl_single = CpoModel()\n",
    "a = mdl_single.integer_var(1, 3,'a')\n",
    "b = mdl_single.integer_var(1, 3,'b')\n",
    "c = mdl_single.integer_var(1, 3,'c')\n",
    "d = mdl_single.integer_var(1, 4,'d')\n",
    "mdl_single.add(a != b)\n",
    "mdl_single.add(a != c)\n",
    "mdl_single.add(a != d)\n",
    "mdl_single.add(b != c)\n",
    "mdl_single.add(b != d)\n",
    "mdl_single.add(c != d)\n",
    "\n",
    "# Solve\n",
    "print(\"Solution for \", mdl_global)\n",
    "sols = mdl_global.start_search()\n",
    "for sol in sols:\n",
    "    sol.write()\n",
    "    \n",
    "print(\"Solution for \", mdl_single)\n",
    "sols = mdl_single.start_search()\n",
    "for sol in sols:\n",
    "    sol.write()"
   ]
  },
  {
   "cell_type": "markdown",
   "metadata": {},
   "source": [
    "**Question**: Explain why the only possible value for $x_4$ is $4$.\n",
    "\n",
    "**Exercice**: Propagate constraints on the root node for both model. Was the solver able to deduce $x_4 = 4$?"
   ]
  },
  {
   "cell_type": "markdown",
   "metadata": {},
   "source": [
    "**Ans >>** No, the solver can't deduce $x_4$ = 4"
   ]
  },
  {
   "cell_type": "code",
   "execution_count": 52,
   "metadata": {
    "scrolled": true
   },
   "outputs": [
    {
     "name": "stdout",
     "output_type": "stream",
     "text": [
      "D done by global constraint:\n",
      "-------------------------------------------------------------------------------\n",
      "Model constraints: 4, variables: integer: 4, interval: 0, sequence: 0\n",
      "Solve status: Unknown, Fail status: SearchHasNotFailed\n",
      "Search status: SearchCompleted, stop cause: SearchHasNotBeenStopped\n",
      "Solve time: 0 sec\n",
      "-------------------------------------------------------------------------------\n",
      "\n",
      "a: ((1, 2),)\n",
      "b: ((2, 3),)\n",
      "c: ((1, 2),)\n",
      "d: ((1, 2),)\n",
      "\n",
      "D done by single constraint:\n",
      "-------------------------------------------------------------------------------\n",
      "Model constraints: 6, variables: integer: 4, interval: 0, sequence: 0\n",
      "Solve status: Unknown, Fail status: SearchHasNotFailed\n",
      "Search status: SearchCompleted, stop cause: SearchHasNotBeenStopped\n",
      "Solve time: 0 sec\n",
      "-------------------------------------------------------------------------------\n",
      "\n",
      "a: ((1, 3),)\n",
      "b: ((1, 3),)\n",
      "c: ((1, 3),)\n",
      "d: ((1, 4),)\n",
      "\n"
     ]
    }
   ],
   "source": [
    "# Because if it takes one of the other values, a b & c will not be able to satisfy the constraints (it will rest 2 values for 3 variables)\n",
    "print(\"D done by global constraint:\")\n",
    "print(mdl_global.propagate())\n",
    "\n",
    "print(\"D done by single constraint:\")\n",
    "print(mdl_single.propagate())"
   ]
  },
  {
   "cell_type": "markdown",
   "metadata": {},
   "source": [
    "When propagating constraints or solving a model, you can customize the *inference level* for some or all constraints (see [`docplex.cp.parameters`](https://cdn.rawgit.com/IBMDecisionOptimization/docplex-doc/master/docs/cp/docplex.cp.parameters.py.html#docplex.cp.parameters.CpoParameters.DefaultInferenceLevel)).\n",
    "\n",
    "**Exercice**: Propagate constraints again for both model again, but this time use `DefaultInferenceLevel='Medium'`. Was the solver able to deduce $x_4 = 4$?"
   ]
  },
  {
   "cell_type": "code",
   "execution_count": 39,
   "metadata": {},
   "outputs": [
    {
     "name": "stdout",
     "output_type": "stream",
     "text": [
      "D done by global constraint:\n",
      "-------------------------------------------------------------------------------\n",
      "Model constraints: 1, variables: integer: 4, interval: 0, sequence: 0\n",
      "Solve status: Unknown, Fail status: SearchHasNotFailed\n",
      "Search status: SearchCompleted, stop cause: SearchHasNotBeenStopped\n",
      "Solve time: 0 sec\n",
      "-------------------------------------------------------------------------------\n",
      "\n",
      "a: ((1, 3),)\n",
      "b: ((1, 3),)\n",
      "c: ((1, 3),)\n",
      "d: 4\n",
      "\n",
      "D done by single constraint:\n",
      "-------------------------------------------------------------------------------\n",
      "Model constraints: 6, variables: integer: 4, interval: 0, sequence: 0\n",
      "Solve status: Unknown, Fail status: SearchHasNotFailed\n",
      "Search status: SearchCompleted, stop cause: SearchHasNotBeenStopped\n",
      "Solve time: 0 sec\n",
      "-------------------------------------------------------------------------------\n",
      "\n",
      "a: ((1, 3),)\n",
      "b: ((1, 3),)\n",
      "c: ((1, 3),)\n",
      "d: ((1, 4),)\n",
      "\n"
     ]
    }
   ],
   "source": [
    "print(\"D done by global constraint:\")\n",
    "print(mdl_global.propagate(DefaultInferenceLevel='Medium'))\n",
    "#Yes\n",
    "\n",
    "print(\"D done by single constraint:\")\n",
    "print(mdl_single.propagate(DefaultInferenceLevel='Medium'))\n",
    "#No\n"
   ]
  },
  {
   "cell_type": "markdown",
   "metadata": {},
   "source": [
    "### Filtering &amp; Constraints in extension\n",
    "\n",
    "Consider the following CSP:\n",
    "\n",
    "- 4 variables $x_1$, $x_2$, $x_3$, $x_4$.\n",
    "- the same domain for all variables: $\\cal{D}_{x_1} = \\cal{D}_{x_2} = \\cal{D}_{x_3} = \\cal{D}_{x_4} = \\left\\{1,~2,~3,~4\\right\\}$.\n",
    "- the following constraints &mdash; specified in extension:\n",
    "\n",
    "$$\n",
    "\\begin{array}{cccc}\n",
    "\\cal{C}_{12} = \n",
    "\\begin{array}{|c|c|}\n",
    "    \\hline\n",
    "    x_1 & x_2\\\\\n",
    "    \\hline\n",
    "    1 & 2\\\\\n",
    "    1 & 3\\\\\n",
    "    1 & 4\\\\\n",
    "    2 & 3\\\\\n",
    "    2 & 4\\\\\n",
    "    3 & 4\\\\\n",
    "    \\hline\n",
    "\\end{array} &\n",
    "\\quad \\cal{C}_{34} = \n",
    "\\begin{array}{|c|c|}\n",
    "    \\hline\n",
    "    x_3 & x_4\\\\\n",
    "    \\hline\n",
    "    1 & 2\\\\\n",
    "    1 & 3\\\\\n",
    "    1 & 4\\\\\n",
    "    2 & 1\\\\\n",
    "    2 & 3\\\\\n",
    "    2 & 4\\\\\n",
    "    3 & 1\\\\\n",
    "    3 & 2\\\\\n",
    "    3 & 4\\\\\n",
    "    4 & 1\\\\\n",
    "    4 & 2\\\\\n",
    "    4 & 3\\\\\n",
    "    \\hline\n",
    "\\end{array} & \n",
    "\\quad \\cal{C}_{123} = \n",
    "\\begin{array}{|c|c|c|}\n",
    "    \\hline\n",
    "    x_1 & x_2 & x_3\\\\\n",
    "    \\hline\n",
    "    1 & 1 & 4\\\\\n",
    "    1 & 2 & 3\\\\\n",
    "    1 & 3 & 2\\\\\n",
    "    1 & 4 & 1\\\\\n",
    "    2 & 1 & 3\\\\\n",
    "    2 & 2 & 2\\\\\n",
    "    2 & 3 & 1\\\\\n",
    "    3 & 1 & 2\\\\\n",
    "    3 & 2 & 1\\\\\n",
    "    4 & 1 & 1\\\\\n",
    "    \\hline\n",
    "\\end{array} & \n",
    "\\quad \\cal{C}_{234} = \n",
    "\\begin{array}{|c|c|c|}\n",
    "    \\hline\n",
    "    x_2 & x_3 & x_4\\\\\n",
    "    \\hline\n",
    "    1 & 1 & 3\\\\\n",
    "    1 & 2 & 2\\\\\n",
    "    1 & 3 & 1\\\\\n",
    "    2 & 1 & 2\\\\\n",
    "    2 & 2 & 1\\\\\n",
    "    3 & 1 & 1\\\\\n",
    "    \\hline\n",
    "\\end{array}\n",
    "\\end{array}\n",
    "$$"
   ]
  },
  {
   "cell_type": "markdown",
   "metadata": {},
   "source": [
    "**Question:** By projecting constraints $C_{12}$, $C_{34}$, $C_{123}$ and $C_{234}$ on each other and on $x_1$ through $x_4$, reduce as much as possible the domains of $x_1$, $x_2$, $x_3$ and $x_4$."
   ]
  },
  {
   "cell_type": "markdown",
   "metadata": {},
   "source": [
    "**Ans >>** The reduced constraints:\n",
    "$$\n",
    "\\begin{array}{cccc}\n",
    "\\cal{C}_{12} = \n",
    "\\begin{array}{|c|c|}\n",
    "    \\hline\n",
    "    x_1 & x_2\\\\\n",
    "    \\hline\n",
    "    2 & 3\\\\\n",
    "    \\hline\n",
    "\\end{array} &\n",
    "\\quad \\cal{C}_{34} = \n",
    "\\begin{array}{|c|c|}\n",
    "    \\hline\n",
    "    x_3 & x_4\\\\\n",
    "    \\hline\n",
    "    1 & 2\\\\\n",
    "    1 & 3\\\\\n",
    "    2 & 1\\\\\n",
    "    3 & 1\\\\\n",
    "    \\hline\n",
    "\\end{array} & \n",
    "\\quad \\cal{C}_{123} = \n",
    "\\begin{array}{|c|c|c|}\n",
    "    \\hline\n",
    "    x_1 & x_2 & x_3\\\\\n",
    "    \\hline\n",
    "    2 & 1 & 3\\\\\n",
    "    2 & 2 & 2\\\\\n",
    "    2 & 3 & 1\\\\\n",
    "    3 & 1 & 2\\\\\n",
    "    3 & 2 & 1\\\\\n",
    "    4 & 1 & 1\\\\\n",
    "    \\hline\n",
    "\\end{array} & \n",
    "\\quad \\cal{C}_{234} = \n",
    "\\begin{array}{|c|c|c|}\n",
    "    \\hline\n",
    "    x_2 & x_3 & x_4\\\\\n",
    "    \\hline\n",
    "    1 & 1 & 3\\\\\n",
    "    1 & 2 & 2\\\\\n",
    "    1 & 3 & 1\\\\\n",
    "    2 & 1 & 2\\\\\n",
    "    2 & 2 & 1\\\\\n",
    "    3 & 1 & 1\\\\\n",
    "    \\hline\n",
    "\\end{array}\n",
    "\\end{array}\n",
    "$$\n",
    "\n",
    "__**Justification**:\n",
    "- In $\\cal{C}_{12}$: the couple $(2,~4)$ and $(3,~4)  \\notin \\cal{C}_{123}$\n",
    "- In $\\cal{C}_{34}$: \n",
    "    - $\\cal{C}_{123}$ does not contain value $4$ for $x_3$, therefor all $(4,~\\ldots)$ are excluded.\n",
    "    - $\\left\\{(1,~4),~\\ldots,(3,~4)\\right\\} \\notin \\cal{C}_{234}$\n",
    "- In $\\cal{C}_{123}$: By projecting only $(x_2,x_3)$ to $\\cal{C}_{234}$, we stray out all the first 4 contraints.\n",
    "- Back to $\\cal{C}_{12}$: All couples $(1,~\\ldots)$ are left out because now $\\cal{C}_{123}$ does not have any $x_1 = 1$"
   ]
  },
  {
   "cell_type": "markdown",
   "metadata": {},
   "source": [
    "**Exercice:** Create a `docplex` model for the above CSP."
   ]
  },
  {
   "cell_type": "code",
   "execution_count": 40,
   "metadata": {},
   "outputs": [
    {
     "name": "stdout",
     "output_type": "stream",
     "text": [
      "-------------------------------------------------------------------------------\n",
      "Model constraints: 4, variables: integer: 4, interval: 0, sequence: 0\n",
      "Solve status: Infeasible, Fail status: SearchHasFailedNormally\n",
      "Search status: SearchCompleted, stop cause: SearchHasNotBeenStopped\n",
      "Solve time: 0.0 sec\n",
      "-------------------------------------------------------------------------------\n",
      "\n"
     ]
    }
   ],
   "source": [
    "# Create the model\n",
    "mdl_global = CpoModel()\n",
    "a = mdl_global.integer_var(1, 4,'a')\n",
    "b = mdl_global.integer_var(1, 4,'b')\n",
    "c = mdl_global.integer_var(1, 4,'c')\n",
    "d = mdl_global.integer_var(1, 4,'d')\n",
    "\n",
    "C12  = ((1,2),(1,3),(1,4),(2,3),(2,4),(3,4))\n",
    "C34  = ((1,2),(1,3),(1,4),(2,1),(2,3),(2,4),(3,1),(3,2),(3,4),(4,1),(4,2),(4,3))\n",
    "C123 = ((1,1,4),(1,2,3),(1,3,2),(1,4,1),(2,1,3),(2,2,2),(2,3,1),(3,1,2),(3,2,1),(4,1,1))\n",
    "C234 = ((1,1,3),(1,2,2),(1,3,1),(2,1,2),(2,2,1),(3,1,1))\n",
    "\n",
    "mdl_global.add(mdl_global.allowed_assignments((a,b),C12))\n",
    "mdl_global.add(mdl_global.allowed_assignments((c,d),C34))\n",
    "mdl_global.add(mdl_global.allowed_assignments((a,b,c),C123))\n",
    "mdl_global.add(mdl_global.allowed_assignments((b,c,d),C234))\n",
    "\n",
    "mdl_global.solve().write()\n",
    "\n",
    "sols = mdl_global.start_search()\n",
    "\n",
    "for sol in sols:\n",
    "    sol.write()\n",
    "    \n",
    "# pas de solution"
   ]
  },
  {
   "cell_type": "markdown",
   "metadata": {},
   "source": [
    "\n",
    "**Exercice**: Propagate the model and compare the reduction of the domains with your answer to the previous question."
   ]
  },
  {
   "cell_type": "code",
   "execution_count": 41,
   "metadata": {},
   "outputs": [
    {
     "name": "stdout",
     "output_type": "stream",
     "text": [
      "-------------------------------------------------------------------------------\n",
      "Model constraints: 4, variables: integer: 4, interval: 0, sequence: 0\n",
      "Solve status: Unknown, Fail status: SearchHasNotFailed\n",
      "Search status: SearchCompleted, stop cause: SearchHasNotBeenStopped\n",
      "Solve time: 0 sec\n",
      "-------------------------------------------------------------------------------\n",
      "\n",
      "a: ((1, 2),)\n",
      "b: ((2, 3),)\n",
      "c: ((1, 2),)\n",
      "d: ((1, 2),)\n",
      "\n"
     ]
    }
   ],
   "source": [
    "print(mdl_global.propagate(DefaultInferenceLevel='Extended'))"
   ]
  },
  {
   "cell_type": "markdown",
   "metadata": {},
   "source": [
    "## The *SEND + MORE = MONEY* problem\n",
    "\n",
    "Given the following equation:\n",
    "\n",
    "$\n",
    "\\begin{array}{ccccc}\n",
    "& S & E & N & D\\\\\n",
    "+ & M & O & R & E\\\\\n",
    "\\hline\n",
    "M & O & N & E & Y \\\\\n",
    "\\end{array}\n",
    "$\n",
    "\n",
    "The objective is to assign a digit $\\left\\{0,~\\ldots,~9\\right\\}$ to each letter, while satisfying the following rules:\n",
    "\n",
    "- Each letter must be assigned a different digit.\n",
    "- The first letter of each words may not be 0, i.e. $M \\ne 0$ and $S \\ne 0$."
   ]
  },
  {
   "cell_type": "markdown",
   "metadata": {},
   "source": [
    "**Question**: How many variables and constraints do you need for this problem?"
   ]
  },
  {
   "cell_type": "markdown",
   "metadata": {},
   "source": [
    "**Ans >>** It needs 8 variables at least (different unique letters in \"send more money\") and 4 constraints (the letters are different from one to another, $M$ and $S \\ne  0$ and the equation $send + more = money$"
   ]
  },
  {
   "cell_type": "markdown",
   "metadata": {},
   "source": [
    "**Exercice**: Propose a model for the *SEND + MORE = MONEY* problem."
   ]
  },
  {
   "cell_type": "markdown",
   "metadata": {},
   "source": [
    "**Ans >>** To simplify the model, I integrate the constraint of $M \\ne 0$ and $S \\ne 0$ into the domain of $M$ and $S$.\n",
    "Therefore the model contains:\n",
    "\n",
    "- 8 variables $s$, $e$, $n$, $d$, $m$, $o$, $r$, $y$.\n",
    "- Same domain for 6 following variables: $\\cal{D}_{e} = \\cal{D}_{n} = \\cal{D}_{d} = \\cal{D}_{o} = \\cal{D}_{r} = \\cal{D}_{y} = \\left\\{0,~1,~2,~3,~4,~5,~6,~7,~8,~9\\right\\}$.\n",
    "- 2 particular domain for $s$ and $m$: $\\cal{D}_{s} = \\cal{D}_{m} = \\left\\{1,~2,~\\ldots,~9\\right\\}$\n",
    "- The following constraints:\n",
    "    - $\\forall x \\in Var, \\forall y \\in (Var\\setminus x), y \\ne x ~with~ Var = \\left\\{s,~e,~n,~d,~m,~o,~r,~y\\right\\}$ (all different)\n",
    "    - $(1000s + 100e + 10n +d) + (1000m + 100o + 10r + e) = (10000m + 1000o + 100n +10e + y) \n",
    "    \n",
    "**NOTE >>** I am conscient that I can have another model where I can have the same domain for all 8 variables $\\left\\{1,~2,~\\ldots,~9\\right\\}$, and add 2 unary constraints $M \\ne 0$ and $M \\ne 1$. The above model dispose a reduced domaine using **node-consistency 1**.\n",
    "However, I still keep the above model for the rest."
   ]
  },
  {
   "cell_type": "markdown",
   "metadata": {},
   "source": [
    "**Question**: Using bound-consistency, show that:\n",
    "\n",
    "- The variable $M$ can only be assigned a single value.\n",
    "- The variable $S$ can only be assigned a single value.\n",
    "- The domain of the variable $O$ can be reduced to two values.\n",
    "\n",
    "**Question**: Using arc-consistency, show that the variable $O$ can only take a single a value and that the domains of all other variables is reduced to $\\left\\{2,~\\ldots,~8\\right\\}$."
   ]
  },
  {
   "cell_type": "markdown",
   "metadata": {},
   "source": [
    "**Exercice**: Create a model for the *SEND + MORE = MONEY* problem using `docplex`."
   ]
  },
  {
   "cell_type": "code",
   "execution_count": 42,
   "metadata": {},
   "outputs": [
    {
     "name": "stdout",
     "output_type": "stream",
     "text": [
      "-------------------------------------------------------------------------------\n",
      "Model constraints: 2, variables: integer: 8, interval: 0, sequence: 0\n",
      "Solve status: Unknown, Fail status: SearchHasNotFailed\n",
      "Search status: SearchCompleted, stop cause: SearchHasNotBeenStopped\n",
      "Solve time: 0 sec\n",
      "-------------------------------------------------------------------------------\n",
      "\n",
      "d: ((2, 8),)\n",
      "e: ((2, 8),)\n",
      "m: 1\n",
      "n: ((2, 8),)\n",
      "o: 0\n",
      "r: ((2, 8),)\n",
      "s: 9\n",
      "y: ((2, 8),)\n",
      "\n"
     ]
    }
   ],
   "source": [
    "# We need 8 variables for the problem and 4 contraints (all different, M != 0, S != 0, send + more = money)\n",
    "mdl = CpoModel()\n",
    "\n",
    "s = mdl.integer_var(1,9,'s')\n",
    "e = mdl.integer_var(0,9,'e')\n",
    "n = mdl.integer_var(0,9,'n')\n",
    "d = mdl.integer_var(0,9,'d')\n",
    "m = mdl.integer_var(1,9,'m')\n",
    "o = mdl.integer_var(0,9,'o')\n",
    "r = mdl.integer_var(0,9,'r')\n",
    "y = mdl.integer_var(0,9,'y')\n",
    "\n",
    "mdl.add(all_diff(s, e, n, d, m, o, r, y))\n",
    "send = s*1000 + e*100 + n*10 + d\n",
    "more = m*1000 + o*100 + r*10 + e\n",
    "money = m*10000 + o*1000 + n*100 + e*10 + y\n",
    "mdl.add(send + more == money)\n",
    "\n",
    "print(mdl.propagate(DefaultInferenceLevel='Medium'))"
   ]
  },
  {
   "cell_type": "markdown",
   "metadata": {},
   "source": [
    "**Exercice**: Solve the problem. How many solutions exist for this problem?"
   ]
  },
  {
   "cell_type": "markdown",
   "metadata": {},
   "source": [
    "**Ans >>** The problem has only **1** solution."
   ]
  },
  {
   "cell_type": "code",
   "execution_count": 48,
   "metadata": {},
   "outputs": [
    {
     "name": "stdout",
     "output_type": "stream",
     "text": [
      "Solve: \n",
      "-------------------------------------------------------------------------------\n",
      "Model constraints: 2, variables: integer: 8, interval: 0, sequence: 0\n",
      "Solve status: Feasible, Fail status: SearchHasNotFailed\n",
      "Search status: SearchCompleted, stop cause: SearchHasNotBeenStopped\n",
      "Solve time: 0.0 sec\n",
      "-------------------------------------------------------------------------------\n",
      "\n",
      "d: 7\n",
      "e: 5\n",
      "m: 1\n",
      "n: 6\n",
      "o: 0\n",
      "r: 8\n",
      "s: 9\n",
      "y: 2\n",
      "None\n",
      "All solution\n",
      "-------------------------------------------------------------------------------\n",
      "Model constraints: 2, variables: integer: 8, interval: 0, sequence: 0\n",
      "Solve status: Feasible, Fail status: SearchHasNotFailed\n",
      "Search status: SearchOngoing, stop cause: SearchHasNotBeenStopped\n",
      "Solve time: 0.0 sec\n",
      "-------------------------------------------------------------------------------\n",
      "\n",
      "d: 7\n",
      "e: 5\n",
      "m: 1\n",
      "n: 6\n",
      "o: 0\n",
      "r: 8\n",
      "s: 9\n",
      "y: 2\n"
     ]
    }
   ],
   "source": [
    "print(\"Solve: \")\n",
    "print(mdl.solve().write())\n",
    "\n",
    "print(\"All solution\")\n",
    "sols = mdl.start_search()\n",
    "for sol in sols:\n",
    "    sol.write()"
   ]
  },
  {
   "cell_type": "markdown",
   "metadata": {},
   "source": [
    "**Exercice:** Propagate the constraint on the root node of the model and print the result. Did you obtain what you expect?"
   ]
  },
  {
   "cell_type": "code",
   "execution_count": 44,
   "metadata": {},
   "outputs": [
    {
     "name": "stdout",
     "output_type": "stream",
     "text": [
      "-------------------------------------------------------------------------------\n",
      "Model constraints: 2, variables: integer: 8, interval: 0, sequence: 0\n",
      "Solve status: Unknown, Fail status: SearchHasNotFailed\n",
      "Search status: SearchCompleted, stop cause: SearchHasNotBeenStopped\n",
      "Solve time: 0 sec\n",
      "-------------------------------------------------------------------------------\n",
      "\n",
      "d: ((2, 8),)\n",
      "e: ((2, 8),)\n",
      "m: 1\n",
      "n: ((2, 8),)\n",
      "o: 0\n",
      "r: ((2, 8),)\n",
      "s: 9\n",
      "y: ((2, 8),)\n",
      "\n"
     ]
    }
   ],
   "source": [
    "print(mdl.propagate(DefaultInferenceLevel='Extended'))"
   ]
  },
  {
   "cell_type": "markdown",
   "metadata": {},
   "source": [
    "**Exercice**: Propagate again on the root, but this time enable CpOptimizer presolve (`.propagate(Presolve='On')`), did you expect this result?\n",
    "\n",
    "*Note: The `Presolve` parameter is set to `'Off'` by default when you call `config.setup()`, you can change the default by calling `config.setup(Presolve='On')`. If you are not using the INSA configuration, the presolve is enable by default.*"
   ]
  },
  {
   "cell_type": "code",
   "execution_count": 45,
   "metadata": {
    "scrolled": true
   },
   "outputs": [
    {
     "name": "stdout",
     "output_type": "stream",
     "text": [
      "-------------------------------------------------------------------------------\n",
      "Model constraints: 2, variables: integer: 8, interval: 0, sequence: 0\n",
      "Solve status: Unknown, Fail status: SearchHasNotFailed\n",
      "Search status: SearchCompleted, stop cause: SearchHasNotBeenStopped\n",
      "Solve time: 0 sec\n",
      "-------------------------------------------------------------------------------\n",
      "\n",
      "d: ((2, 8),)\n",
      "e: ((4, 7),)\n",
      "m: 1\n",
      "n: ((5, 8),)\n",
      "o: 0\n",
      "r: ((2, 8),)\n",
      "s: 9\n",
      "y: ((2, 8),)\n",
      "\n"
     ]
    }
   ],
   "source": [
    "print(mdl.propagate(Presolve='On'))"
   ]
  },
  {
   "cell_type": "markdown",
   "metadata": {},
   "source": [
    "**Ans >>** We do not get the same result as the above, the $\\cal{D}_{e}$ and $\\cal{D}_{n}$ has been restricted."
   ]
  }
 ],
 "metadata": {
  "kernelspec": {
   "display_name": "Python 3",
   "language": "python",
   "name": "python3"
  },
  "language_info": {
   "codemirror_mode": {
    "name": "ipython",
    "version": 3
   },
   "file_extension": ".py",
   "mimetype": "text/x-python",
   "name": "python",
   "nbconvert_exporter": "python",
   "pygments_lexer": "ipython3",
   "version": "3.6.5"
  }
 },
 "nbformat": 4,
 "nbformat_minor": 2
}
