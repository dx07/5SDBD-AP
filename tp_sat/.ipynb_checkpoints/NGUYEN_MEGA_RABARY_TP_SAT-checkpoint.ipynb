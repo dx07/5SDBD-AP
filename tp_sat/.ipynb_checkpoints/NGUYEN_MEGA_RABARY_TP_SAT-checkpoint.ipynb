{
 "cells": [
  {
   "cell_type": "markdown",
   "metadata": {},
   "source": [
    "# TP Scheduling with SAT\n",
    "\n",
    "### Trinôme : Adrian - Duc - Anais"
   ]
  },
  {
   "cell_type": "code",
   "execution_count": 1,
   "metadata": {},
   "outputs": [],
   "source": [
    "from satire import *\n",
    "#import numpy as np "
   ]
  },
  {
   "cell_type": "markdown",
   "metadata": {},
   "source": [
    "* Paramètre"
   ]
  },
  {
   "cell_type": "code",
   "execution_count": 2,
   "metadata": {},
   "outputs": [],
   "source": [
    "debug = True\n",
    "cnf_encodeDomain = 'encodeDomain.cnf'\n",
    "cnf_encodeLess = 'encodeLess.cnf'"
   ]
  },
  {
   "cell_type": "code",
   "execution_count": 3,
   "metadata": {},
   "outputs": [],
   "source": [
    "def write_cnf(nb_var, nb_clause, clauses, cnf_filename):\n",
    "    with open(cnf_filename,\"w\")  as _out:\n",
    "        \n",
    "        # Comment\n",
    "        _out.write('c ' + cnf_filename + '\\n')\n",
    "        _out.write('c \\n')\n",
    "\n",
    "        # Heading\n",
    "        _out.write('p cnf ' + str(nb_var) + ' ' + str(nb_clause) + '\\n')\n",
    "\n",
    "        # Clauses\n",
    "\n",
    "        for c in clauses:\n",
    "            _out.write(c + '\\n')\n",
    "\n",
    "        if debug:\n",
    "            print \"Written to \" + cnf_filename"
   ]
  },
  {
   "cell_type": "code",
   "execution_count": 4,
   "metadata": {},
   "outputs": [],
   "source": [
    "def run_solver(solver):\n",
    "    outcome = solver.restartSearch()\n",
    "    print 'Satisfiable' if outcome == TRUE else 'Unsatisfiable' if outcome == FALSE else 'Unknown'\n",
    "    print solver.getStatistics()"
   ]
  },
  {
   "cell_type": "markdown",
   "metadata": {},
   "source": [
    "## Part 2 - SAT Encoding\n",
    "* Implement a function in python encodeDomain (a, b) that encodes a do-main [a, b] using the order encoding."
   ]
  },
  {
   "cell_type": "code",
   "execution_count": 31,
   "metadata": {},
   "outputs": [],
   "source": [
    "def encodeDomain(a, b):\n",
    "    assert a <= b, 'Expected a <= b, got ' + a +' <= '+ b\n",
    "    n = b - a + 1  # nb variable\n",
    "    nb_clause = (n*(n-1))/2 + 1 # Clauses for direct Encoding\n",
    "    \n",
    "    clauses = ['']\n",
    "    \n",
    "    for i in range(1, n+1):\n",
    "        \n",
    "        clauses[0] += str(i) + ' '\n",
    "        \n",
    "        for j in range(i+1, n+1):\n",
    "            clauses.append(str(-i) + ' ' + str(-j))\n",
    "            \n",
    "    if debug:\n",
    "        print('p cnf ' + str(n) + ' ' + str(nb_clause))\n",
    "        for c in clauses:\n",
    "            print(c)\n",
    "            \n",
    "    write_cnf(n, nb_clause, clauses, cnf_encodeDomain)"
   ]
  },
  {
   "cell_type": "markdown",
   "metadata": {},
   "source": [
    "Testing "
   ]
  },
  {
   "cell_type": "code",
   "execution_count": 25,
   "metadata": {},
   "outputs": [
    {
     "name": "stdout",
     "output_type": "stream",
     "text": [
      "p cnf 4 7\n",
      "1 2 3 4 \n",
      "-1 -2\n",
      "-1 -3\n",
      "-1 -4\n",
      "-2 -3\n",
      "-2 -4\n",
      "-3 -4\n",
      "Written to encodeDomain.cnf\n",
      "restart with limit = 100 -- number of conflicts = 0 -- cpu time = 0\n",
      "\n",
      "  infer -3 (reason=None) [1]\n",
      "  -3\n",
      "   infer -1 (reason=None) [2]\n",
      "   -1 -3\n",
      "    infer -6 (reason=None) [3]\n",
      "    -1 -3 -6\n",
      "     infer -4 (reason=None) [4]\n",
      "     -1 -3 -4 -6\n",
      "      infer -7 (reason=None) [5]\n",
      "      -1 -3 -4 -6 -7\n",
      "       infer -2 (reason=None) [6]\n",
      "       -1 -2 -3 -4 -6 -7\n",
      "        infer -5 (reason=None) [7]\n",
      "        -1 -2 -3 -4 -5 -6 -7\n",
      "         infer -8 (reason=None) [8]\n",
      "         -1 -2 -3 -4 -5 -6 -7 -8\n",
      "1\n",
      "Satisfiable\n",
      "number of choices = 8\n",
      "number of learnt clauses = 0\n",
      "number of conflicts = 0\n",
      "number of propagations = 8\n",
      "cpu time = 7\n"
     ]
    }
   ],
   "source": [
    "encodeDomain(2,5)\n",
    "solver = Solver()\n",
    "solver.readDimacs(cnf_encodeDomain)\n",
    "run_solver(solver)"
   ]
  },
  {
   "cell_type": "markdown",
   "metadata": {},
   "source": [
    "* Let X and Y be two integer variables with a domain equal to [a, b] where a < b ∈ N∗. Implement a function encodeLess(a, b)  that  encodes  the constraint X≤Y."
   ]
  },
  {
   "cell_type": "code",
   "execution_count": 18,
   "metadata": {},
   "outputs": [],
   "source": [
    "def encodeLess(a, b):\n",
    "    assert a <= b, 'Expected a <= b, got ' + str(a) +' <= '+ str(b)\n",
    "    n = (b - a + 1) \n",
    "    nb_variable = n*2\n",
    "    nb_clauses = 2 * (n - 1) + \\\n",
    "                 n                \n",
    "    # 2(n-1) Clause for ordering x and y + n clauses for X <= Y\n",
    "    \n",
    "    X = []\n",
    "    Y = []\n",
    "    clauses = [''] * nb_clauses\n",
    "        \n",
    "    # Regroup variables \n",
    "    for i in range(n):\n",
    "        X.append(i + 1)\n",
    "        Y.append(i + 1 + n)\n",
    "    \n",
    "    # Clauses for ordering domain\n",
    "    for i in range(n-1):\n",
    "        # X has n - 1 clauses, Y start from n\n",
    "        clauses[i] =  str(-X[i]) + ' ' + str(X[(i+1)])\n",
    "        clauses[i + n - 1] = str(-Y[i]) + ' ' + str(Y[(i+1)])\n",
    "        \n",
    "    # Clauses for x[i] = 0 -> y[j] = 0\n",
    "    for i in range(n):\n",
    "        clauses[2*n - 2 + i] = str(X[i]) + ' ' + str(-Y[i])\n",
    "    \n",
    "    if debug :\n",
    "        for c in clauses:\n",
    "            print(c)\n",
    "    \n",
    "    write_cnf(n, nb_clauses, clauses, cnf_encodeLess)"
   ]
  },
  {
   "cell_type": "code",
   "execution_count": 19,
   "metadata": {
    "scrolled": true
   },
   "outputs": [
    {
     "name": "stdout",
     "output_type": "stream",
     "text": [
      "-1 2\n",
      "-2 3\n",
      "-4 5\n",
      "-5 6\n",
      "1 -4\n",
      "2 -5\n",
      "3 -6\n",
      "Written to encodeLess.cnf\n",
      " infer -1 (reason=None) [0]\n",
      " infer -2 (reason=None) [0]\n",
      " infer -4 (reason=None) [0]\n",
      " infer -5 (reason=None) [0]\n",
      " infer 1 (reason=None) [0]\n",
      " infer 2 (reason=None) [0]\n",
      " infer 3 (reason=None) [0]\n",
      "restart with limit = 100 -- number of conflicts = 0 -- cpu time = 4\n",
      " 1 2 3 -4 -5 -6 -7\n",
      "  infer -8 (reason=None) [1]\n",
      "  1 2 3 -4 -5 -6 -7 -8\n",
      "1\n",
      "solution does not satisfy c0 (-1)\n",
      "Satisfiable\n",
      "number of choices = 1\n",
      "number of learnt clauses = 0\n",
      "number of conflicts = 0\n",
      "number of propagations = 8\n",
      "cpu time = 6\n"
     ]
    }
   ],
   "source": [
    "encodeLess(1,3)\n",
    "solver = Solver()\n",
    "solver.readDimacs(cnf_encodeLess)\n",
    "run_solver(solver)"
   ]
  },
  {
   "cell_type": "markdown",
   "metadata": {},
   "source": [
    "* Let X and Y be two integer variables such that D(x) = [a, b] and D(y) = [c, d]  where a  <  b ∈ N∗ and c  <  d ∈ N∗. Implement a function encodeGeneralLess(a, b, c, d) that encodes the constraint X≤Y."
   ]
  },
  {
   "cell_type": "code",
   "execution_count": 22,
   "metadata": {},
   "outputs": [],
   "source": [
    "def encodeGeneralLess (a, b, c, d):\n",
    "    assert a <= b, 'Expected a <= b, got ' + str(a) +' <= '+ str(b)\n",
    "    assert c <= d, 'Expected c <= d, got ' + str(c) +' <= '+ str(d)\n",
    "    \n",
    "    nb_var_X = b - a + 1\n",
    "    nb_var_Y = d - c + 1\n",
    "    \n",
    "    nb_variable = nb_var_X + nb_var_Y\n",
    "    nb_clauses = (nb_var_X - 1) + \\\n",
    "                 (nb_var_Y - 1) + \\\n",
    "                 0                   \n",
    "    # Clauses for ordering X + Y + clause for x <= y\n",
    "    \n",
    "    X = []\n",
    "    Y = []\n",
    "    clauses = []\n",
    "        \n",
    "    # Regroup variables \n",
    "    for i in range(nb_var_X):\n",
    "        X.append(i + 1)\n",
    "    for i in range(nb_var_Y):\n",
    "        Y.append(nb_var_X + i + 1)\n",
    "    \n",
    "    # Clauses for ordering domain\n",
    "    for i in range(nb_var_X - 1):\n",
    "        clauses.append( str(-X[i]) + ' ' + str(X[(i+1)]) )\n",
    "    for i in range(nb_var_Y - 1):\n",
    "        clauses.append( str(-Y[i]) + ' ' + str(Y[(i+1)]) )\n",
    "        \n",
    "    # Clauses for X <= Y\n",
    "    for i in range(a - c):\n",
    "        # if a > c then Y_i = 0 for i in c..a\n",
    "        clauses.append(str( -Y[0] ))\n",
    "        \n",
    "    for i in range(c - a + 1, nb_var_X):\n",
    "        # if a <= c <= b then X_i=0 --> Y_i = 0, for i in c..b\n",
    "        clause.append(str(X[i]) + ' ' + str(-Y[i]))\n",
    "        \n",
    "    if debug:\n",
    "        for c in clauses:\n",
    "            print(c)"
   ]
  }
 ],
 "metadata": {
  "kernelspec": {
   "display_name": "Python 2",
   "language": "python",
   "name": "python2"
  },
  "language_info": {
   "codemirror_mode": {
    "name": "ipython",
    "version": 2
   },
   "file_extension": ".py",
   "mimetype": "text/x-python",
   "name": "python",
   "nbconvert_exporter": "python",
   "pygments_lexer": "ipython2",
   "version": "2.7.15"
  }
 },
 "nbformat": 4,
 "nbformat_minor": 2
}
