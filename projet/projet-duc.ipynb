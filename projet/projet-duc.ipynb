{
 "cells": [
  {
   "cell_type": "code",
   "execution_count": 1,
   "metadata": {
    "scrolled": true
   },
   "outputs": [],
   "source": [
    "from config import setup\n",
    "setup()"
   ]
  },
  {
   "cell_type": "markdown",
   "metadata": {},
   "source": [
    " # Projet AP GeoSafe, Evacuation lors de feu\n",
    " \n",
    " ## Generator \n",
    " Pour générer les données utilisées après par le projet, il faut utiliser le générateur du projet evacsim"
   ]
  },
  {
   "cell_type": "code",
   "execution_count": 6,
   "metadata": {},
   "outputs": [],
   "source": [
    "from docplex.cp.model import CpoModel\n",
    "from docplex.cp.model import *\n",
    "import numpy as np"
   ]
  },
  {
   "cell_type": "markdown",
   "metadata": {},
   "source": [
    "configuration"
   ]
  },
  {
   "cell_type": "code",
   "execution_count": 1,
   "metadata": {},
   "outputs": [
    {
     "name": "stdout",
     "output_type": "stream",
     "text": [
      "toto\n",
      "platform:  linux\n",
      "Use path :  :/home/kihansi/Projects/insa/CPLEX_Studio128/cpoptimizer/bin/x86-64_linux\n"
     ]
    }
   ],
   "source": [
    "from config_duc import setup\n",
    "setup()"
   ]
  },
  {
   "cell_type": "markdown",
   "metadata": {},
   "source": [
    "## modélisation"
   ]
  },
  {
   "cell_type": "code",
   "execution_count": 2,
   "metadata": {},
   "outputs": [],
   "source": [
    "def geosafe_model(l, q, eps, r, W, H, d):\n",
    "    '''\n",
    "    Int  Matrix l: length path from i to j = G.l[i,j].\n",
    "                        no path ij <--> G.l[i,j] = 0\n",
    "    Int  Array  q: capacity of node i <--> G.q[i]\n",
    "    Bool Array  eps: evacuation node \n",
    "    Bool Array  r: safe node\n",
    "    \n",
    "    Int  Array  W: initial population at node i <--> W[i]\n",
    "    Int  H : Time span\n",
    "    Int  Array  d: deadline to leave the node\n",
    "    '''\n",
    "    \n",
    "    nb_node = q.shape[0]\n",
    "    nodes = np.arange(nb_node) # id nodes, i.e [1,2,3,4, ...]\n",
    "    total_population = np.sum(W)\n",
    "    \n",
    "    t = !eps & !r # transition node\n",
    "\n",
    "    mdl = CpoModel(name='geosafe')\n",
    "    \n",
    "    # == Output ==\n",
    "    # starting date\n",
    "    s = np.array( mdl.integer_var_list(nb_node, min=0, max = 150, name=\"s\") )\n",
    "    \n",
    "    # evacuation rate aka. height of package\n",
    "    h = np.array( mdl.integer_var_list(nb_node, min=0, max = 300, name=\"h\") )\n",
    "\n",
    "    # == Intermediate ==\n",
    "    # node flow of population\n",
    "    phi = np.matrix([\n",
    "            [ \n",
    "                mdl.integer_var(name='phi[%d,%d]'%(i,j)) for j in range(H) \n",
    "            ] for i in range(nb_node)\n",
    "        ])\n",
    "    \n",
    "    # ending date (leaving time) of node\n",
    "    e = np.array( mdl.integer_var_list(nb_node, min=0, max = 150, name= \"e\") )\n",
    "    \n",
    "    for v in range(nb_node):\n",
    "        if eps[v]:\n",
    "            mdl.add(\n",
    "                e[v] == s[v] + W[v]/h[v]\n",
    "            )\n",
    "    \n",
    "    # == Constraints ==\n",
    "    # evacuate everyone in evacuation node\n",
    "    for v in range(nb_node):\n",
    "        mdl.add(\n",
    "            mdl.sum(phi[v, t] for t in range (H)) == W[v] # TODO not really understand this constraint\n",
    "        ) \n",
    "    \n",
    "    # Flow at a node u = sum from all of its leaves node epsilon\n",
    "#     mdl.add_constraint(\n",
    "#         phi[u, t] == np.sum( phi[u, t - l[u,v] - s[eps]] ) \\\n",
    "#             for t in range(H)                                  \\\n",
    "#             for v in np.where(eps)                           \\\n",
    "#             for u in np.where(t)                             \n",
    "#     )\n",
    "\n",
    "    # simplified version\n",
    "    for u in nodes[np.where(t)]:\n",
    "        for t in range(H):\n",
    "             \n",
    "            v = nodes[np.where(\n",
    "                                np.logical_and(\n",
    "                                    l[u,:] > 0, \n",
    "                                    s + l[u,:] <= t,\n",
    "                                    t <= e + l[u, :]\n",
    "                                )\n",
    "                               )[1]]             \n",
    "            mdl.add(\n",
    "                phi[u, t] == mdl.sum(h[v])\n",
    "            )\n",
    "    \n",
    "    # Flow at a node does not excess capacity of arc\n",
    "    for t in range(H):\n",
    "        for u in nodes:\n",
    "            mdl.add(\n",
    "                phi[u,t] <= q[u]\n",
    "            )\n",
    "    \n",
    "    # Objective\n",
    "    mdl.add(\n",
    "        minimize(np.max(s[eps] + h[eps]/W[eps] - d[eps]))\n",
    "    )\n",
    "    \n",
    "    return mdl"
   ]
  },
  {
   "cell_type": "markdown",
   "metadata": {},
   "source": [
    "## Unit test:"
   ]
  },
  {
   "cell_type": "code",
   "execution_count": 3,
   "metadata": {},
   "outputs": [],
   "source": [
    "import networkx as nx"
   ]
  },
  {
   "cell_type": "code",
   "execution_count": 29,
   "metadata": {},
   "outputs": [],
   "source": [
    "G = nx.Graph()\n",
    "\n",
    "# TODO: Maybe we should use eps = W > 0, so that do not need to use 'eps' attribute?\n",
    "nodes_state = [\n",
    "    (1, {'eps': True,  'r': False, 'W': 5}),\n",
    "    (2, {'eps': True,  'r': False, 'W': 5}),\n",
    "    (3, {'eps': True,  'r': False, 'W': 5}),\n",
    "    (4, {'eps': False, 'r': False, 'W': 0}),\n",
    "    (5, {'eps': False, 'r': False, 'W': 0}),\n",
    "    (6, {'eps': False, 'r': True,  'W': 0})\n",
    "]\n",
    "\n",
    "edges_state = [\n",
    "    (1, 4, {'l' : 4}),\n",
    "    (2, 4, {'l' : 3}),\n",
    "    (4, 5, {'l' : 7}),\n",
    "    (3, 5, {'l' : 3}),\n",
    "    (5, 6, {'l' : 10})\n",
    "]\n",
    "\n",
    "G.add_nodes_from(nodes_state)\n",
    "G.add_edges_from(edges_state)"
   ]
  },
  {
   "cell_type": "code",
   "execution_count": 25,
   "metadata": {},
   "outputs": [],
   "source": [
    "def _node_attribute_(G, attribute='eps'):\n",
    "    '''\n",
    "    Author: Duc Hau :D\n",
    "    Return a numpy boolean array of attribute\n",
    "    '''\n",
    "    values_tmp = nx.get_node_attributes(G, 'eps').values()\n",
    "    return np.array(list(values_tmp))"
   ]
  },
  {
   "cell_type": "markdown",
   "metadata": {},
   "source": [
    "- Init model"
   ]
  },
  {
   "cell_type": "code",
   "execution_count": 27,
   "metadata": {},
   "outputs": [],
   "source": [
    "l = nx.to_numpy_matrix(G, weight='l')\n",
    "\n",
    "q = np.array([20,20,20,20,20,20])\n",
    "\n",
    "#eps = np.array([True, True, True, False, False, False])\n",
    "eps = _node_attribute_(G, 'eps')\n",
    "\n",
    "#r = np.array([False, False, False, False, False, True])\n",
    "r = _node_attribute_(G, 'r')\n",
    "\n",
    "W = np.array([5,5,5,0,0,0])\n",
    "\n",
    "H = 200\n",
    "d = np.array([200,200,200,200,200,200])\n",
    "\n",
    "mdl = geosafe_model(l, q, eps, r, W, H, d)"
   ]
  },
  {
   "cell_type": "markdown",
   "metadata": {},
   "source": [
    "- solve model"
   ]
  },
  {
   "cell_type": "code",
   "execution_count": 28,
   "metadata": {},
   "outputs": [
    {
     "name": "stdout",
     "output_type": "stream",
     "text": [
      "-------------------------------------------------------------------------------\n",
      "Model constraints: 1609, variables: integer: 1210, interval: 0, sequence: 0\n",
      "Solve status: Infeasible\n",
      "Search status: SearchCompleted, stop cause: SearchHasNotBeenStopped\n",
      "Solve time: 0.01 sec\n",
      "-------------------------------------------------------------------------------\n",
      "          bounds: (-199.8,)\n"
     ]
    }
   ],
   "source": [
    "mdl.solve()\n",
    "sol = mdl.solve()\n",
    "if sol is not None:\n",
    "    sol.print_solution()\n",
    "else:\n",
    "    print('Problem does not have solution')"
   ]
  }
 ],
 "metadata": {
  "kernelspec": {
   "display_name": "Python 3",
   "language": "python",
   "name": "python3"
  },
  "language_info": {
   "codemirror_mode": {
    "name": "ipython",
    "version": 3
   },
   "file_extension": ".py",
   "mimetype": "text/x-python",
   "name": "python",
   "nbconvert_exporter": "python",
   "pygments_lexer": "ipython3",
   "version": "3.6.8"
  }
 },
 "nbformat": 4,
 "nbformat_minor": 1
}
