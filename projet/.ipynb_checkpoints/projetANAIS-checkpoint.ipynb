{
 "cells": [
  {
   "cell_type": "code",
   "execution_count": 1,
   "metadata": {},
   "outputs": [],
   "source": [
    "from config import setup\n",
    "setup()"
   ]
  },
  {
   "cell_type": "markdown",
   "metadata": {},
   "source": [
    "# Projet AP : Late Evacuation Planning Problem\n",
    "\n",
    "## INTRO\n",
    "TODO :\n",
    "- présenter le contexte\n",
    "\n",
    " ## Partie 1 :  Generator \n",
    " TODO : A déplacer après la partie modélisation\n",
    " Generator est une instance qui permet de générer aléatoirement un réseau de routes et de propager un simple model de feu. Les données générées prennent en compte des propagations de contraintes qu'il convient d'expliquer et de comprendre !\n",
    " \n",
    " ### 1.1 Install module\n",
    " Pour générer les données utilisées après par le projet, il faut utiliser le générateur du projet evacsim présent sur le git https://github.com/ehebrard/evacsim\n",
    " Il faut l'utiliser avec python 2 et avoir installé decorator et networkx.\n",
    " Note : il faut un dossier data dans le projet. C'est dans ce dossier que seront déposées les données générées.  \n",
    " \n",
    " ***\n",
    " \n",
    " Commande pour installer :  \n",
    " `python setup.py install --user`\n",
    " \n",
    " Les commandes pour générer :  \n",
    " `python generator.py --road test --printroad`  \n",
    " `python generator.py test --evacuation --printfire --seed 10`\n",
    " \n",
    " NOTE : avec la commande : `python generator.py --road test --evacuation --printfire --seed 10 --printevac`on peut voir la route d'évacuation  \n",
    " \n",
    " ***  \n",
    " \n",
    " Pour générer une nouvelle instance de feu, il suffit de changer le paramètre seed.\n",
    " \n",
    " ### 1.2 Modélisation données générées\n",
    " FORMAT :\n",
    " n m population_1 maximum_rate_1 duedate_1 ... population_n maximumrate_n duedate_n capacity_1 k_1 i_1_1 offset_i_1_1 ... i_k_1 offset_i_k_1 ... capacity_m k_m i_1_m offset_i_1_m ... i_k_m offset_i_k_m\n",
    " \n",
    "- **n** is the number of evacuation nodes\n",
    "- **m** is the number of relevant transit arcs \n",
    "- **Population_i** : population du noeud i a évacuer.\n",
    "- **Maximum_rate_i** : taux max de personnes pouvant être évacuées en même temps\n",
    "- **duedate_i** : Date à laquelle le noeud doit être évacué\n",
    "- **capacity_y** is the capacity of transit arc y\n",
    "- **k_y** is the number of population groups transiting by this arc\n",
    "- **offset_i_x_y** is the date at which population group i_x_y reaches this arc if starting at time 0\n",
    "\n",
    "EXEMPLE :   \n",
    "- l1 : `10 8`  \n",
    "10 zones à évacuer avec 8 arcs à utiliser pour évacuer les zones  \n",
    "- l2 : `1677 70 66`   \n",
    "sur le sommet 1, 1677 personnes à évacuer, par pacquets de 70, avant la date 66  \n",
    "- l3 : `4161 70 40`  \n",
    "- l4 : `3817 70 36`  \n",
    "- l5 : `3745 70 92`  \n",
    "- l6 : `1379 72 126`   \n",
    "- l7 : `3359 71 115`  \n",
    "- l8 : `893 72 120`  \n",
    "- l9 : `463 72 54`  \n",
    "- l10: `4368 212 86`  \n",
    "- l11: `4987 70 44`  \n",
    "Sommet 10  \n",
    "- l12: `74 2 3 20 6 8`  \n",
    "Arc 1, capacité de 74 personnes, Nombre de Groupes transitant par cet arc(2), puis lire par tuple de 2 (3,20) : 3, num du groupe concerné, 20, date au plus tôt à laquelle la population peut partir si il part à t=0. Cela veut donc dire que si le groupe 3 part a t=4, il pourra traverser l'arc 1 à partir de t=24.(6,8).  \n",
    "- l13: `74 4 2 1 5 2 7 4 9 2`  \n",
    "arc2, capacité74 personnes, 4 groupes possibles puis (2,1), (5,2), (7,4), (9,2)  \n",
    "- l13: `206 8 0 13 1 15 2 16 4 14 5 17 7 19 8 9 9 17`  \n",
    "- l14: `72 2 0 2 1 4`  \n",
    "- l15: `203 10 0 33 1 35 2 36 3 40 4 34 5 37 6 28 7 39 8 29 9 37`  \n",
    "- l16: `72 5 2 4 4 2 5 5 7 7 9 5`  \n",
    "- l17: `72 2 7 3 9 1`  \n",
    "- l18: `138 7 0 8 1 10 2 11 4 9 5 12 7 14 9 12`  \n",
    "Arc 8 capacité de 138 personnes, ...    \n",
    "\n",
    "\n",
    "**NOTE IMPORTANTE ** : les couleurs des arcs correspondes à la capacité de la route. \n"
   ]
  },
  {
   "cell_type": "markdown",
   "metadata": {},
   "source": [
    "## Partie 2 :  GEO-SAFE\n",
    "TODO : A reformuler pour l'intro  \n",
    "Présentation d'après l'artique A study of Evacuation Planning for Wildfires de Christian Artigues, Emmanuel Hebread, Yanninck Pencole, Andreas Schutt et Peter Stuckey. (dans le dossier /docs du git)\n",
    "\n",
    "### 2.1 Présentation\n",
    "Le but de ce projet est de pouvoir **assister la prise de décision des autorités lors de l'évacuation à grande échelle (de la population) pendant un feu de forêts**. Pour cela, il faut modéliser le problème pour vérifier ensuite que  l'évacuation de la population pendant un feu est bien réalisable. \n",
    "Pour cela, on utilise des outils d'optimisation.\n",
    "\n",
    "La population se trouve sur des noeuds à évacuer. Dans la \"vraie vie\", il y a 3 catégories de personnes à évacuer : les personnes qui partent tôt, celles qui se réfugie dans un lieu et celles qui restent \"se battre\". Les derniers sont les personnes qui concernent l'objet de la modélisation, ce sont des personnes qui partent tard.\n",
    "\n",
    "Dans le cas de modélisation d'evacuation lors d'innondation, les méthodes utilisées étaient malléables pour représenter l'évacuation de la population. Il y avait des contraintes cumulatives par segments de route. \n",
    "La propagation des feu est beaucoup moins prédictible que celle des innondations. En effet, cela n'est pas fixe selon la topologie, mais dépend plus de la présence de combustible et de la vitesse et direction du vent. Donc la méthode d'évacutaion doit être plus robuste pour pouvoir prédire différents scénarios. \n",
    "\n",
    "Il faut éviter le risque de congestion et donc, pour cela, on peut **retarder le départ de la population**. Il est aussi possible **d'influer sur le taux d'évacuation** (moduler la méthode pour déclancher l'alarme).\n",
    "\n",
    "En plus de minimiser le temps d'évaciation de la population, le but est de maximiser le minimum \"safety margin\" spatial et temporel pondéré par la population, sur chaque segment de route. Il faut donc être le plus loin et le plus rapidement possible du feu.\n",
    "\n",
    "L'équipe GeoSafe a introduit une heuristique et un propagateur de contraintes de fluw global.\n",
    "\n",
    "\n",
    "## Partie 3 : Evacuation Planning Problem\n",
    "Notre équipe (Duc, Adrian et Anaïs) a choisi de modéliser le problème de façon à le résoudre en **programmation par contraintes** avec CP Optimizer.\n",
    "\n",
    "Il faut que l'on trouve la date à laquelle on commence l'évacuation pour chaque noeud, ainsi que le taux d'évacuation. Le taux d'évacuation est en fait une modélisation du niveau de ressources utilisées par les autorités pour évacuer les gens.  \n",
    "\n",
    "### 3.1 Hypothèses\n",
    "Quelques hypothèses posées par l'équipe GeoSafe :\n",
    "- Les authorités ont déjà identifié des routes accessibles et des points de refuges en sécurité. Chaque sommet à évacuer a donc une seule route d'évacuation. Il y a 1 seul et même point de refuge à atteindre par toute la population a évacuer. Il se peut qu'il y ait une congestion sur un des segment de route partagé par plusieurs points.\n",
    "- Les autorités ont déja estimé le nombre d'habitant à évacuer (la population de ceux qui partent tard)\n",
    "- la modélisation du feu donne une deadline pour chaque segment (date à laquelle le feu arrive).\n",
    "- Une fois que l'évacuation d'un point a commencé, le process ne peut pas être interrompu. Les personnes en cours d'évacuation ne s'arrêtent jamais\n",
    "- C'est non-préemptif.\n",
    "- le flux d'évacuation reste constant durant tout le processus d'évacuation.\n",
    "\n",
    "### 3.2 Modélisation \n",
    "Un argre $G= (\\varepsilon \\cup T \\cup \\{r\\}, A)$ qui représente les routes depuis les sommets à évacuer $\\varepsilon$ vers le refuge $r$ en passant par des noeuds de transit $T$\n",
    "\n",
    "- sur chaque noeud $v\\in\\varepsilon$, il y a $W_{v}$ personnes à évacuer. Cela correspond à **population_i** du .evac.\n",
    "- Chaque arc alant de $u$ à $u'$, de longueur $l_{uu'}$ a une capacité $q_{u}$. Cela corespond à **capacity_y** du .evac.\n",
    "- $H=[0,h]$ représente l'interval de temps pour l'évacuation.\n",
    "Il faut associer chaque $v$ à un réel $s_{v}$ représentant le **retard du préavis d'évacuation** ainsi qu'a une courbe de réponse $\\phi_{v}$ décrivant le **flow d'évacuation** d'un noeud $v$ a un taux $\\phi_{v}(t)$. avant $s_{v}$ le taux $\\phi_{v}$ est à 0.\n",
    "$$\\int_{0}^{H}\\phi_{v}(t)dt=w_{v} $$\n",
    "Le flow $\\phi_u$ pour n'importe quel arc $u-v$ à n'importe quel moment noeud : \n",
    "$$\\phi_u(t)=\\sum_{v\\in descendants(u)} \\phi_{v}(t-l_{uv}-s_{v})$$  \n",
    "\n",
    "On peut aussi le réécrire :\n",
    "$$\\phi_u(t)=\\sum_{V\\in descendants(u),\\: s_v+l_{uv}\\le t \\lt s_v+l_{uv}+\\frac{w_v}{h_v}} h_v$$  \n",
    "\n",
    "Ici, $\\phi_v$ est une courbe de réponse simple. Le flux sortant $\\phi_v$ est une variable de décision continue et qui reste constante penant le process d'évacuation.\n",
    "On note aussi :\n",
    "$$ \\phi_v = h_v\\: during\\: [s_v,e_v]\\: with\\: e_v=s_v + \\frac{w_v}{h_v}$$\n",
    "\n",
    "\n",
    "- Il y a une tache pour chaque noeud à évacuer. Pour chaque tâche, on a un **taux constant d'évacuation** $\\phi_v \\le q_{v}$ et une **heure de début d'évacuation** $s_{v}\\in [0, H-\\frac{w_v}{h_v}]$\n",
    "\n",
    "**CONTRAINTES** :   \n",
    "Il n'y a qu'un seul type de contraintes pour éviter les bouchons (donc éviter d'avoir un flux plus grand que la capacité d'un arc) : $\\phi_v \\le q_{v}$\n",
    "\n",
    "**OBJECTIF** :  \n",
    "Chaque noeud de transit a une date au plus tard (due date) $d_u$, date à partir de laquelle la route n'est plus en sécurité (à cause du feu). L'objectif est donc de minimiser l'écart de temps maximal entre lequel la population quitte $u$ et la due date $d_u$.\n",
    "$$\\min \\max_{u\\in T,v\\in descendants(u)} s_v + \\frac{h_v}{w_w} + l_{uv} - d_u$$\n",
    "\n",
    "Cette fonction objectif se simplifie en \n",
    "$$\\min \\max_{v\\in\\varepsilon} s_v + \\frac{h_v}{w_w} - d_v$$\n",
    "avec $d_v=\\min_{u\\in T}\\{d_u-l_{uv}\\}$\n",
    "\n",
    "**OBSERVATION**:   \n",
    "Pour chaque noeud de transit $u$ et $u'$, avec $u'$ déscendant de $u$ un bouchon sur $u'$ entraine un bouchon sur $u$. Donc, il ne faut checker l'occurance de bouchons uniquement si la capacité de $u$ est supérieur à la capacité de sons ascendant $v$ ( $\\forall v \\in p'(u),q_u \\gt q_v$ )  \n",
    "\n",
    "**SIMPLIFICATION**:     \n",
    "Sur un chemin de $u$ vers $u'$ sans branches, on garde la capacité de l'arc minimum. \n",
    "Par exemple, avec c'<c, on garde donc la capacité c' :  \n",
    "            S5  `  \n",
    "```\n",
    "S1 ___ S2 ___ S3 ___ S4  \n",
    "     c     c'  |    \n",
    "               S5  \n",
    "```\n",
    "   \n",
    "```\n",
    "S1 ___ S2 ___ S3 ___ S4  \n",
    "     c'     c'  |    \n",
    "               S5  \n",
    "```\n",
    "\n",
    "\n",
    "### 3.3 Utilisation des contraintes cumulatives\n",
    "L'approche de base se fait avec des contraintes cumulatives simples.  \n",
    "**NOTATION** :   \n",
    "Pour une variable $x$, $\\bar{x}$ signifie la plus grande valeur de x et $\\underline{x}$, la plus petite valeur de x. \n",
    "\n",
    "Si on prend une selection de **tâches** $J$ avec une **heure de départ** $s_{i} \\in [\\underline{s_i}, \\bar{s_i}]$, avec une **durée de process** $p_i \\in [\\underline{p_i},\\bar{p_i}]$, une **hauteur** $h_i \\in [\\underline{h_i}, \\bar{h_i}]$ et une **resource** $r$ avec une **capacité constante** $q_r$, on défini la contrainte cumulative comme :\n",
    "$$ \\sum_{i\\in J|s_i\\le t\\le s_i+p_i} h_i \\le q_r, \\forall t\\in H$$\n",
    "\n",
    "Donc pour modéliser le problème, il suffit d'associer une tâche $v$ à chaque noeud à évacuer ($v \\in \\varepsilon$), avec une hauteur $h_v \\in ]0, q_v]$, avec une heure de départ $ s_v \\in [0, H-\\frac{w_v}{q_v}]$, une heure de \"completion\" $e_v \\in [\\frac{w_v}{q_v}, H]$. Puis il faut dupliquer et transformer cette tâche pour chaque arc critique de transit jusqu'au point de refuge. On note $i_{uv}$ la duplication du noeud $v$ sur l'arc critique $u$.\n",
    "\n",
    "On a donc :\n",
    "$$cumulative((s_{i_{uv}}, e_{i_{uv}} - s_{i_{uv}}, h_{i_{uv}})_{v\\in L(u)}, q_u) \\forall u \\in T $$\n",
    "$$w_v=h_v(e_v-s_v) \\forall v \\in \\varepsilon$$\n",
    "$$s_{i_{uv}} = s_v +l_{uv} \\forall u\\in T, \\forall v \\in L(u)$$\n",
    "$$e_{i_{uv}} = e_v +l_{uv} \\forall u\\in T, \\forall v \\in L(u)$$\n",
    "$$h_{i_{uv}} = h_v \\forall u\\in T, \\forall v \\in L(u)$$\n",
    "\n",
    "Le problème avec les contraintes cumulatives \"classiques\" c'est qu'elles ne considères que les bornes inférieurs des domaines de solutions possibles. (*cf.exemple p7 de l'article*). Elles ne permettent pas de raisonner avec l'énergie totale de chaque tâche.\n"
   ]
  },
  {
   "cell_type": "markdown",
   "metadata": {},
   "source": [
    "### 3.4 La contrainte cumulative énergétique\n",
    "Le but de cette nouvelle contrainte est solliciter le fait que le produit $(durée * taux)$ soit constant. Pour cela il faut une contrainte un peu plus globale. \n",
    "La contrainte **energetic_cumulative**($(s_i,e_i,h_i,w_v)_{i\\in J}, q_r$) se traduit comme :\n",
    "$$ \\sum_{i\\in J |s_i\\le t\\le e_i} h_i \\le q_r \\forall t\\in H$$\n",
    "$$w_i=h_i(e_i-s_i) \\forall i \\in J$$\n",
    "Cette contrainte est NP-complet puisque le cas particulier où la hauteur $h_i$ est fixée est une contrainte cumulative.\n",
    "Cependant, comme les tâches sont malléables, le problème devient plus simple sous certaines hypothèses. \n",
    "\n",
    "En particulier :\n",
    "- on considère que l'on n'a pas les valeurs minimum des hauteurs $h_i$ des tâches i, que l'on note **energetic_cumulative** \\ $\\{ h-\\}$.\n",
    "\n",
    "On peut donc définir 3 relaxations :\n",
    "- \"$r$\" représente la release date pour laquelle la relaxation signifie que $s_i-=0$ pour chaque tache $i\\in J$\n",
    "- \"$d$\" représente la date butoire pour laquelle la relaxation implique $e_i+=H$ pour chaque tâche $i\\in J$\n",
    "- \"$h+$\" qui représente la hauteur maximale por laquelle la relaxation implique $h_i+=q_r$ pour chaque tâche $i \\in J$\n",
    "\n",
    "On peut modéliser la contrainte cumulative énergétique pour slaquelle les contraintes $S \\in \\{h-, h+, r,d\\}$ sont relaxée.\n",
    "\n",
    "**THEOREME 1** **energetic_cumulative**  $\\{h-,x,y\\}\\: is\\: in\\: P\\: for\\: any\\: x \\ne y \\in \\{r,d,\\bar{h}\\}\\: scénarios$\n",
    "\n",
    "L'algorithme 1 permet de plannifier des tâches qui commencent à 0 et qui finnissent au plus tard à $h_i \\le h_i+$. La contrainte est donc satisfaisable si et seulement si l'heure de completion la plus tard est inférieure à H. \n",
    "\n",
    "**THEOREM 2** **Energetic_cumulative** $\\{h-,x,y\\}\\: is\\: NP-Complete\\: for\\: any\\: x \\in \\{r,d,\\bar{h}\\}$"
   ]
  },
  {
   "cell_type": "markdown",
   "metadata": {},
   "source": [
    "### 3.5 Contraintes de Flow Global\n",
    " Si on veut avoir un taux d'activité qui varie avec le temps, on peut utiliser un propagateur de flux adapté à la contrainte **energetic-cumulative**.\n",
    " Ce propagateur fonctionne comme ci-après :\n",
    " - Construit un réseau de flow relaxé, appelé $f(D)$ \n",
    " - propage en utilisant le domaine courrant $D$.\n",
    " \n",
    "**THEOREM 3** $any \\: solution \\: to$ **Energetic_cumulative** $\\: given\\: a\\: current\\: domain \\: D,\\: is\\: extensible\\: to\\: a\\: solution\\: of\\: the\\: flow\\: network\\: f(D)$\n",
    " \n",
    " Pour plus d'info, regarder la partie 5 de l'article. "
   ]
  },
  {
   "cell_type": "markdown",
   "metadata": {},
   "source": [
    "### 3.6 Heuristique pour la borne supérieur\n",
    "Heuristique de compression pour trouver une borne supérieur initiale.  \n",
    "On suppose que le domaine du taux initial d'évacuation est $D(h_v)=[1,q_v]$ pour chaque noeud d'évacuation.\n",
    "On suppose aussi que la planification des tâches d'évacuation commençantt à $t=0$ avec le taux minimum d'évacuation permet de trouver une solution fesable, avec un coût élevé. \n",
    "\n",
    "Commençant avec cette soution, $(\\forall v \\in \\varepsilon, s_v :=0, e_v=w_v, h_v:=1)$, les heures de départ minimales et maximales sont construite pour chaque noeud de transit. De même pour interval correspondant pour la contrainte de flow global.\n",
    "\n",
    "A partir de cette solution, un process iteratif est lancé. A chaque itération, la tâche critique est identifiée. Puis, sa durée est diminuée et sa largeur est augmentée en conséquence jusqu'à ce qu'on ne puisse plus augmenté/diminuer la largeur/durée sans dépasser la capacité de l'arc ou que la tâce ne devienne plus critiqeu et qu'une autre tâche le devienne.  Dans le cas où une nouvelle tâche devient critique, le process itératif se relance sur ce nouvel arc.   \n",
    "\n",
    "L'heuristique peret de donner une solution initiale au solver. "
   ]
  },
  {
   "cell_type": "markdown",
   "metadata": {},
   "source": [
    "## Résultats de l'équipe GeoSafe\n",
    "\n",
    "TODO"
   ]
  },
  {
   "cell_type": "markdown",
   "metadata": {},
   "source": [
    "# Partie 4 : PISTES pour modéliser, résoudre\n",
    "\n",
    "CP Optimizer vient avec CPLEX et OPL in IBM ILOG CPLEX Optimization Studio\n",
    "\n",
    "lien pour la contrainte cumulative (pulse, ...)\n",
    "https://www.ibm.com/support/knowledgecenter/en/SSSA5P_12.6.3/ilog.odms.cplex.help/refcppcplex/html/cumul_functions.html\n",
    "\n",
    "TODO : Faire avec le tuto !!"
   ]
  },
  {
   "cell_type": "markdown",
   "metadata": {},
   "source": [
    " ---------------------------------------------------------\n",
    " ## 4.1 Generator \n",
    " Pour générer les données utilisées après par le projet, il faut utiliser le générateur du projet evacsim\n",
    " "
   ]
  },
  {
   "cell_type": "code",
   "execution_count": 4,
   "metadata": {},
   "outputs": [],
   "source": [
    "from docplex.cp.model import CpoModel\n",
    "from docplex.cp.model import *\n",
    "import numpy as np"
   ]
  },
  {
   "cell_type": "code",
   "execution_count": 5,
   "metadata": {},
   "outputs": [],
   "source": [
    "# CONFIG \n",
    "from config_duc import setup\n",
    "setup()"
   ]
  },
  {
   "cell_type": "markdown",
   "metadata": {},
   "source": [
    "## 4.2 MODELISATION "
   ]
  },
  {
   "cell_type": "code",
   "execution_count": 39,
   "metadata": {},
   "outputs": [],
   "source": [
    "def geosafe_model(l, q, eps, r, W, H, d,chemin):\n",
    "    '''       \n",
    "    Int  Matrix l: length path from i to j = G.l[i,j]. No path ij <--> G.l[i,j] = 0\n",
    "    Int  Array  q: capacity of node i <--> G.q[i]\n",
    "    Bool Array  eps: evacuation node \n",
    "    Bool Array  r: safe node\n",
    "    Int  Array  W: initial population at node i <--> W[i]\n",
    "    Int         H : Time span\n",
    "    Int  Array  d: deadline to leave the node\n",
    "    '''\n",
    "    \n",
    "    nb_node = q.shape[0] # ou len(q)\n",
    "    nodes = np.arange(nb_node) # id nodes, i.e [1,2,3,4, ...]\n",
    "    total_population = np.sum(W)\n",
    "    \n",
    "    t = !eps & !r # transition node\n",
    "\n",
    "    mdl = CpoModel(name='geosafe')\n",
    "    \n",
    "    # == Output ==\n",
    "    # starting date\n",
    "    s = np.array( mdl.integer_var_list(nb_node, min=0, max = H, name=\"s\") ) # TODO : affiner max =H-w(v)/q(v)\n",
    "    \n",
    "    # evacuation rate aka. height of package\n",
    "    h = np.array( mdl.integer_var_list(nb_node, min=0, max = 300, name=\"h\") ) # T0DO : affiner max =q[v]\n",
    "\n",
    "    # == Intermediate ==\n",
    "    # node flow of population for every node during [0,H]. It enables us to have phi for every transit node u.\n",
    "    phi = np.matrix([\n",
    "            [ \n",
    "                mdl.integer_var(name='phi[%d,%d]'%(i,j)) for j in range(H) \n",
    "            ] for i in range(nb_node)\n",
    "        ])\n",
    "    \n",
    "    # ending date (leaving time) of node\n",
    "    e = np.array( mdl.integer_var_list(nb_node, min=0, max = H, name= \"e\") ) # TODO : min c'est w[v]/q[v] \n",
    "    \n",
    "    # == Constraints ==\n",
    "    \n",
    "    # La date de départ des noeuds    \n",
    "    for v in range(nb_node):\n",
    "        if eps[v]:\n",
    "            mdl.add(\n",
    "                e[v] == s[v] + W[v]/h[v]\n",
    "            )\n",
    "    # evacuate everyone in evacuation node. On s'assure que tous les noeuds eps ont le temps d'être évacués\n",
    "    for v in nodes[eps]:\n",
    "        mdl.add( h[v]*H >= W[v] ) \n",
    "    \n",
    "    # Flow at a node u = sum from all of its leaves node epsilon\n",
    "#     mdl.add_constraint(\n",
    "#         phi[u, t] == np.sum( phi[u, t - l[u,v] - s[eps]] ) \\\n",
    "#             for t in range(H)                                  \\\n",
    "#             for v in np.where(eps)                           \\\n",
    "#             for u in np.where(t)                             \n",
    "#     )\n",
    "\n",
    "    #  CONTRAINTE CUMULATIVE\n",
    "    for v in nodes[eps]: # pour chaque resource on associe une tâche \n",
    "        # que l'on duplique ensuite sur chaque arc critique\n",
    "        #wv=h[v](e[v]-s[v])\n",
    "        phiarc=step_at(0, 0)\n",
    "        for u in chemin[v]:  # Astuce pour ajouter une contrainte uniquement si u est dans le chemin emprunté par V\n",
    "            siuv = s[v]+l[v,u]\n",
    "            eiuv = e[v]+ l[v,u]\n",
    "            phiarc += mdl.pulse((siuv, eiuv-siuv), h[v])\n",
    "            \n",
    "            mdl.add( phiarc <= q[u])\n",
    "    \n",
    "    # Flow at a node does not excess capacity of arc\n",
    "    # TODO : deleted to see if cumulative constraint is working\n",
    "    #for t in range(H):\n",
    "     #   for u in nodes:\n",
    "     #       mdl.add(\n",
    "     #           phi[u,t] <= q[u]\n",
    "     #       )\n",
    "    \n",
    "    # Objective\n",
    "    mdl.add(\n",
    "        minimize(np.max(s[eps] + h[eps]/W[eps] - d[eps]))\n",
    "    )\n",
    "    \n",
    "    return mdl"
   ]
  },
  {
   "cell_type": "markdown",
   "metadata": {},
   "source": [
    "## 4.3 UNIT TEST :\n",
    "\n",
    "- Test input \n"
   ]
  },
  {
   "cell_type": "code",
   "execution_count": 21,
   "metadata": {},
   "outputs": [],
   "source": [
    "import networkx as nx"
   ]
  },
  {
   "cell_type": "code",
   "execution_count": 22,
   "metadata": {},
   "outputs": [],
   "source": [
    "G = nx.Graph()\n",
    "\n",
    "global_d = 250 # TODO: delete this one, just for debug\n",
    "\n",
    "# TODO: Maybe we should use eps = W > 0, so that do not need to use 'eps' attribute?\n",
    "nodes_state = [\n",
    "    (1, {'eps': True,  'r': False, 'W': 5, 'd': global_d}),\n",
    "    (2, {'eps': True,  'r': False, 'W': 5, 'd': global_d}),\n",
    "    (3, {'eps': True,  'r': False, 'W': 5, 'd': global_d}),\n",
    "    (4, {'eps': False, 'r': False, 'W': 0, 'd': global_d}),\n",
    "    (5, {'eps': False, 'r': False, 'W': 0, 'd': global_d}),\n",
    "    (6, {'eps': False, 'r': True,  'W': 0, 'd': global_d})\n",
    "]\n",
    "\n",
    "edges_state = [\n",
    "    (1, 4, {'l' : 4}),\n",
    "    (2, 4, {'l' : 3}),\n",
    "    (4, 5, {'l' : 7}),\n",
    "    (3, 5, {'l' : 3}),\n",
    "    (5, 6, {'l' : 10})\n",
    "]\n",
    "chemin = [\n",
    "    [1,3,5],\n",
    "    [2,3,5],\n",
    "    [4,5]\n",
    "]\n",
    "\n",
    "G.add_nodes_from(nodes_state)\n",
    "G.add_edges_from(edges_state)"
   ]
  },
  {
   "cell_type": "code",
   "execution_count": 23,
   "metadata": {},
   "outputs": [],
   "source": [
    "def _node_attribute_(G, attribute='eps'):\n",
    "    '''\n",
    "    Author: Duc Hau :D\n",
    "    Return a numpy boolean array of attribute\n",
    "    '''\n",
    "    values_tmp = nx.get_node_attributes(G, attribute).values()\n",
    "    return np.array(list(values_tmp))"
   ]
  },
  {
   "cell_type": "code",
   "execution_count": 24,
   "metadata": {},
   "outputs": [
    {
     "name": "stdout",
     "output_type": "stream",
     "text": [
      "[5 5 5 0 0 0]\n"
     ]
    }
   ],
   "source": [
    "print(_node_attribute_(G, attribute='W'))"
   ]
  },
  {
   "cell_type": "markdown",
   "metadata": {},
   "source": [
    "- Init Model"
   ]
  },
  {
   "cell_type": "code",
   "execution_count": 25,
   "metadata": {},
   "outputs": [],
   "source": [
    "# Path length\n",
    "l = nx.to_numpy_matrix(G, weight='l')\n",
    "\n",
    "# Node capacities (shouldn't it be the path??)\n",
    "q = np.array([20,20,20,20,20,20])\n",
    "\n",
    "# If the node is in EPSILON (evacuating node)\n",
    "eps = _node_attribute_(G, 'eps')\n",
    "\n",
    "# If the node is in the ROOT (safe node)\n",
    "r = _node_attribute_(G, 'r')\n",
    "\n",
    "# Initial population\n",
    "W = _node_attribute_(G, 'W')\n",
    "\n",
    "# Time span\n",
    "H = 200\n",
    "\n",
    "# Deadline for evacutation\n",
    "d = _node_attribute_(G, 'd')\n",
    "\n",
    "# Solver configuration\n",
    "ctx = {}"
   ]
  },
  {
   "cell_type": "code",
   "execution_count": 40,
   "metadata": {},
   "outputs": [
    {
     "ename": "AssertionError",
     "evalue": "Argument 'interval' should be an interval variable or a fixed interval expressed as a tuple of integers",
     "output_type": "error",
     "traceback": [
      "\u001b[1;31m---------------------------------------------------------------------------\u001b[0m",
      "\u001b[1;31mAssertionError\u001b[0m                            Traceback (most recent call last)",
      "\u001b[1;32m<ipython-input-40-ce5bfedda89b>\u001b[0m in \u001b[0;36m<module>\u001b[1;34m\u001b[0m\n\u001b[1;32m----> 1\u001b[1;33m \u001b[0mmdl\u001b[0m \u001b[1;33m=\u001b[0m \u001b[0mgeosafe_model\u001b[0m\u001b[1;33m(\u001b[0m\u001b[0ml\u001b[0m\u001b[1;33m,\u001b[0m \u001b[0mq\u001b[0m\u001b[1;33m,\u001b[0m \u001b[0meps\u001b[0m\u001b[1;33m,\u001b[0m \u001b[0mr\u001b[0m\u001b[1;33m,\u001b[0m \u001b[0mW\u001b[0m\u001b[1;33m,\u001b[0m \u001b[0mH\u001b[0m\u001b[1;33m,\u001b[0m \u001b[0md\u001b[0m\u001b[1;33m,\u001b[0m \u001b[0mchemin\u001b[0m\u001b[1;33m)\u001b[0m\u001b[1;33m\u001b[0m\u001b[1;33m\u001b[0m\u001b[0m\n\u001b[0m",
      "\u001b[1;32m<ipython-input-39-6b9e21ce678b>\u001b[0m in \u001b[0;36mgeosafe_model\u001b[1;34m(l, q, eps, r, W, H, d, chemin)\u001b[0m\n\u001b[0;32m     64\u001b[0m             \u001b[0msiuv\u001b[0m \u001b[1;33m=\u001b[0m \u001b[0ms\u001b[0m\u001b[1;33m[\u001b[0m\u001b[0mv\u001b[0m\u001b[1;33m]\u001b[0m\u001b[1;33m+\u001b[0m\u001b[0ml\u001b[0m\u001b[1;33m[\u001b[0m\u001b[0mv\u001b[0m\u001b[1;33m,\u001b[0m\u001b[0mu\u001b[0m\u001b[1;33m]\u001b[0m\u001b[1;33m\u001b[0m\u001b[1;33m\u001b[0m\u001b[0m\n\u001b[0;32m     65\u001b[0m             \u001b[0meiuv\u001b[0m \u001b[1;33m=\u001b[0m \u001b[0me\u001b[0m\u001b[1;33m[\u001b[0m\u001b[0mv\u001b[0m\u001b[1;33m]\u001b[0m\u001b[1;33m+\u001b[0m \u001b[0ml\u001b[0m\u001b[1;33m[\u001b[0m\u001b[0mv\u001b[0m\u001b[1;33m,\u001b[0m\u001b[0mu\u001b[0m\u001b[1;33m]\u001b[0m\u001b[1;33m\u001b[0m\u001b[1;33m\u001b[0m\u001b[0m\n\u001b[1;32m---> 66\u001b[1;33m             \u001b[0mphiarc\u001b[0m \u001b[1;33m+=\u001b[0m \u001b[0mmdl\u001b[0m\u001b[1;33m.\u001b[0m\u001b[0mpulse\u001b[0m\u001b[1;33m(\u001b[0m\u001b[1;33m(\u001b[0m\u001b[0msiuv\u001b[0m\u001b[1;33m,\u001b[0m \u001b[0meiuv\u001b[0m\u001b[1;33m-\u001b[0m\u001b[0msiuv\u001b[0m\u001b[1;33m)\u001b[0m\u001b[1;33m,\u001b[0m \u001b[0mh\u001b[0m\u001b[1;33m[\u001b[0m\u001b[0mv\u001b[0m\u001b[1;33m]\u001b[0m\u001b[1;33m)\u001b[0m\u001b[1;33m\u001b[0m\u001b[1;33m\u001b[0m\u001b[0m\n\u001b[0m\u001b[0;32m     67\u001b[0m \u001b[1;33m\u001b[0m\u001b[0m\n\u001b[0;32m     68\u001b[0m             \u001b[0mmdl\u001b[0m\u001b[1;33m.\u001b[0m\u001b[0madd\u001b[0m\u001b[1;33m(\u001b[0m \u001b[0mphiarc\u001b[0m \u001b[1;33m<=\u001b[0m \u001b[0mq\u001b[0m\u001b[1;33m[\u001b[0m\u001b[0mu\u001b[0m\u001b[1;33m]\u001b[0m\u001b[1;33m)\u001b[0m\u001b[1;33m\u001b[0m\u001b[1;33m\u001b[0m\u001b[0m\n",
      "\u001b[1;32mC:\\ProgramData\\Anaconda3\\lib\\site-packages\\docplex\\cp\\modeler.py\u001b[0m in \u001b[0;36mpulse\u001b[1;34m(interval, height, _x)\u001b[0m\n\u001b[0;32m   2678\u001b[0m     \u001b[1;31m# Case of interval variable\u001b[0m\u001b[1;33m\u001b[0m\u001b[1;33m\u001b[0m\u001b[1;33m\u001b[0m\u001b[0m\n\u001b[0;32m   2679\u001b[0m     interval = _convert_arg(interval, \"interval\", Type_IntervalVar,\n\u001b[1;32m-> 2680\u001b[1;33m                             \"Argument 'interval' should be an interval variable or a fixed interval expressed as a tuple of integers\")\n\u001b[0m\u001b[0;32m   2681\u001b[0m     \u001b[1;32mif\u001b[0m \u001b[0m_is_int_couple\u001b[0m\u001b[1;33m(\u001b[0m\u001b[0mheight\u001b[0m\u001b[1;33m)\u001b[0m\u001b[1;33m:\u001b[0m\u001b[1;33m\u001b[0m\u001b[1;33m\u001b[0m\u001b[0m\n\u001b[0;32m   2682\u001b[0m         return CpoFunctionCall(Oper_pulse, Type_CumulAtom, (interval,\n",
      "\u001b[1;32mC:\\ProgramData\\Anaconda3\\lib\\site-packages\\docplex\\cp\\modeler.py\u001b[0m in \u001b[0;36m_convert_arg\u001b[1;34m(val, name, type, errmsg)\u001b[0m\n\u001b[0;32m    348\u001b[0m     \"\"\"\n\u001b[0;32m    349\u001b[0m     \u001b[0mval\u001b[0m \u001b[1;33m=\u001b[0m \u001b[0mbuild_cpo_expr\u001b[0m\u001b[1;33m(\u001b[0m\u001b[0mval\u001b[0m\u001b[1;33m)\u001b[0m\u001b[1;33m\u001b[0m\u001b[1;33m\u001b[0m\u001b[0m\n\u001b[1;32m--> 350\u001b[1;33m     \u001b[1;32massert\u001b[0m \u001b[0mval\u001b[0m\u001b[1;33m.\u001b[0m\u001b[0mis_kind_of\u001b[0m\u001b[1;33m(\u001b[0m\u001b[0mtype\u001b[0m\u001b[1;33m)\u001b[0m\u001b[1;33m,\u001b[0m \u001b[0merrmsg\u001b[0m \u001b[1;32mif\u001b[0m \u001b[0merrmsg\u001b[0m \u001b[1;32mis\u001b[0m \u001b[1;32mnot\u001b[0m \u001b[1;32mNone\u001b[0m \u001b[1;32melse\u001b[0m \u001b[1;34m\"Argument '{}' should be a {}\"\u001b[0m\u001b[1;33m.\u001b[0m\u001b[0mformat\u001b[0m\u001b[1;33m(\u001b[0m\u001b[0mname\u001b[0m\u001b[1;33m,\u001b[0m \u001b[0mTYPE_NAMES\u001b[0m\u001b[1;33m[\u001b[0m\u001b[0mtype\u001b[0m\u001b[1;33m]\u001b[0m\u001b[1;33m)\u001b[0m\u001b[1;33m\u001b[0m\u001b[1;33m\u001b[0m\u001b[0m\n\u001b[0m\u001b[0;32m    351\u001b[0m     \u001b[1;32mreturn\u001b[0m \u001b[0mval\u001b[0m\u001b[1;33m\u001b[0m\u001b[1;33m\u001b[0m\u001b[0m\n\u001b[0;32m    352\u001b[0m \u001b[1;33m\u001b[0m\u001b[0m\n",
      "\u001b[1;31mAssertionError\u001b[0m: Argument 'interval' should be an interval variable or a fixed interval expressed as a tuple of integers"
     ]
    }
   ],
   "source": [
    "mdl = geosafe_model(l, q, eps, r, W, H, d, chemin)"
   ]
  },
  {
   "cell_type": "code",
   "execution_count": 19,
   "metadata": {},
   "outputs": [
    {
     "name": "stdout",
     "output_type": "stream",
     "text": [
      "2\n",
      "3\n",
      "5\n"
     ]
    }
   ],
   "source": []
  },
  {
   "cell_type": "markdown",
   "metadata": {},
   "source": [
    "- Solve model"
   ]
  },
  {
   "cell_type": "code",
   "execution_count": null,
   "metadata": {},
   "outputs": [],
   "source": [
    "mdl.solve()\n",
    "sol = mdl.solve(Presolve='On', Workers='Auto')\n",
    "print(sol.get_solver_log())\n",
    "\n",
    "print('\\n\\n Result:')\n",
    "if sol.is_solution():\n",
    "    sol.print_solution()\n",
    "else:\n",
    "    print('Problem does not have solution')\n",
    "    sol.print_solution()"
   ]
  },
  {
   "cell_type": "code",
   "execution_count": null,
   "metadata": {},
   "outputs": [],
   "source": []
  },
  {
   "cell_type": "code",
   "execution_count": null,
   "metadata": {},
   "outputs": [],
   "source": []
  },
  {
   "cell_type": "code",
   "execution_count": null,
   "metadata": {},
   "outputs": [],
   "source": []
  }
 ],
 "metadata": {
  "kernelspec": {
   "display_name": "Python 3",
   "language": "python",
   "name": "python3"
  },
  "language_info": {
   "codemirror_mode": {
    "name": "ipython",
    "version": 3
   },
   "file_extension": ".py",
   "mimetype": "text/x-python",
   "name": "python",
   "nbconvert_exporter": "python",
   "pygments_lexer": "ipython3",
   "version": "3.6.7"
  }
 },
 "nbformat": 4,
 "nbformat_minor": 1
}
