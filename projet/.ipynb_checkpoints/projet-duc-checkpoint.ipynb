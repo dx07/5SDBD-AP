{
 "cells": [
  {
   "cell_type": "code",
   "execution_count": 1,
   "metadata": {
    "scrolled": true
   },
   "outputs": [],
   "source": [
    "from config import setup\n",
    "setup()"
   ]
  },
  {
   "cell_type": "markdown",
   "metadata": {},
   "source": [
    " # Projet AP GeoSafe, Evacuation lors de feu\n",
    " \n",
    " ## Generator \n",
    " Pour générer les données utilisées après par le projet, il faut utiliser le générateur du projet evacsim"
   ]
  },
  {
   "cell_type": "code",
   "execution_count": 2,
   "metadata": {},
   "outputs": [],
   "source": [
    "from docplex.cp.model import CpoModel\n",
    "from docplex.cp.model import *\n",
    "import numpy as np"
   ]
  },
  {
   "cell_type": "markdown",
   "metadata": {},
   "source": [
    "configuration"
   ]
  },
  {
   "cell_type": "code",
   "execution_count": 3,
   "metadata": {},
   "outputs": [],
   "source": [
    "from config_duc import setup\n",
    "setup()"
   ]
  },
  {
   "cell_type": "markdown",
   "metadata": {},
   "source": [
    "## modélisation"
   ]
  },
  {
   "cell_type": "code",
   "execution_count": 4,
   "metadata": {},
   "outputs": [],
   "source": [
    "def geosafe_model(l, q, eps, r, W, H, d):\n",
    "    '''\n",
    "    Int  Matrix l: length path from i to j = G.l[i,j].\n",
    "                        no path ij <--> G.l[i,j] = 0\n",
    "    Int  Array  q: capacity of node i <--> G.q[i]\n",
    "    Bool Array  eps: evacuation node \n",
    "    Bool Array  r: safe node\n",
    "    \n",
    "    Int  Array  W: initial population at node i <--> W[i]\n",
    "    Int  H : Time span\n",
    "    '''\n",
    "    \n",
    "    nb_node = q.shape[0]\n",
    "    total_population = np.sum(W)\n",
    "    \n",
    "    G.t = not G.eps and not G.r # transition node\n",
    "\n",
    "    mdl = CpoModel(name='geosafe')\n",
    "    \n",
    "    # == Output ==\n",
    "    # starting date\n",
    "    s = np.array( mdl.integer_var_list(nb_node, \"s\") )\n",
    "    \n",
    "    # evacuation rate aka. height of package\n",
    "    h = np.array( mdl.integer_var_list(nb_node, \"h\") )\n",
    "\n",
    "    # == Intermediate ==\n",
    "    # node flow of population\n",
    "    phi = np.matrix([\n",
    "            [ \n",
    "                mdl.integer_var(name='phi[%d,%d]'%(i,j)) for j in range(H) \n",
    "            ] for i in range(nb_node)\n",
    "        ])\n",
    "    \n",
    "    # ending date (leaving time) of node\n",
    "    e = np.array( mdl.integer_var_list(nb_node, \"e\") )\n",
    "    \n",
    "    mdl.add_constraint(\n",
    "        e == s + W/h\n",
    "    )\n",
    "    \n",
    "    # == Constraints ==\n",
    "    # evacuate everyone in evacuation node\n",
    "    mdl.add_constraint(\n",
    "        np.sum(phi, axis=0) == W\n",
    "    ) \n",
    "    \n",
    "    # Flow at a node u = sum from all of its leaves node epsilon\n",
    "#     mdl.add_constraint(\n",
    "#         phi[u, t] == np.sum( phi[u, t - l[u,v] - s[eps]] ) \\\n",
    "#             for t in range(H)                                  \\\n",
    "#             for v in np.where(eps)                           \\\n",
    "#             for u in np.where(t)                             \n",
    "#     )\n",
    "    # simplified version\n",
    "    mdl.add_constraint(\n",
    "        phi[u, t] == np.sum(h[v]) \\\n",
    "                for t in range[s[v] + l[u, v], e[v] + l[u, v]]\n",
    "    )\n",
    "    \n",
    "    # Flow at a node does not excess capacity of arc\n",
    "    mdl.add_constraint(\n",
    "        phi[:,t] <= q for t in range [H]\n",
    "    )\n",
    "    \n",
    "    # Objective\n",
    "    mdl.add(\n",
    "        minimize(np.max(s[eps] + phi[eps]/W[eps] - d[eps]))\n",
    "    )\n",
    "    "
   ]
  },
  {
   "cell_type": "code",
   "execution_count": null,
   "metadata": {},
   "outputs": [],
   "source": []
  },
  {
   "cell_type": "markdown",
   "metadata": {},
   "source": [
    "## Unit test:"
   ]
  },
  {
   "cell_type": "code",
   "execution_count": 7,
   "metadata": {},
   "outputs": [],
   "source": [
    "import networkx as nx"
   ]
  },
  {
   "cell_type": "code",
   "execution_count": 14,
   "metadata": {},
   "outputs": [],
   "source": [
    "G = nx.Graph()\n",
    "\n",
    "nodes_state = [\n",
    "    (1, {'eps': True, 'r': False}),\n",
    "    (2, {'eps': True, 'r': False}),\n",
    "    (3, {'eps': True, 'r': False}),\n",
    "    (4, {'eps': False, 'r': False}),\n",
    "    (5, {'eps': False, 'r': False}),\n",
    "    (6, {'eps': False, 'r': True})\n",
    "]\n",
    "\n",
    "edges_state = [\n",
    "    (1, 4, {'l' : 4}),\n",
    "    (2, 4, {'l' : 3}),\n",
    "    (4, 5, {'l' : 7}),\n",
    "    (3, 5, {'l' : 3}),\n",
    "    (5, 6, {'l' : 10})\n",
    "]\n",
    "\n",
    "G.add_nodes_from(nodes_state)\n",
    "G.add_edges_from(edges_state)"
   ]
  },
  {
   "cell_type": "code",
   "execution_count": 34,
   "metadata": {},
   "outputs": [
    {
     "ename": "AttributeError",
     "evalue": "'dict' object has no attribute 'itervalues'",
     "output_type": "error",
     "traceback": [
      "\u001b[0;31m---------------------------------------------------------------------------\u001b[0m",
      "\u001b[0;31mAttributeError\u001b[0m                            Traceback (most recent call last)",
      "\u001b[0;32m<ipython-input-34-4f18b3af1506>\u001b[0m in \u001b[0;36m<module>\u001b[0;34m\u001b[0m\n\u001b[1;32m      1\u001b[0m \u001b[0ml\u001b[0m \u001b[0;34m=\u001b[0m \u001b[0mnx\u001b[0m\u001b[0;34m.\u001b[0m\u001b[0mto_numpy_matrix\u001b[0m\u001b[0;34m(\u001b[0m\u001b[0mG\u001b[0m\u001b[0;34m,\u001b[0m \u001b[0mweight\u001b[0m\u001b[0;34m=\u001b[0m\u001b[0;34m'l'\u001b[0m\u001b[0;34m)\u001b[0m\u001b[0;34m\u001b[0m\u001b[0;34m\u001b[0m\u001b[0m\n\u001b[0;32m----> 2\u001b[0;31m \u001b[0ma\u001b[0m \u001b[0;34m=\u001b[0m \u001b[0mnp\u001b[0m\u001b[0;34m.\u001b[0m\u001b[0marray\u001b[0m\u001b[0;34m(\u001b[0m\u001b[0mnx\u001b[0m\u001b[0;34m.\u001b[0m\u001b[0mget_node_attributes\u001b[0m\u001b[0;34m(\u001b[0m\u001b[0mG\u001b[0m\u001b[0;34m,\u001b[0m \u001b[0;34m'eps'\u001b[0m\u001b[0;34m)\u001b[0m\u001b[0;34m.\u001b[0m\u001b[0mitervalues\u001b[0m\u001b[0;34m(\u001b[0m\u001b[0;34m)\u001b[0m\u001b[0;34m)\u001b[0m\u001b[0;34m\u001b[0m\u001b[0;34m\u001b[0m\u001b[0m\n\u001b[0m",
      "\u001b[0;31mAttributeError\u001b[0m: 'dict' object has no attribute 'itervalues'"
     ]
    }
   ],
   "source": []
  },
  {
   "cell_type": "code",
   "execution_count": 64,
   "metadata": {},
   "outputs": [
    {
     "name": "stdout",
     "output_type": "stream",
     "text": [
      "[3. 3. 3. 3. 3. 3.]\n"
     ]
    }
   ],
   "source": [
    "a = nx.get_node_attributes(G, 'eps').values()\n",
    "for item in a:\n",
    "    eps += item\n",
    "print(eps)"
   ]
  },
  {
   "cell_type": "code",
   "execution_count": null,
   "metadata": {},
   "outputs": [],
   "source": [
    "l = nx.to_numpy_matrix(G, weight='l')\n",
    "geosafe_model(l, q, eps, r, W, H, d)"
   ]
  }
 ],
 "metadata": {
  "kernelspec": {
   "display_name": "Python 3",
   "language": "python",
   "name": "python3"
  },
  "language_info": {
   "codemirror_mode": {
    "name": "ipython",
    "version": 3
   },
   "file_extension": ".py",
   "mimetype": "text/x-python",
   "name": "python",
   "nbconvert_exporter": "python",
   "pygments_lexer": "ipython3",
   "version": "3.6.7"
  }
 },
 "nbformat": 4,
 "nbformat_minor": 1
}
