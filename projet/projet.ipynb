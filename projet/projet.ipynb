{
 "cells": [
  {
   "cell_type": "code",
   "execution_count": 1,
   "metadata": {
    "scrolled": true
   },
   "outputs": [],
   "source": [
    "from config import setup\n",
    "setup()"
   ]
  },
  {
   "cell_type": "markdown",
   "metadata": {},
   "source": [
    " # Projet AP GeoSafe, Evacuation lors de feu\n",
    " \n",
    " ## Generator \n",
    " ### Install module\n",
    " Pour générer les données utilisées après par le projet, il faut utiliser le générateur du projet evacsim présent sur le git https://github.com/ehebrard/evacsim\n",
    " Il faut l'utiliser avec python 2 et avoir installé decorator et networkx.\n",
    " Note : il faut un dossier data dans le projet. C'est dans ce dossier que seront déposées les données générées.\n",
    " \n",
    " Commande pour installer :\n",
    " python setup.py install --user\n",
    " \n",
    " Les commandes pour générer :\n",
    " python generator.py --road test --printroad\n",
    " python generator.py test --evacuation --printfire --seed 10\n",
    " \n",
    " Pour générer une nouvelle instance de feu, il suffit de changer le paramètre seed.\n",
    " \n",
    " ### Modélisation données générées\n",
    " FORMAT :\n",
    " n m population_1 maximum_rate_1 duedate_1 ... population_n maximumrate_n duedate_n capacity_1 k_1 i_1_1 offset_i_1_1 ... i_k_1 offset_i_k_1 ... capacity_m k_m i_1_m offset_i_1_m ... i_k_m offset_i_k_m\n",
    " \n",
    "- n is the number of evacuation nodes\n",
    "- m is the number of relevant transit arcs \n",
    "- capacity_y is the capacity of transit arc y\n",
    "- k_y is the number of population groups transiting by this arc\n",
    "- offset_i_x_y is the date at which population group i_x_y reaches this arc if starting at time 0\n",
    "\n",
    "EXEMPLE :   \n",
    "- l1 : 10 8  \n",
    "10 zones à évacuer avec 8 arcs à utiliser pour évacuer les zones  \n",
    "- l2 : 1677 70 66   \n",
    "sur le sommet 1, 1677 personnes à évacuer, par pacquets de 70, avant la date 66  \n",
    "- l3 : 4161 70 40  \n",
    "- l4 : 3817 70 36  \n",
    "- l5 : 3745 70 92  \n",
    "- l6 : 1379 72 126   \n",
    "- l7 : 3359 71 115  \n",
    "- l8 : 893 72 120  \n",
    "- l9 : 463 72 54  \n",
    "- l10: 4368 212 86  \n",
    "- l11: 4987 70 44  \n",
    "Sommet 10  \n",
    "- l12: 74 2 3 20 6 8  \n",
    "Arc 1, capacité de 74 personnes, Groupes de personnes possibles (2), puis lire par tuple de 2 (3,20) : 3, num du groupe concerné, 20, date au plus tôt à laquelle la population peut partir si il part à t=0. Cela veut donc dire que si le groupe 3 part a t=4, il pourra traverser l'arc 1 à partir de t=24.(6,8).  \n",
    "- l13: 74 4 2 1 5 2 7 4 9 2  \n",
    "arc2, capacité74 personnes, 4 groupes possibles puis (2,1), (5,2), (7,4), (9,2)  \n",
    "- l13: 206 8 0 13 1 15 2 16 4 14 5 17 7 19 8 9 9 17  \n",
    "- l14: 72 2 0 2 1 4  \n",
    "- l15: 203 10 0 33 1 35 2 36 3 40 4 34 5 37 6 28 7 39 8 29 9 37  \n",
    "- l16: 72 5 2 4 4 2 5 5 7 7 9 5  \n",
    "- l17: 72 2 7 3 9 1  \n",
    "- l18: 138 7 0 8 1 10 2 11 4 9 5 12 7 14 9 12  \n",
    "Arc 8 capacité de 138 personnes, ...    \n",
    "\n",
    " \n",
    "## GEO-SAFE\n",
    "### intro, présentation\n",
    "Le but de ce projet est de modéliser l'évacuation de la population pendant un feu de forêts. \n",
    "Pour cela, on utilise des outils d'optimisation.\n",
    "\n",
    "La population se trouve sur des noeuds à évacuer. \n",
    "\n",
    "Dans le cas de modélisation d'evacuation lors d'innondation, les méthodes utilisées étaient malléables pour représenter l'évacuation de la population. Il y avait des contraintes cumulatives par segments de route.\n",
    "\n",
    "Il faut éviter le risque de congestion et donc, pour cela, on peut retarder le départ de la population. Il est aussi possible d'infuler sur le taux d'évacuation (moduler la méthode pour déclancher l'alarme).\n",
    "\n",
    "Le but est de maximiser "
   ]
  },
  {
   "cell_type": "code",
   "execution_count": 2,
   "metadata": {},
   "outputs": [],
   "source": [
    "from docplex.cp.model import CpoModel\n",
    "from docplex.cp.model import *"
   ]
  },
  {
   "cell_type": "code",
   "execution_count": 3,
   "metadata": {},
   "outputs": [],
   "source": [
    "G = [[],[]]    # Notre graphe\n",
    "\n",
    "X, A = G\n",
    "\n",
    "X = [[],[],[]] # Ensemble des sommets du graphe\n",
    "\n",
    "E, T, S = X\n",
    "\n",
    "E = [] # Ensemble de sommets à évacuer\n",
    "T = [] # Ensemble de sommets de transfert\n",
    "S = [] # Ensemble de sommets séurisés\n",
    "\n",
    "for k in E:\n",
    "    \n",
    "    i_k, A_k, w_k, p_k, s_k, d_k, h_k = k\n",
    "    \n",
    "    i_k = 0  # Identifiant d'un sommet à évacuer\n",
    "    A_k = [] # Liste des sommets pour le chemin d'évacuation\n",
    "    w_k = 0  # Nombre de personnes à évacuer\n",
    "    p_k = 0  # Durée d'évacuation d'un sommet\n",
    "    s_k = 0  # Date début évacuation d'un sommet\n",
    "    d_k = 0  # Date à laquelle le sommet crame\n",
    "    h_k = 0  # Taux d'évacuation d'un sommet\n",
    "    \n",
    "    for e in A_k:\n",
    "        \n",
    "        e = 0 # Identifiant du sommet parcouru dans le chemin d'évacuation\n",
    "\n",
    "for k in T:\n",
    "    \n",
    "    k = 0  # Identifiant d'un sommet de transfert\n",
    "    \n",
    "for k in S:\n",
    "    \n",
    "    k = 0  # Identifiant d'un sommet sécurisé\n",
    "    \n",
    "for e in A:\n",
    "    \n",
    "    i_e, in_e, out_e, c_e, l_e, b_e = e\n",
    "    \n",
    "    i_e   = 0 # Identifiant de l'arc\n",
    "    in_e  = 0 # Identifiant du sommet entrant\n",
    "    out_e = 0 # Identifiant du sommet sortant\n",
    "    c_e   = 0 # Capacité de l'arc en personnes par minute\n",
    "    l_e   = 0 # Temps de traversée en minutes\n",
    "    b_e   = 0 # Date limite d'évacuation en minute\n",
    "\n"
   ]
  },
  {
   "cell_type": "code",
   "execution_count": 4,
   "metadata": {},
   "outputs": [
    {
     "ename": "SyntaxError",
     "evalue": "invalid syntax (<ipython-input-4-bc4cf0d8f79d>, line 1)",
     "output_type": "error",
     "traceback": [
      "\u001b[1;36m  File \u001b[1;32m\"<ipython-input-4-bc4cf0d8f79d>\"\u001b[1;36m, line \u001b[1;32m1\u001b[0m\n\u001b[1;33m    def geosafe_model(G, ...):\u001b[0m\n\u001b[1;37m                         ^\u001b[0m\n\u001b[1;31mSyntaxError\u001b[0m\u001b[1;31m:\u001b[0m invalid syntax\n"
     ]
    }
   ],
   "source": [
    "def geosafe_model(G, ...):\n",
    "\n",
    "    mdl = CpoModel(name='geosafe')\n",
    "    \n",
    "    s = mdl.integer_var_list(G.E.shape[0], \"Date début évacuation du sommet \")\n",
    "    \n",
    "    h = mdl.integer_var_list(G.E.shape[0], \"Taux d'évacuation du sommet \")\n",
    "    \n",
    "    \n",
    "    \n",
    "    \n",
    "    \n",
    "    \n",
    "    \n",
    "    \n",
    "    \n",
    "    \n",
    "    \n",
    "    \n"
   ]
  },
  {
   "cell_type": "code",
   "execution_count": null,
   "metadata": {},
   "outputs": [],
   "source": []
  }
 ],
 "metadata": {
  "kernelspec": {
   "display_name": "Python 3",
   "language": "python",
   "name": "python3"
  },
  "language_info": {
   "codemirror_mode": {
    "name": "ipython",
    "version": 3
   },
   "file_extension": ".py",
   "mimetype": "text/x-python",
   "name": "python",
   "nbconvert_exporter": "python",
   "pygments_lexer": "ipython3",
   "version": "3.6.7"
  }
 },
 "nbformat": 4,
 "nbformat_minor": 1
}
