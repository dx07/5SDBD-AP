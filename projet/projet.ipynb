{
 "cells": [
  {
   "cell_type": "code",
   "execution_count": null,
   "metadata": {},
   "outputs": [],
   "source": [
    "from config import setup\n",
    "setup()"
   ]
  },
  {
   "cell_type": "code",
   "execution_count": 3,
   "metadata": {},
   "outputs": [],
   "source": [
    "from docplex.cp.model import CpoModel\n",
    "from docplex.cp.model import *"
   ]
  },
  {
   "cell_type": "code",
   "execution_count": 5,
   "metadata": {},
   "outputs": [],
   "source": [
    "G = [[],[]]    # Notre graphe\n",
    "\n",
    "X, A = G\n",
    "\n",
    "X = [[],[],[]] # Ensemble des sommets du graphe\n",
    "\n",
    "E, T, S = X\n",
    "\n",
    "E = [] # Ensemble de sommets à évacuer\n",
    "T = [] # Ensemble de sommets de transfert\n",
    "S = [] # Ensemble de sommets séurisés\n",
    "\n",
    "for k in E:\n",
    "    \n",
    "    i_k, A_k, w_k, p_k, s_k, d_k, h_k = k\n",
    "    \n",
    "    i_k = 0  # Identifiant d'un sommet à évacuer\n",
    "    A_k = [] # Liste des sommets pour le chemin d'évacuation\n",
    "    w_k = 0  # Nombre de personnes à évacuer\n",
    "    p_k = 0  # Durée d'évacuation d'un sommet\n",
    "    s_k = 0  # Date début évacuation d'un sommet\n",
    "    d_k = 0  # Date à laquelle le sommet crame\n",
    "    h_k = 0  # Taux d'évacuation d'un sommet\n",
    "    \n",
    "    for e in A_k:\n",
    "        \n",
    "        e = 0 # Identifiant du sommet parcouru dans le chemin d'évacuation\n",
    "\n",
    "for k in T:\n",
    "    \n",
    "    k = 0  # Identifiant d'un sommet de transfert\n",
    "    \n",
    "for k in S:\n",
    "    \n",
    "    k = 0  # Identifiant d'un sommet sécurisé\n",
    "    \n",
    "for e in A:\n",
    "    \n",
    "    i_e, in_e, out_e, c_e, l_e, b_e = e\n",
    "    \n",
    "    i_e   = 0 # Identifiant de l'arc\n",
    "    in_e  = 0 # Identifiant du sommet entrant\n",
    "    out_e = 0 # Identifiant du sommet sortant\n",
    "    c_e   = 0 # Capacité de l'arc en personnes par minute\n",
    "    l_e   = 0 # Temps de traversée en minutes\n",
    "    b_e   = 0 # Date limite d'évacuation en minute\n",
    "\n"
   ]
  },
  {
   "cell_type": "code",
   "execution_count": null,
   "metadata": {},
   "outputs": [],
   "source": [
    "def geosafe_model(G, ...):\n",
    "    '''\n",
    "    Integer Matrix G.l: length path from i to j = G.l[i,j].\n",
    "                        no path ij <--> G.l[i,j] = 0\n",
    "    Integer Array  G.q: capacity of node i <--> G.q[i]\n",
    "    Boolean Array  G.eps: node i is starting node <--> G.eps[i] = 1\n",
    "    \n",
    "    '''\n",
    "\n",
    "    mdl = CpoModel(name='geosafe')\n",
    "    \n",
    "    s = mdl.integer_var_list(G.E.shape[0], \"Date début évacuation du sommet \")\n",
    "    \n",
    "    h = mdl.integer_var_list(G.E.shape[0], \"Taux d'évacuation du sommet \")\n",
    "    \n",
    "    \n",
    "    \n",
    "    \n",
    "    \n",
    "    \n",
    "    \n",
    "    \n",
    "    \n",
    "    \n",
    "    \n",
    "    \n"
   ]
  }
 ],
 "metadata": {
  "kernelspec": {
   "display_name": "Python 3",
   "language": "python",
   "name": "python3"
  },
  "language_info": {
   "codemirror_mode": {
    "name": "ipython",
    "version": 3
   },
   "file_extension": ".py",
   "mimetype": "text/x-python",
   "name": "python",
   "nbconvert_exporter": "python",
   "pygments_lexer": "ipython3",
   "version": "3.5.1"
  }
 },
 "nbformat": 4,
 "nbformat_minor": 1
}
