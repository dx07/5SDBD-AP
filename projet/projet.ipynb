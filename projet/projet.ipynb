{
 "cells": [
  {
   "cell_type": "code",
   "execution_count": null,
   "metadata": {},
   "outputs": [],
   "source": [
    "from config import setup\n",
    "setup()"
   ]
  },
  {
   "cell_type": "code",
   "execution_count": 22,
   "metadata": {},
   "outputs": [],
   "source": [
    "import math\n",
    "from docplex.cp.model import CpoModel\n",
    "from docplex.cp.model import *"
   ]
  },
  {
   "cell_type": "code",
   "execution_count": 5,
   "metadata": {},
   "outputs": [],
   "source": [
    "G = [[],[]]    # Notre graphe\n",
    "\n",
    "X, A = G\n",
    "\n",
    "X = [[],[],[]] # Ensemble des sommets du graphe\n",
    "\n",
    "E, T, S = X\n",
    "\n",
    "E = [] # Ensemble de sommets à évacuer\n",
    "T = [] # Ensemble de sommets de transfert\n",
    "S = [] # Ensemble de sommets séurisés\n",
    "\n",
    "for k in E:\n",
    "    \n",
    "    A_k, w_k, p_k, s_k, d_k, h_k = k\n",
    "    \n",
    "    i_k = 0  # Identifiant du sommet\n",
    "    w_k = 0  # Nombre de personnes à évacuer\n",
    "    h_k = 0  # Taux d'évacuation d'un sommet\n",
    "    d_k = 0  # Date à laquelle le sommet crame\n",
    "    p_k = 0  # Durée d'évacuation d'un sommet\n",
    "    A_k = [] # Liste des sommets pour le chemin d'évacuation\n",
    "    s_k = 0  # Date début évacuation d'un sommet\n",
    "    \n",
    "    for e in A_k:\n",
    "        \n",
    "        i_e = 0 # Identifiant de l'arc\n",
    "        b_e = 0 # Date min de passage\n",
    "\n",
    "for k in T:\n",
    "    \n",
    "    k = 0  # Identifiant d'un sommet de transfert\n",
    "    \n",
    "for k in S:\n",
    "    \n",
    "    k = 0  # Identifiant d'un sommet sécurisé\n",
    "    \n",
    "for e in A:\n",
    "    \n",
    "    i_e, in_e, out_e, c_e, b_e = e\n",
    "    \n",
    "    i_e   = 0 # Identifiant de l'arc\n",
    "    c_e   = 0 # Capacité de l'arc en personnes par minute\n",
    "    in_e  = 0 # Identifiant du sommet entrant\n",
    "    out_e = 0 # Identifiant du sommet sortant\n",
    "\n"
   ]
  },
  {
   "cell_type": "code",
   "execution_count": 20,
   "metadata": {},
   "outputs": [
    {
     "name": "stdout",
     "output_type": "stream",
     "text": [
      "[1255, 74, 76]\n[1578, 70, 105]\n[4174, 72, 127]\n[1019, 70, 106]\n[3395, 72, 99]\n[3825, 72, 127]\n[2743, 71, 102]\n[4384, 132, 107]\n[2623, 71, 127]\n[1107, 71, 116]\n[212, [[0, 16], [1, 11], [3, 10], [4, 39], [5, 15], [6, 14], [7, 9], [8, 14]]]\n[132, [[2, 27], [9, 34]]]\n[71, [[1, 1], [3, 0], [6, 4]]]\n[203, [[0, 31], [1, 26], [2, 36], [3, 25], [4, 54], [5, 30], [6, 29], [7, 24], [8, 29], [9, 43]]]\n[70, [[1, 1], [6, 4]]]\n[224, [[0, 12], [1, 7], [3, 6], [6, 10], [7, 5], [8, 10]]]\n[212, [[0, 8], [1, 3], [3, 2], [6, 6], [7, 1]]]\n"
     ]
    }
   ],
   "source": [
    "def read_evac(filename):\n",
    "    \n",
    "    with open(filename,\"r\") as file:\n",
    "        content = file.readlines()\n",
    "    \n",
    "    if len(content) > 0:\n",
    "        \n",
    "        nbzones, nbarcs = content[0].split(\" \")\n",
    "        content.remove(content[0])\n",
    "    \n",
    "        lineszones = content[0:int(nbzones)]\n",
    "        linesarcs  = content[int(nbzones):int(nbzones)+int(nbarcs)]\n",
    "        \n",
    "        E = []\n",
    "        \n",
    "        for line in lineszones:\n",
    "            personnes, paquets, datemax = line.split(\" \")\n",
    "            E.append([int(personnes),int(paquets),int(datemax)])\n",
    "            \n",
    "        A = []\n",
    "        \n",
    "        for line in linesarcs:\n",
    "            \n",
    "            content = line.split(\" \")\n",
    "            capacite = content[0]\n",
    "            content = content[2:]\n",
    "            \n",
    "            groups = []\n",
    "            \n",
    "            for i in range(0,len(content),2):\n",
    "                numgroupe = content[i]\n",
    "                datemax = content[i+1]\n",
    "                \n",
    "                groups.append([int(numgroupe),int(datemax)])\n",
    "                \n",
    "            A.append([int(capacite),groups])\n",
    "            \n",
    "        return E,A\n",
    "        \n",
    "        \n",
    "# import os\n",
    "# os.listdir()\n",
    "\n",
    "E,A = read_evac(\"projet/evacsim-master/data/test_10_25_2_10.evac\")\n",
    "\n",
    "print(*E, sep = \"\\n\")\n",
    "print(*A, sep = \"\\n\")"
   ]
  },
  {
   "cell_type": "code",
   "execution_count": null,
   "metadata": {},
   "outputs": [
    {
     "name": "stdout",
     "output_type": "stream",
     "text": [
      "{\n \"X\": {\n  \"T\": [],\n  \"E\": {\n   \"0\": {\n    \"s_k\": null,\n    \"p_k\": 17,\n    \"w_k\": 1255,\n    \"A_k\": [],\n    \"d_k\": 76,\n    \"h_k\": 74,\n    \"i_k\": 0\n   },\n   \"1\": {\n    \"s_k\": null,\n    \"p_k\": 23,\n    \"w_k\": 1578,\n    \"A_k\": [],\n    \"d_k\": 105,\n    \"h_k\": 70,\n    \"i_k\": 1\n   },\n   \"2\": {\n    \"s_k\": null,\n    \"p_k\": 58,\n    \"w_k\": 4174,\n    \"A_k\": [],\n    \"d_k\": 127,\n    \"h_k\": 72,\n    \"i_k\": 2\n   },\n   \"3\": {\n    \"s_k\": null,\n    \"p_k\": 15,\n    \"w_k\": 1019,\n    \"A_k\": [],\n    \"d_k\": 106,\n    \"h_k\": 70,\n    \"i_k\": 3\n   },\n   \"4\": {\n    \"s_k\": null,\n    \"p_k\": 48,\n    \"w_k\": 3395,\n    \"A_k\": [],\n    \"d_k\": 99,\n    \"h_k\": 72,\n    \"i_k\": 4\n   },\n   \"5\": {\n    \"s_k\": null,\n    \"p_k\": 54,\n    \"w_k\": 3825,\n    \"A_k\": [],\n    \"d_k\": 127,\n    \"h_k\": 72,\n    \"i_k\": 5\n   },\n   \"6\": {\n    \"s_k\": null,\n    \"p_k\": 39,\n    \"w_k\": 2743,\n    \"A_k\": [],\n    \"d_k\": 102,\n    \"h_k\": 71,\n    \"i_k\": 6\n   },\n   \"7\": {\n    \"s_k\": null,\n    \"p_k\": 34,\n    \"w_k\": 4384,\n    \"A_k\": [],\n    \"d_k\": 107,\n    \"h_k\": 132,\n    \"i_k\": 7\n   },\n   \"8\": {\n    \"s_k\": null,\n    \"p_k\": 37,\n    \"w_k\": 2623,\n    \"A_k\": [],\n    \"d_k\": 127,\n    \"h_k\": 71,\n    \"i_k\": 8\n   },\n   \"9\": {\n    \"s_k\": null,\n    \"p_k\": 16,\n    \"w_k\": 1107,\n    \"A_k\": [],\n    \"d_k\": 116,\n    \"h_k\": 71,\n    \"i_k\": 9\n   }\n  },\n  \"S\": []\n },\n \"A\": []\n}\n"
     ]
    }
   ],
   "source": [
    "def extract_graph(filename):\n",
    "    \n",
    "    E,A = read_evac(\"projet/evacsim-master/data/test_10_25_2_10.evac\")\n",
    "    \n",
    "    ########################## TRAITEMENT DES SOMMETS ##########################\n",
    "    \n",
    "    new_E = {}\n",
    "    \n",
    "    for i_k in range(len(E)):\n",
    "        w_k, h_k, d_k = E[i_k]\n",
    "        p_k = math.ceil(w_k / h_k) # Durée d'évacuation d'un sommet\n",
    "        A_k = [] # Liste des sommets pour le chemin d'évacuation\n",
    "        s_k = None  # Date début évacuation d'un sommet\n",
    "        \n",
    "        k = {\n",
    "            \"i_k\": i_k,\n",
    "            \"w_k\": w_k,\n",
    "            \"h_k\": h_k,\n",
    "            \"d_k\": d_k,\n",
    "            \"p_k\": p_k,\n",
    "            \"A_k\": A_k,\n",
    "            \"s_k\": s_k,\n",
    "        }\n",
    "        \n",
    "        new_E[i_k] = k\n",
    "        \n",
    "    new_T = []\n",
    "    \n",
    "    new_S = []\n",
    "        \n",
    "    ########################## TRAITEMENT DES ARCS ##########################\n",
    "    \n",
    "    new_A = []\n",
    "    \n",
    "    for i_e in range (len(A)):\n",
    "        c_e, groups = A[i_e]\n",
    "        in_e = None\n",
    "        out_e = None\n",
    "\n",
    "        for i_k, b_e in groups:\n",
    "            \n",
    "            e = {\n",
    "                \"i_e\": i_e,\n",
    "                \"b_e\": b_e,\n",
    "            }\n",
    "            \n",
    "            k = new_E.get(i_k)\n",
    "            A_k = k.get(\"A_k\")\n",
    "            \n",
    "            if len(A_k) == 0:\n",
    "                A_k.append(e)\n",
    "            else:\n",
    "                # TODO Parcourir A_k et insérer à la bonne date\n",
    "\n",
    "\n",
    "\n",
    "    \n",
    "    ########################## TRAITEMENT DU GRAPHE ##########################\n",
    "    \n",
    "    X = {\n",
    "        \"E\": new_E,\n",
    "        \"T\": new_T,\n",
    "        \"S\": new_S,\n",
    "    }\n",
    "    \n",
    "    G = {\n",
    "        \"X\": X,\n",
    "        \"A\": new_A,\n",
    "    }\n",
    "    \n",
    "    return G\n",
    "\n",
    "G = extract_graph(\"projet/evacsim-master/data/test_10_25_2_10.evac\")\n",
    "\n",
    "import json\n",
    "print(json.dumps(G, indent=1))\n"
   ]
  },
  {
   "cell_type": "code",
   "execution_count": null,
   "metadata": {},
   "outputs": [],
   "source": [
    "def geosafe_model(G, ...):\n",
    "\n",
    "    mdl = CpoModel(name='geosafe')\n",
    "    \n",
    "    s = mdl.integer_var_list(G.E.shape[0], \"Date début évacuation du sommet \")\n",
    "    \n",
    "    h = mdl.integer_var_list(G.E.shape[0], \"Taux d'évacuation du sommet \")\n",
    "    "
   ]
  },
  {
   "cell_type": "code",
   "execution_count": 21,
   "metadata": {},
   "outputs": [
    {
     "name": "stdout",
     "output_type": "stream",
     "text": [
      "5\n"
     ]
    }
   ],
   "source": [
    ""
   ]
  }
 ],
 "metadata": {
  "kernelspec": {
   "display_name": "Python 3",
   "language": "python",
   "name": "python3"
  },
  "language_info": {
   "codemirror_mode": {
    "name": "ipython",
    "version": 3
   },
   "file_extension": ".py",
   "mimetype": "text/x-python",
   "name": "python",
   "nbconvert_exporter": "python",
   "pygments_lexer": "ipython3",
   "version": "3.5.1"
  }
 },
 "nbformat": 4,
 "nbformat_minor": 1
}
