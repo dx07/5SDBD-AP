{
 "cells": [
  {
   "cell_type": "code",
   "execution_count": null,
   "metadata": {},
   "outputs": [],
   "source": [
    "from config import setup\n",
    "setup()"
   ]
  },
  {
   "cell_type": "code",
   "execution_count": 3,
   "metadata": {},
   "outputs": [],
   "source": [
    "from docplex.cp.model import CpoModel\n",
    "from docplex.cp.model import *"
   ]
  },
  {
   "cell_type": "code",
   "execution_count": null,
   "metadata": {},
   "outputs": [],
   "source": [
    "def geosafe_model(G, ...):\n",
    "    '''\n",
    "    Integer Matrix G.l: length path from i to j = G.l[i,j].\n",
    "                        no path ij <--> G.l[i,j] = 0\n",
    "    Integer Array  G.q: capacity of node i <--> G.q[i]\n",
    "    Boolean Array  G.eps: node i is starting node <--> G.eps[i] = 1\n",
    "    \n",
    "    '''\n",
    "\n",
    "    mdl = CpoModel(name='geosafe')\n",
    "    \n",
    "    s = mdl.integer_var_list(G.E.shape[0], \"Date début évacuation du sommet \")\n",
    "    \n",
    "    h = mdl.integer_var_list(G.E.shape[0], \"Taux d'évacuation du sommet \")\n",
    "    \n",
    "    \n",
    "    \n",
    "    \n",
    "    \n",
    "    \n",
    "    \n",
    "    \n",
    "    \n",
    "    \n",
    "    \n",
    "    \n"
   ]
  }
 ],
 "metadata": {
  "kernelspec": {
   "display_name": "Python 3",
   "language": "python",
   "name": "python3"
  },
  "language_info": {
   "codemirror_mode": {
    "name": "ipython",
    "version": 3
   },
   "file_extension": ".py",
   "mimetype": "text/x-python",
   "name": "python",
   "nbconvert_exporter": "python",
   "pygments_lexer": "ipython3",
   "version": "3.6.7"
  }
 },
 "nbformat": 4,
 "nbformat_minor": 1
}
