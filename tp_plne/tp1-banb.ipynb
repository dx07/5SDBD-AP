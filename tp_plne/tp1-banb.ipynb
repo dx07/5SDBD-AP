{
 "cells": [
  {
   "cell_type": "markdown",
   "metadata": {},
   "source": [
    "# TP1 - Branch & Bound/Cuts for the TSP"
   ]
  },
  {
   "cell_type": "markdown",
   "metadata": {},
   "source": [
    "## The `minilp` python package\n",
    "\n",
    "The `minilp` python package is a small python package that allows us to easily model (integer) linear program. The package comes with an interface to common linear programming solvers (`cplex`, `scipy`) but no integer linear programming solver."
   ]
  },
  {
   "cell_type": "code",
   "execution_count": 1,
   "metadata": {},
   "outputs": [
    {
     "name": "stdout",
     "output_type": "stream",
     "text": [
      "status = optimal, obj. = 7.5\n",
      "x1 = 2.5000, x2 = 2.5000\n"
     ]
    }
   ],
   "source": [
    "from minilp import *\n",
    "\n",
    "lp = problem('My first LP problem')\n",
    "\n",
    "# create two continuous variables within [0, 4]\n",
    "x1, x2 = lp.continuous_var_list(2, 0, 4)\n",
    "\n",
    "# add constraints\n",
    "lp.add_constraint(-3 * x1 + 4 * x2 <= 7)\n",
    "lp.add_constraint(2 * x2 <= 5)\n",
    "lp.add_constraint(6 * x1 + 4 * x2 <= 25)\n",
    "lp.add_constraint(2 * x1 - x2 <= 6)\n",
    "\n",
    "# set the objective function\n",
    "lp.set_objective(x1 + 2 * x2, sense=max)\n",
    "\n",
    "# solve the problem\n",
    "res = lp.lp_solve()\n",
    "print(res)\n",
    "print('x1 = {:.4f}, x2 = {:.4f}'.format(res.get_value(x1), res.get_value(x2)))"
   ]
  },
  {
   "cell_type": "markdown",
   "metadata": {},
   "source": [
    "The `minilp` package allows you to modelise simple integer linear programs:"
   ]
  },
  {
   "cell_type": "code",
   "execution_count": 2,
   "metadata": {},
   "outputs": [],
   "source": [
    "from minilp import *\n",
    "\n",
    "lp = problem('My first LP problem')\n",
    "\n",
    "# create two integer variables within [0, 4]\n",
    "x1, x2 = lp.integer_var_list(2, 0, 4)\n",
    "\n",
    "# add constraints\n",
    "lp.add_constraint(-3 * x1 + 4 * x2 <= 7)\n",
    "lp.add_constraint(2 * x2 <= 5)\n",
    "lp.add_constraint(6 * x1 + 4 * x2 <= 25)\n",
    "lp.add_constraint(2 * x1 - x2 <= 6)\n",
    "\n",
    "# set the objective function\n",
    "lp.set_objective(x1 + 2 * x2, sense=max)"
   ]
  },
  {
   "cell_type": "markdown",
   "metadata": {},
   "source": [
    "But it does not provide a integer linear program solver &mdash; the `lp_solve` method will always solve the linear relaxation of the problem:"
   ]
  },
  {
   "cell_type": "code",
   "execution_count": 3,
   "metadata": {},
   "outputs": [
    {
     "name": "stdout",
     "output_type": "stream",
     "text": [
      "status = optimal, obj. = 7.5\n",
      "x1 = 2.5000, x2 = 2.5000\n"
     ]
    }
   ],
   "source": [
    "res = lp.lp_solve()\n",
    "print(res)\n",
    "print('x1 = {:.4f}, x2 = {:.4f}'.format(res.get_value(x1), res.get_value(x2)))"
   ]
  },
  {
   "cell_type": "markdown",
   "metadata": {},
   "source": [
    "The `minilp` package allows you to modelise `<=`, `>=` or `==` (in)equalities. You can create linear expression by simply adding, substracting or multiplying values (`int` or `float`) and variables or existing expressions. You can use the standard python `sum` to sum a bunch of expressions or variables, and the `minilp.dot` function to compute the dot product of two vectors.\n",
    "\n",
    "**Exercice:** Complete the following code to create a simple model for the knapsack problem."
   ]
  },
  {
   "cell_type": "code",
   "execution_count": 19,
   "metadata": {},
   "outputs": [
    {
     "name": "stdout",
     "output_type": "stream",
     "text": [
      "status = optimal, obj. = 10.8\n",
      "[0, 1.0, 1.0, 0.6000000000000001, 0]\n"
     ]
    }
   ],
   "source": [
    "from minilp import *\n",
    "\n",
    "p = [1, 4, 5, 3, 5] # profits\n",
    "w = [3, 4, 3, 5, 9] # weights\n",
    "k = 10 # capacity\n",
    "\n",
    "# A simple knapsack\n",
    "kp = problem('Simple knapsack')\n",
    "\n",
    "# TODO: Create variables, add constraints and set the objective.\n",
    "x = kp.binary_var_list(len(p))\n",
    "#x = lp.integer_var_list(len(p), 0, 1)\n",
    "kp.add_constraint(dot(x, w) <= k)\n",
    "\n",
    "kp.set_objective(dot(x, p), sense = max)\n",
    "\n",
    "# We can solve the linear relaxation:\n",
    "res = kp.lp_solve()\n",
    "print(res)\n",
    "print(res.get_values(x))"
   ]
  },
  {
   "cell_type": "code",
   "execution_count": 17,
   "metadata": {},
   "outputs": [
    {
     "name": "stdout",
     "output_type": "stream",
     "text": [
      "Help on result in module minilp.result object:\n",
      "\n",
      "class result(builtins.object)\n",
      " |  Methods defined here:\n",
      " |  \n",
      " |  __bool__(self)\n",
      " |  \n",
      " |  __init__(self, success=False, status='unknown', objective=nan, variables=None)\n",
      " |      Initialize self.  See help(type(self)) for accurate signature.\n",
      " |  \n",
      " |  __repr__(self)\n",
      " |      Return repr(self).\n",
      " |  \n",
      " |  get_value(self, var)\n",
      " |      Retrieve the value associated to the given variable.\n",
      " |      \n",
      " |      Parameters:\n",
      " |        - var A minilp.expr.var object.\n",
      " |      \n",
      " |      Return: Value associated with the given variable.\n",
      " |  \n",
      " |  get_values(self, *args)\n",
      " |      Return values associated to the given variables.\n",
      " |      \n",
      " |      Parameters:\n",
      " |        - vs Iterable of minilp.expr.var.\n",
      " |      \n",
      " |      Return: List of value associated with the variables.\n",
      " |  \n",
      " |  ----------------------------------------------------------------------\n",
      " |  Data descriptors defined here:\n",
      " |  \n",
      " |  __dict__\n",
      " |      dictionary for instance variables (if defined)\n",
      " |  \n",
      " |  __weakref__\n",
      " |      list of weak references to the object (if defined)\n",
      " |  \n",
      " |  objective\n",
      " |      Objective value of this result or np.nan.\n",
      " |  \n",
      " |  status\n",
      " |      Status of this result.\n",
      " |  \n",
      " |  success\n",
      " |      True if this result contains a solution, false otherwize.\n",
      "\n"
     ]
    }
   ],
   "source": [
    "help(res)"
   ]
  },
  {
   "cell_type": "markdown",
   "metadata": {},
   "source": [
    "## Generic Branch & Bound\n",
    "\n",
    "**Exercice:** Implement a generic branch and bound algorithm that can be used to solve any `minilp.problem` instance.\n",
    "\n",
    "**Tips:** Do not hesitate to add (some) logging messages to your algorithm in order to visualize the progression.\n",
    "\n",
    "**Tips:** You can add and remove constraint(s) using the `add_constraint(s)` and `del_constraint(s)` method of `minilp.problem`."
   ]
  },
  {
   "cell_type": "code",
   "execution_count": 12,
   "metadata": {},
   "outputs": [
    {
     "data": {
      "text/plain": [
       "minilp.expr.cons"
      ]
     },
     "execution_count": 12,
     "metadata": {},
     "output_type": "execute_result"
    }
   ],
   "source": [
    "p = problem()\n",
    "\n",
    "x, y = p.integer_var_list(2)\n",
    "\n",
    "type(x + y <= 8)"
   ]
  },
  {
   "cell_type": "code",
   "execution_count": 28,
   "metadata": {},
   "outputs": [
    {
     "name": "stdout",
     "output_type": "stream",
     "text": [
      "Help on module minilp.result in minilp:\n",
      "\n",
      "NAME\n",
      "    minilp.result - # -*- encoding: utf-8 -*-\n",
      "\n",
      "CLASSES\n",
      "    builtins.object\n",
      "        result\n",
      "    \n",
      "    class result(builtins.object)\n",
      "     |  Methods defined here:\n",
      "     |  \n",
      "     |  __bool__(self)\n",
      "     |  \n",
      "     |  __init__(self, success=False, status='unknown', objective=nan, variables=None)\n",
      "     |      Initialize self.  See help(type(self)) for accurate signature.\n",
      "     |  \n",
      "     |  __repr__(self)\n",
      "     |      Return repr(self).\n",
      "     |  \n",
      "     |  get_value(self, var)\n",
      "     |      Retrieve the value associated to the given variable.\n",
      "     |      \n",
      "     |      Parameters:\n",
      "     |        - var A minilp.expr.var object.\n",
      "     |      \n",
      "     |      Return: Value associated with the given variable.\n",
      "     |  \n",
      "     |  get_values(self, *args)\n",
      "     |      Return values associated to the given variables.\n",
      "     |      \n",
      "     |      Parameters:\n",
      "     |        - vs Iterable of minilp.expr.var.\n",
      "     |      \n",
      "     |      Return: List of value associated with the variables.\n",
      "     |  \n",
      "     |  ----------------------------------------------------------------------\n",
      "     |  Data descriptors defined here:\n",
      "     |  \n",
      "     |  __dict__\n",
      "     |      dictionary for instance variables (if defined)\n",
      "     |  \n",
      "     |  __weakref__\n",
      "     |      list of weak references to the object (if defined)\n",
      "     |  \n",
      "     |  objective\n",
      "     |      Objective value of this result or np.nan.\n",
      "     |  \n",
      "     |  status\n",
      "     |      Status of this result.\n",
      "     |  \n",
      "     |  success\n",
      "     |      True if this result contains a solution, false otherwize.\n",
      "\n",
      "FILE\n",
      "    /home/dhnguye1/Documents/5A/ProgrammationParContraintes/ilp_insa_1/minilp/result.py\n",
      "\n",
      "\n"
     ]
    }
   ],
   "source": [
    "help(minilp.result)"
   ]
  },
  {
   "cell_type": "code",
   "execution_count": 74,
   "metadata": {},
   "outputs": [],
   "source": [
    "import datetime as dt\n",
    "import math\n",
    "import numpy as np\n",
    "\n",
    "from minilp import *\n",
    "import minilp.result\n",
    "\n",
    "\n",
    "class branch_and_bound:\n",
    "    \n",
    "    # Number of iterations between to log (not including exceptional log).\n",
    "    LOG_ITERATIONS = 5\n",
    "    \n",
    "    def __init__(self, pb, lp_solver=solvers.get_default_solver()):\n",
    "        \"\"\" Create a new branch_and_bound algorithm for the given \n",
    "        problem with the given solver.\n",
    "        \n",
    "        Parameters:\n",
    "          - pb Problem to solve (instance of minilp.problem).\n",
    "          - lp_solver Solver to use to solve linear relaxation.\n",
    "        \"\"\"        \n",
    "        \n",
    "        # Instance of minilp.problem to solve.\n",
    "        self.problem = pb\n",
    "        \n",
    "        # Current best solution found (default constructor create\n",
    "        # an \"unknown\" result).\n",
    "        self.current_best = minilp.result.result()\n",
    "        \n",
    "        # List of nodes of the algorithm.\n",
    "        self.nodes = []\n",
    "        \n",
    "        # Solver for solving relaxation.\n",
    "        self.lp_solver = lp_solver\n",
    "        \n",
    "        # Iteration counter.\n",
    "        self.nb_iterations = 0\n",
    "                \n",
    "    def insert_first_node(self):\n",
    "        \"\"\" Insert the first node in the list of nodes. \"\"\"\n",
    "        self.nodes.append( [] )\n",
    "    \n",
    "    def get_next_node(self):\n",
    "        \"\"\" Retrieve the next node to evaluate.\n",
    "        \n",
    "        Return: The next node to evaluate by the algorithm. \"\"\"\n",
    "        return self.nodes.pop(0)\n",
    "            \n",
    "    def is_done(self):\n",
    "        \"\"\" Check if the algorithm has finished.\n",
    "        \n",
    "        Return: True if the algorithm should stop, False otherwise. \"\"\"\n",
    "        return len(self.nodes) == 0\n",
    "\n",
    "    def get_first_non_integral(self, sol):\n",
    "        \"\"\" Retrieve the first integer variable in the underlying problem \n",
    "        whose value is not integral in the given solution.\n",
    "        \n",
    "        Parameters:\n",
    "          - sol Solution of the problem.\n",
    "    \n",
    "        Return: The first variable (minilp.var) whose value is not integral, \n",
    "        or None if no such variable exists.\n",
    "        \"\"\"\n",
    "    \n",
    "        # Hint: help(p), help(s) to obtain documentation about the class problem\n",
    "        # and solution.\n",
    "        for v in self.problem.variables:\n",
    "            if v.category == int:\n",
    "                value = sol.get_value(v)\n",
    "                if abs(round(value) - value) > 1e-6:\n",
    "                    return v\n",
    "        \n",
    "        return None\n",
    "    \n",
    "    def compare_solution(self, l, r):\n",
    "        \"\"\" Compare the two given solutions, returning True if the left\n",
    "        one is better than the right one for the current problem.\n",
    "        \n",
    "        Parameters:\n",
    "          - l, r The two solutions (minilp.result) to compare.\n",
    "          \n",
    "        Return: True if the left solution is better than the right one, or\n",
    "        if the right solution has no solution.\n",
    "        \"\"\"\n",
    "        if np.isnan(r.objective):\n",
    "            return True\n",
    "        if self.problem.sense == min:\n",
    "            return l.objective < r.objective\n",
    "        return l.objective > r.objective\n",
    "    \n",
    "    def log_solution(self, res, new_best=False):\n",
    "        \"\"\" Log the given solution with time information.\n",
    "        \n",
    "        Parameters:\n",
    "          - res Solution (minilp.result) to log.\n",
    "          - new_best Indicates if this solution is new best solution (integer).\n",
    "        \"\"\"\n",
    "        print('{} {:5d} {:5d} {:9g}{}'.format(\n",
    "            dt.datetime.now().strftime('%T'), \n",
    "            self.nb_iterations, len(self.nodes), res.objective,\n",
    "            '*' if new_best else ''))\n",
    "        \n",
    "    def iterate(self):\n",
    "        \"\"\" Perform an iteration of the branch-and-bound algorithm. \"\"\"\n",
    "        \n",
    "        # Increment counter and log.\n",
    "        if self.nb_iterations % branch_and_bound.LOG_ITERATIONS == 0:\n",
    "            self.log_solution(self.current_best)\n",
    "            \n",
    "        self.nb_iterations += 1\n",
    "        \n",
    "        # Retrieve the next node to handle:\n",
    "        node = self.get_next_node()\n",
    "        \n",
    "        # Hint: You can use add_constraint and del_constraint on the\n",
    "        # underlying problem (self.problem).\n",
    "        \n",
    "        # TODO\n",
    "        self.problem.add_constraints(node)\n",
    "        sol = self.problem.lp_solve(solver = self.lp_solver)\n",
    "        self.problem.del_constraints(node)\n",
    "\n",
    "        if sol and self.compare_solution(sol, self.current_best):\n",
    "            non_integral = self.get_first_non_integral(sol)\n",
    "        \n",
    "            # Save if we found a solution and it's better than current:\n",
    "            if non_integral is None :\n",
    "                self.current_best = sol\n",
    "            else :\n",
    "                seuil = int(sol.get_value(non_integral))\n",
    "                self.nodes.append( node + [ non_integral <= seuil ] )\n",
    "                self.nodes.append( node + [ non_integral >= seuil + 1 ] )\n",
    "            \n",
    "            \n",
    "    def run(self):\n",
    "        \"\"\" Run the branch-and-bound algorithm and return a minilp.result. \n",
    "        \n",
    "        Return: A minilp.result containing the result of running the branch-and-bound\n",
    "        algorithm. \"\"\"\n",
    "        \n",
    "        print('B&B using {} to solve linear relaxation'.format(self.lp_solver.__class__.__name__))\n",
    "        \n",
    "        # Insert the first node in the list:\n",
    "        self.insert_first_node()\n",
    "        while not self.is_done():\n",
    "            self.iterate()\n",
    "                \n",
    "        # Return the best solution found (if any).\n",
    "        return self.current_best"
   ]
  },
  {
   "cell_type": "markdown",
   "metadata": {},
   "source": [
    "**Exercice:** Test your algorithm on the knapsack problem above."
   ]
  },
  {
   "cell_type": "code",
   "execution_count": 75,
   "metadata": {},
   "outputs": [
    {
     "name": "stdout",
     "output_type": "stream",
     "text": [
      "B&B using docplex to solve linear relaxation\n",
      "11:48:52     0     1       nan\n",
      "10.0\n",
      "[1.0, 1.0, 1.0, 0, 0]\n"
     ]
    }
   ],
   "source": [
    "our_solver = branch_and_bound(kp)\n",
    "s = our_solver.run()\n",
    "print(s.objective)\n",
    "print(s.get_values(kp.variables))"
   ]
  },
  {
   "cell_type": "markdown",
   "metadata": {},
   "source": [
    "**Exercice:** Create other instances of the knapsack problem to reach the \"limits\" of your implementation &mdash; What is the largest instance you can solve in e.g. less than 5 seconds?"
   ]
  },
  {
   "cell_type": "code",
   "execution_count": null,
   "metadata": {},
   "outputs": [],
   "source": []
  },
  {
   "cell_type": "markdown",
   "metadata": {},
   "source": [
    "## The Travelling Salesman Problemn (TSP)\n",
    "\n",
    "\n",
    "Given a list of $n$ cities and the distances $c_{ij}$ between each pair of cities, you want to find the shortest circuit that visits each city **exactly once** and comes back to the first visited city.\n",
    "\n",
    "The goal of this section is to implement a generic branch & bound algorithm and a branch & cuts algorithm for the travelling salesman problem, using the `minilp` python package."
   ]
  },
  {
   "cell_type": "markdown",
   "metadata": {},
   "source": [
    "### Creating a model for the TSP\n",
    "\n",
    "**Exercice:** Create the `tsp_relax` function and either the `tsp_mtz` or `tsp_flow` (or both) function(s):\n",
    "\n",
    "- `tsp_relax(distances)` &mdash; Create a `minilp.problem` object representing a TSP instance without subtour constraints using the given matrix of distances. \n",
    "\n",
    "- `tsp_mtz(distances)` &mdash; Create a MTZ formulation for the TSP using the given matrix of distances.\n",
    "\n",
    "- `tsp_flow(distances)` &mdash; Create a flow formulation for the TSP using the given matrix of distances."
   ]
  },
  {
   "cell_type": "code",
   "execution_count": 79,
   "metadata": {},
   "outputs": [],
   "source": [
    "from minilp import *\n",
    "import numpy as np\n",
    "\n",
    "def tsp_relax(distances):\n",
    "    tsp = problem(\"Travelling Salesman Problem Relax\")\n",
    "    \n",
    "    n = len(distances)\n",
    "    x = np.array(tsp.binary_var_list(n * n)).reshape((n, n))\n",
    "    \n",
    "    tsp.set_objective((x * np.array(distances)).sum(), sense = min)\n",
    "    \n",
    "    return tsp, x\n",
    "\n",
    "def tsp_mtz(distances):\n",
    "    tsp = problem(\"Travelling Salesman Problem MTZ\")\n",
    "    \n",
    "    n = len(distances)\n",
    "    x = np.array(tsp.binary_var_list(n * n)).reshape((n, n))\n",
    "    \n",
    "    tsp.set_objective((x * np.array(distances)).sum(), sense = min)\n",
    "    \n",
    "    return tsp, x\n",
    "\n",
    "def tsp_flow(distances):\n",
    "    pass"
   ]
  },
  {
   "cell_type": "code",
   "execution_count": 82,
   "metadata": {},
   "outputs": [
    {
     "name": "stdout",
     "output_type": "stream",
     "text": [
      "=== MTZ ===\n",
      "32 * _x1 + 47 * _x2 + 49 * _x3 + 16 * _x4 + 44 * _x5 + 32 * _x6 + 41 * _x8 + 22 * _x9 + 31 * _x10 + 10 * _x11 + 47 * _x12 + 41 * _x13 + 15 * _x15 + 18 * _x16 + 40 * _x17 + 49 * _x18 + 22 * _x19 + 15 * _x20 + 24 * _x22 + 36 * _x23 + 16 * _x24 + 31 * _x25 + 18 * _x26 + 24 * _x27 + 9 * _x29 + 44 * _x30 + 10 * _x31 + 40 * _x32 + 36 * _x33 + 9 * _x34\n"
     ]
    }
   ],
   "source": [
    "import tsp.data\n",
    "\n",
    "distances = tsp.data.grid6\n",
    "tsp, x = tsp_relax(distances)\n",
    "\n",
    "print(tsp.objective)"
   ]
  },
  {
   "cell_type": "markdown",
   "metadata": {},
   "source": [
    "The `tsp.data` packages contains grid of distances of various sizes (5, 6, 7, 8, 9, 10, 15, 17, 26, 42).\n",
    "\n",
    "**Exercice:** Using the `tsp_mtz` and `banb` functions you implemented, solve the **small** TSP instances found in `tsp.data`.\n",
    "\n",
    "**Question:** How large are the instances you are able to solve in a reasonable amount of time?"
   ]
  },
  {
   "cell_type": "code",
   "execution_count": null,
   "metadata": {},
   "outputs": [],
   "source": [
    "from minilp import *\n",
    "import tsp.data\n",
    "\n",
    "distances = tsp.data.grid6\n",
    "\n",
    "print('=== MTZ ===')\n",
    "tsp, (x, u) = tsp_mtz(distances)\n",
    "r = branch_and_bound(tsp, solvers.docplex()).run()\n",
    "print(r)\n",
    "\n",
    "print('\\n=== Flow ===')\n",
    "tsp, (x, y) = tsp_flow(distances)\n",
    "r = branch_and_bound(tsp, solvers.docplex()).run()\n",
    "print(r)"
   ]
  },
  {
   "cell_type": "markdown",
   "metadata": {},
   "source": [
    "### Creating a branch & cuts for the TSP\n",
    "\n",
    "**Exercice:** Create the function `tsp_cuts` that implements a branch & cuts for the TSP using the `banb` algorithm you implemented."
   ]
  },
  {
   "cell_type": "code",
   "execution_count": null,
   "metadata": {},
   "outputs": [],
   "source": [
    "class tsp_branch_and_cuts:\n",
    "    \n",
    "    def __init__(self, distances, ilp_solver=branch_and_bound):\n",
    "        \"\"\" Create a new TSP branch-and-cuts algorithm for the given\n",
    "        instance and solver.\n",
    "        \n",
    "        Parameters:\n",
    "          - distances Distances for the algorithm (a NxN grid of distances).\n",
    "          - ilp_solver Solver class or function returning a ILP solver.\n",
    "        \"\"\"\n",
    "        \n",
    "        # Number of nodes in the instance.\n",
    "        self.n = len(distances)\n",
    "        \n",
    "        # TSP problem and variables X from the relaxation.\n",
    "        self.tsp, self.x = tsp_relax(distances)\n",
    "        \n",
    "        # ILP solver.\n",
    "        self.ilp_solver = ilp_solver\n",
    "        \n",
    "    def get_subtours(self, sol):\n",
    "        \"\"\" Retrieve the list of subtours in the given solution for the \n",
    "        underlying TSP problem.\n",
    "        \n",
    "        Parameters:\n",
    "          - sol Solution where subtours should be found.\n",
    "          \n",
    "        Return: A list of subtours, each subtour being a list of node\n",
    "        numbers (e.g., [1, 2, 3] is a subtour containing node 1, 2 and 3.)\n",
    "        \"\"\" \n",
    "        return None\n",
    "        \n",
    "    def add_subtour_constraint(self, subtour):\n",
    "        \"\"\" Add a constraint for the given subtour to the underlying TSP problem.\n",
    "        \n",
    "        Parameters:\n",
    "          - subtour Subtour for which a constraint should be added.\n",
    "        \"\"\"\n",
    "        pass\n",
    "\n",
    "        \n",
    "    def run(self):\n",
    "        \"\"\" Run this branch-and-cuts algorithm on the underlying problem. \"\"\"\n",
    "        \n",
    "        # Current solution.\n",
    "        sol = minilp.result.result()\n",
    "        \n",
    "        while True:\n",
    "            pass\n",
    "                \n",
    "        return sol\n"
   ]
  },
  {
   "cell_type": "markdown",
   "metadata": {},
   "source": [
    "**Exercice:** Using the `tsp_cuts` functions, solve TSP instances found in `tsp.data`.\n",
    "\n",
    "**Question:** How large are the instances you are able to solve in a reasonable amount of time?"
   ]
  },
  {
   "cell_type": "code",
   "execution_count": null,
   "metadata": {},
   "outputs": [],
   "source": [
    "import tsp.data\n",
    "\n",
    "distances = tsp.data.grid5\n",
    "\n",
    "print('=== Cuts ===')\n",
    "r = tsp_branch_and_cuts(distances, lambda p: branch_and_bound(p, solvers.docplex())).run()\n",
    "print(r)"
   ]
  }
 ],
 "metadata": {
  "kernelspec": {
   "display_name": "Python 2",
   "language": "python",
   "name": "python2"
  },
  "language_info": {
   "codemirror_mode": {
    "name": "ipython",
    "version": 2
   },
   "file_extension": ".py",
   "mimetype": "text/x-python",
   "name": "python",
   "nbconvert_exporter": "python",
   "pygments_lexer": "ipython2",
   "version": "2.7.15"
  }
 },
 "nbformat": 4,
 "nbformat_minor": 2
}
